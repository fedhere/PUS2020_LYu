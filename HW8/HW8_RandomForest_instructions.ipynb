{
  "nbformat": 4,
  "nbformat_minor": 0,
  "metadata": {
    "colab": {
      "name": "HW8_RandomForest_instructions.ipynb",
      "provenance": [],
      "collapsed_sections": [],
      "include_colab_link": true
    },
    "kernelspec": {
      "name": "python3",
      "display_name": "Python 3"
    }
  },
  "cells": [
    {
      "cell_type": "markdown",
      "metadata": {
        "id": "view-in-github",
        "colab_type": "text"
      },
      "source": [
        "<a href=\"https://colab.research.google.com/github/lanyu0322/PUS2020_LYu/blob/master/HW8/HW8_RandomForest_instructions.ipynb\" target=\"_parent\"><img src=\"https://colab.research.google.com/assets/colab-badge.svg\" alt=\"Open In Colab\"/></a>"
      ]
    },
    {
      "cell_type": "markdown",
      "metadata": {
        "id": "KW9Oy459fxHz"
      },
      "source": [
        "Following the paper \"Examining the feasibility of using open data to benchmark building energy usage in cities: A data science and policy perspective\" [Roth et al 2019](https://www.researchgate.net/publication/337074109_Examining_the_feasibility_of_using_open_data_to_benchmark_building_energy_usage_in_cities_A_data_science_and_policy_perspective), choose 2 cities in the dataset available through the paper's github repository https://github.com/Urban-Informatics-Lab/Open-Data-Benchmarking\n",
        "\n",
        "This paper is an excellent example of reproducible research. \n",
        "\n",
        "I also created an example of using random forest classifier and regressors here https://github.com/fedhere/PUS2020_FBianco/blob/master/classdemos/COVID19LOS_featureExtractionRFexample.ipynb and there are links at the bottom of this notebook to useful functions and examples on the internet of applications of methods you will need to use.\n",
        "\n",
        "1. Read the introduction to the paper and describe here (briefly) the goals of their analysis (and the analysis that you are about to reproduce). Max 200 words.\n",
        "2. Choose 2 cities (any 2 cities except Seattle cause I am running some of the Seattle analysis below for guidance)\n",
        "3. For each of the 2 cities reproduce their analysis by \n",
        "\n",
        "  3.1 gathering the original data from their repository (see below for Seattle example)\n",
        "\n",
        "  3.2 clean the data according to their data preparation scheme, including one-hot-encoding categorical variables, except to impute missing data using KNearestNeighors instead of Gibbs sampling (see below)\n",
        "\n",
        "  3.3 run a Random Forest (RF) Regressor to predict the total energy consumption.\n",
        "\n",
        "  3.4 evaluate the RF model performance by printing the R2 score (the default score in SKLearn RF) for training and test set (discuss)\n",
        "\n",
        "  3.5 plot the features sorted by their importance and identify the most important features. are they consistent between the 2 cities? are they consistent with the paper's result?\n",
        "4 compare the result for the 2 cities (discuss)\n",
        "\n",
        "5. Extra credit: \n",
        "\n",
        "  5.1 modify the target variable to a binary variable choosing the median of the variable values as the the energy threshold and predict whether the value is higher or lower than the threshold\n",
        "  5.2 Run a Random Forest Classifier to predict if an observation is in the upper 50% percentile or lower 50% percentile (above or below the median threshold)\n",
        "  5.3 Measure the performance of the model on training and test data\n",
        "  5.4 Measure the feature importance and assess if the important feature have changed (discuss)"
      ]
    },
    {
      "cell_type": "markdown",
      "metadata": {
        "id": "5xjeidKnOAO7"
      },
      "source": [
        "# Introduction"
      ]
    },
    {
      "cell_type": "markdown",
      "metadata": {
        "id": "_iwMWFpIOEd_"
      },
      "source": [
        " In this research, the author is measuring building energy performance since buildings are the largest source of urban energy consumption. The goal of this research is evaluating the feasibility of using public open data in two benchmarking models(lasso regression and random forest) and compare results to the same models but using Commercial Building Energy Consumption Survey dataset. In my analysis, I will use the same data and run a Random Forest (RF) Regressor to predict the total energy consumption. Then, I would like to plot the features sorted by their importance and identify the most important features."
      ]
    },
    {
      "cell_type": "code",
      "metadata": {
        "id": "EVupHHIYHuUK"
      },
      "source": [
        "import pandas as pd\n",
        "import numpy as np"
      ],
      "execution_count": 150,
      "outputs": []
    },
    {
      "cell_type": "markdown",
      "metadata": {
        "id": "5Wia-RaAXtJC"
      },
      "source": [
        "# choose a city and read in the data"
      ]
    },
    {
      "cell_type": "code",
      "metadata": {
        "id": "in3VxSUBfqCs"
      },
      "source": [
        "dc = pd.read_csv(\"https://raw.githubusercontent.com/Urban-Informatics-Lab/Open-Data-Benchmarking/master/DC/DC_final.csv\")\n",
        "dc = dc.drop(\"Unnamed: 0\", axis=1)"
      ],
      "execution_count": 151,
      "outputs": []
    },
    {
      "cell_type": "code",
      "metadata": {
        "id": "GSuA6ypuf5_N",
        "outputId": "92e381fb-1021-4943-c5e9-e2e42dba6174",
        "colab": {
          "base_uri": "https://localhost:8080/",
          "height": 443
        }
      },
      "source": [
        "dc\n"
      ],
      "execution_count": 152,
      "outputs": [
        {
          "output_type": "execute_result",
          "data": {
            "text/html": [
              "<div>\n",
              "<style scoped>\n",
              "    .dataframe tbody tr th:only-of-type {\n",
              "        vertical-align: middle;\n",
              "    }\n",
              "\n",
              "    .dataframe tbody tr th {\n",
              "        vertical-align: top;\n",
              "    }\n",
              "\n",
              "    .dataframe thead th {\n",
              "        text-align: right;\n",
              "    }\n",
              "</style>\n",
              "<table border=\"1\" class=\"dataframe\">\n",
              "  <thead>\n",
              "    <tr style=\"text-align: right;\">\n",
              "      <th></th>\n",
              "      <th>report_status</th>\n",
              "      <th>ward</th>\n",
              "      <th>postal_code</th>\n",
              "      <th>year_built</th>\n",
              "      <th>primary_ptype_self</th>\n",
              "      <th>primary_ptype_epa</th>\n",
              "      <th>tax_record_floor_area</th>\n",
              "      <th>reported_gross_floor_area</th>\n",
              "      <th>water_use</th>\n",
              "      <th>metered_areas_energy</th>\n",
              "      <th>metered_areas_water</th>\n",
              "      <th>electricity_use</th>\n",
              "      <th>natural_gas_use</th>\n",
              "      <th>energy_star_score</th>\n",
              "      <th>site_eui</th>\n",
              "      <th>weather_norm_site_eui</th>\n",
              "      <th>source_eui</th>\n",
              "      <th>weather_norm_source_eui</th>\n",
              "      <th>total_ghg_emissions</th>\n",
              "      <th>total_ghg_emissions_intensity</th>\n",
              "      <th>total_site_energy_KBTU</th>\n",
              "      <th>log_total_site_energy_KBTU</th>\n",
              "    </tr>\n",
              "  </thead>\n",
              "  <tbody>\n",
              "    <tr>\n",
              "      <th>0</th>\n",
              "      <td>In Compliance</td>\n",
              "      <td>4</td>\n",
              "      <td>20011</td>\n",
              "      <td>1959</td>\n",
              "      <td>Multifamily Housing</td>\n",
              "      <td>Multifamily Housing</td>\n",
              "      <td>63227.0</td>\n",
              "      <td>65000.0</td>\n",
              "      <td>6963.5</td>\n",
              "      <td>Whole Building</td>\n",
              "      <td>Whole Building</td>\n",
              "      <td>633043.8</td>\n",
              "      <td>44274.183070</td>\n",
              "      <td>9.0</td>\n",
              "      <td>101.3</td>\n",
              "      <td>102.7</td>\n",
              "      <td>175.9</td>\n",
              "      <td>174.9</td>\n",
              "      <td>482.9</td>\n",
              "      <td>7.4</td>\n",
              "      <td>6584500.0</td>\n",
              "      <td>15.700229</td>\n",
              "    </tr>\n",
              "    <tr>\n",
              "      <th>1</th>\n",
              "      <td>In Compliance</td>\n",
              "      <td>2</td>\n",
              "      <td>20005</td>\n",
              "      <td>1997</td>\n",
              "      <td>Office</td>\n",
              "      <td>Office</td>\n",
              "      <td>251557.0</td>\n",
              "      <td>257943.0</td>\n",
              "      <td>8490.0</td>\n",
              "      <td>Whole Building</td>\n",
              "      <td>Whole Building</td>\n",
              "      <td>5531486.0</td>\n",
              "      <td>NaN</td>\n",
              "      <td>69.0</td>\n",
              "      <td>73.2</td>\n",
              "      <td>73.2</td>\n",
              "      <td>229.8</td>\n",
              "      <td>229.8</td>\n",
              "      <td>2164.4</td>\n",
              "      <td>8.4</td>\n",
              "      <td>18881427.6</td>\n",
              "      <td>16.753689</td>\n",
              "    </tr>\n",
              "    <tr>\n",
              "      <th>2</th>\n",
              "      <td>In Compliance</td>\n",
              "      <td>2</td>\n",
              "      <td>20036</td>\n",
              "      <td>1964</td>\n",
              "      <td>Office</td>\n",
              "      <td>Office</td>\n",
              "      <td>330550.0</td>\n",
              "      <td>223218.0</td>\n",
              "      <td>8749.1</td>\n",
              "      <td>Whole Building</td>\n",
              "      <td>Whole Building</td>\n",
              "      <td>3863003.0</td>\n",
              "      <td>64143.386660</td>\n",
              "      <td>76.0</td>\n",
              "      <td>87.8</td>\n",
              "      <td>89.0</td>\n",
              "      <td>215.6</td>\n",
              "      <td>215.0</td>\n",
              "      <td>1852.2</td>\n",
              "      <td>8.3</td>\n",
              "      <td>19598540.4</td>\n",
              "      <td>16.790966</td>\n",
              "    </tr>\n",
              "    <tr>\n",
              "      <th>3</th>\n",
              "      <td>In Compliance</td>\n",
              "      <td>2</td>\n",
              "      <td>22202</td>\n",
              "      <td>1969</td>\n",
              "      <td>Office</td>\n",
              "      <td>Office</td>\n",
              "      <td>256839.0</td>\n",
              "      <td>213067.0</td>\n",
              "      <td>5393.8</td>\n",
              "      <td>Whole Building</td>\n",
              "      <td>Whole Building</td>\n",
              "      <td>2936445.0</td>\n",
              "      <td>NaN</td>\n",
              "      <td>87.0</td>\n",
              "      <td>47.0</td>\n",
              "      <td>46.4</td>\n",
              "      <td>147.7</td>\n",
              "      <td>145.8</td>\n",
              "      <td>1249.2</td>\n",
              "      <td>5.9</td>\n",
              "      <td>10014149.0</td>\n",
              "      <td>16.119510</td>\n",
              "    </tr>\n",
              "    <tr>\n",
              "      <th>4</th>\n",
              "      <td>In Compliance</td>\n",
              "      <td>2</td>\n",
              "      <td>20037</td>\n",
              "      <td>1975</td>\n",
              "      <td>Office</td>\n",
              "      <td>Office</td>\n",
              "      <td>370000.0</td>\n",
              "      <td>381518.0</td>\n",
              "      <td>10422.6</td>\n",
              "      <td>Whole Building</td>\n",
              "      <td>Whole Building</td>\n",
              "      <td>7345290.0</td>\n",
              "      <td>NaN</td>\n",
              "      <td>85.0</td>\n",
              "      <td>65.7</td>\n",
              "      <td>65.7</td>\n",
              "      <td>206.3</td>\n",
              "      <td>206.3</td>\n",
              "      <td>2874.1</td>\n",
              "      <td>7.5</td>\n",
              "      <td>25065732.6</td>\n",
              "      <td>17.037012</td>\n",
              "    </tr>\n",
              "    <tr>\n",
              "      <th>...</th>\n",
              "      <td>...</td>\n",
              "      <td>...</td>\n",
              "      <td>...</td>\n",
              "      <td>...</td>\n",
              "      <td>...</td>\n",
              "      <td>...</td>\n",
              "      <td>...</td>\n",
              "      <td>...</td>\n",
              "      <td>...</td>\n",
              "      <td>...</td>\n",
              "      <td>...</td>\n",
              "      <td>...</td>\n",
              "      <td>...</td>\n",
              "      <td>...</td>\n",
              "      <td>...</td>\n",
              "      <td>...</td>\n",
              "      <td>...</td>\n",
              "      <td>...</td>\n",
              "      <td>...</td>\n",
              "      <td>...</td>\n",
              "      <td>...</td>\n",
              "      <td>...</td>\n",
              "    </tr>\n",
              "    <tr>\n",
              "      <th>1450</th>\n",
              "      <td>In Compliance</td>\n",
              "      <td>5</td>\n",
              "      <td>20017</td>\n",
              "      <td>2013</td>\n",
              "      <td>Multifamily Housing</td>\n",
              "      <td>Multifamily Housing</td>\n",
              "      <td>186504.0</td>\n",
              "      <td>99365.0</td>\n",
              "      <td>3632.8</td>\n",
              "      <td>Whole Building</td>\n",
              "      <td>Whole Building</td>\n",
              "      <td>1074708.0</td>\n",
              "      <td>7011.827737</td>\n",
              "      <td>89.0</td>\n",
              "      <td>44.0</td>\n",
              "      <td>44.3</td>\n",
              "      <td>123.3</td>\n",
              "      <td>123.6</td>\n",
              "      <td>457.8</td>\n",
              "      <td>4.6</td>\n",
              "      <td>4372060.0</td>\n",
              "      <td>15.290745</td>\n",
              "    </tr>\n",
              "    <tr>\n",
              "      <th>1451</th>\n",
              "      <td>In Compliance</td>\n",
              "      <td>5</td>\n",
              "      <td>20017</td>\n",
              "      <td>2013</td>\n",
              "      <td>Multifamily Housing</td>\n",
              "      <td>Multifamily Housing</td>\n",
              "      <td>162898.0</td>\n",
              "      <td>162898.0</td>\n",
              "      <td>5737.4</td>\n",
              "      <td>Whole Building</td>\n",
              "      <td>Whole Building</td>\n",
              "      <td>1740264.0</td>\n",
              "      <td>5418.386531</td>\n",
              "      <td>46.0</td>\n",
              "      <td>39.8</td>\n",
              "      <td>39.8</td>\n",
              "      <td>117.9</td>\n",
              "      <td>117.9</td>\n",
              "      <td>709.7</td>\n",
              "      <td>4.4</td>\n",
              "      <td>6483340.4</td>\n",
              "      <td>15.684746</td>\n",
              "    </tr>\n",
              "    <tr>\n",
              "      <th>1452</th>\n",
              "      <td>In Compliance</td>\n",
              "      <td>5</td>\n",
              "      <td>20017</td>\n",
              "      <td>2014</td>\n",
              "      <td>Multifamily Housing</td>\n",
              "      <td>Multifamily Housing</td>\n",
              "      <td>196755.0</td>\n",
              "      <td>196755.0</td>\n",
              "      <td>11079.4</td>\n",
              "      <td>Whole Building</td>\n",
              "      <td>Whole Building</td>\n",
              "      <td>2948059.0</td>\n",
              "      <td>27518.532620</td>\n",
              "      <td>5.0</td>\n",
              "      <td>65.1</td>\n",
              "      <td>65.5</td>\n",
              "      <td>175.2</td>\n",
              "      <td>175.7</td>\n",
              "      <td>1299.7</td>\n",
              "      <td>6.6</td>\n",
              "      <td>12808750.5</td>\n",
              "      <td>16.365639</td>\n",
              "    </tr>\n",
              "    <tr>\n",
              "      <th>1453</th>\n",
              "      <td>Data under review by DOEE</td>\n",
              "      <td>1</td>\n",
              "      <td>20059</td>\n",
              "      <td>1979</td>\n",
              "      <td>College/University</td>\n",
              "      <td>Other</td>\n",
              "      <td>1095275.0</td>\n",
              "      <td>145000.0</td>\n",
              "      <td>14218.5</td>\n",
              "      <td>Whole Building</td>\n",
              "      <td>Whole Building</td>\n",
              "      <td>NaN</td>\n",
              "      <td>19007.333460</td>\n",
              "      <td>NaN</td>\n",
              "      <td>13.1</td>\n",
              "      <td>13.1</td>\n",
              "      <td>13.8</td>\n",
              "      <td>13.8</td>\n",
              "      <td>101.0</td>\n",
              "      <td>0.7</td>\n",
              "      <td>1899500.0</td>\n",
              "      <td>14.457101</td>\n",
              "    </tr>\n",
              "    <tr>\n",
              "      <th>1454</th>\n",
              "      <td>Data under review by DOEE</td>\n",
              "      <td>1</td>\n",
              "      <td>20059</td>\n",
              "      <td>1994</td>\n",
              "      <td>Residence Hall/Dormitory</td>\n",
              "      <td>Residence Hall/Dormitory</td>\n",
              "      <td>190514.0</td>\n",
              "      <td>225000.0</td>\n",
              "      <td>13090.2</td>\n",
              "      <td>Whole Building</td>\n",
              "      <td>Whole Building</td>\n",
              "      <td>NaN</td>\n",
              "      <td>35192.500280</td>\n",
              "      <td>100.0</td>\n",
              "      <td>15.6</td>\n",
              "      <td>15.6</td>\n",
              "      <td>16.4</td>\n",
              "      <td>16.4</td>\n",
              "      <td>186.9</td>\n",
              "      <td>0.8</td>\n",
              "      <td>3510000.0</td>\n",
              "      <td>15.071127</td>\n",
              "    </tr>\n",
              "  </tbody>\n",
              "</table>\n",
              "<p>1455 rows × 22 columns</p>\n",
              "</div>"
            ],
            "text/plain": [
              "                  report_status  ...  log_total_site_energy_KBTU\n",
              "0                 In Compliance  ...                   15.700229\n",
              "1                 In Compliance  ...                   16.753689\n",
              "2                 In Compliance  ...                   16.790966\n",
              "3                 In Compliance  ...                   16.119510\n",
              "4                 In Compliance  ...                   17.037012\n",
              "...                         ...  ...                         ...\n",
              "1450              In Compliance  ...                   15.290745\n",
              "1451              In Compliance  ...                   15.684746\n",
              "1452              In Compliance  ...                   16.365639\n",
              "1453  Data under review by DOEE  ...                   14.457101\n",
              "1454  Data under review by DOEE  ...                   15.071127\n",
              "\n",
              "[1455 rows x 22 columns]"
            ]
          },
          "metadata": {
            "tags": []
          },
          "execution_count": 152
        }
      ]
    },
    {
      "cell_type": "code",
      "metadata": {
        "id": "Fp5RrzJ31aAw",
        "outputId": "baf7d48a-4874-44df-f62e-78e28fc3a9d2",
        "colab": {
          "base_uri": "https://localhost:8080/",
          "height": 1000
        }
      },
      "source": [
        "ld = pd.read_csv(\"https://raw.githubusercontent.com/Urban-Informatics-Lab/Open-Data-Benchmarking/master/London/london_final.csv\")\n",
        "ld  = ld.drop(\"Unnamed: 0\", axis=1)\n",
        "ld"
      ],
      "execution_count": 153,
      "outputs": [
        {
          "output_type": "execute_result",
          "data": {
            "text/html": [
              "<div>\n",
              "<style scoped>\n",
              "    .dataframe tbody tr th:only-of-type {\n",
              "        vertical-align: middle;\n",
              "    }\n",
              "\n",
              "    .dataframe tbody tr th {\n",
              "        vertical-align: top;\n",
              "    }\n",
              "\n",
              "    .dataframe thead th {\n",
              "        text-align: right;\n",
              "    }\n",
              "</style>\n",
              "<table border=\"1\" class=\"dataframe\">\n",
              "  <thead>\n",
              "    <tr style=\"text-align: right;\">\n",
              "      <th></th>\n",
              "      <th>rrn</th>\n",
              "      <th>post_town</th>\n",
              "      <th>county</th>\n",
              "      <th>zip</th>\n",
              "      <th>energy_rating_band</th>\n",
              "      <th>energy_rating</th>\n",
              "      <th>total_CO2_emissions_MT</th>\n",
              "      <th>heating_fuel_type</th>\n",
              "      <th>hvac_type</th>\n",
              "      <th>floor_area_M2</th>\n",
              "      <th>fuel_eui_KWHM2</th>\n",
              "      <th>electricity_eui_KWHM2</th>\n",
              "      <th>typical_fuel_eui_KWHM2</th>\n",
              "      <th>typical_electricity_eui_KWHM2</th>\n",
              "      <th>renewables_percent_thermal</th>\n",
              "      <th>renewables_percent_electrical</th>\n",
              "      <th>total_heat_energy_KWH</th>\n",
              "      <th>total_electricity_KWH</th>\n",
              "      <th>total_heat_energy_typical_KWH</th>\n",
              "      <th>total_electricity_typical_KWH</th>\n",
              "      <th>floor_area_SF</th>\n",
              "      <th>total_site_energy_KBTU</th>\n",
              "      <th>log_total_site_energy_KBTU</th>\n",
              "      <th>site_eui_KBTUSF</th>\n",
              "    </tr>\n",
              "  </thead>\n",
              "  <tbody>\n",
              "    <tr>\n",
              "      <th>0</th>\n",
              "      <td>0793-0110-4549-4309-1096</td>\n",
              "      <td>LONDON</td>\n",
              "      <td>Greater London Authority</td>\n",
              "      <td>9729</td>\n",
              "      <td>D</td>\n",
              "      <td>89</td>\n",
              "      <td>99</td>\n",
              "      <td>Natural Gas</td>\n",
              "      <td>Heating and Mechanical Ventilation</td>\n",
              "      <td>1241.00</td>\n",
              "      <td>113</td>\n",
              "      <td>106</td>\n",
              "      <td>237</td>\n",
              "      <td>80</td>\n",
              "      <td>0.0</td>\n",
              "      <td>0.0</td>\n",
              "      <td>140233.00</td>\n",
              "      <td>131546.00</td>\n",
              "      <td>294117.00</td>\n",
              "      <td>99280.00</td>\n",
              "      <td>13357.99990</td>\n",
              "      <td>9.273480e+05</td>\n",
              "      <td>13.740084</td>\n",
              "      <td>69.422668</td>\n",
              "    </tr>\n",
              "    <tr>\n",
              "      <th>1</th>\n",
              "      <td>9090-1984-0130-1780-7004</td>\n",
              "      <td>GREENFORD</td>\n",
              "      <td>Greater London Authority</td>\n",
              "      <td>16964</td>\n",
              "      <td>E</td>\n",
              "      <td>102</td>\n",
              "      <td>191</td>\n",
              "      <td>Natural Gas</td>\n",
              "      <td>Heating and Natural Ventilation</td>\n",
              "      <td>2512.00</td>\n",
              "      <td>178</td>\n",
              "      <td>75</td>\n",
              "      <td>225</td>\n",
              "      <td>56</td>\n",
              "      <td>0.0</td>\n",
              "      <td>0.0</td>\n",
              "      <td>447136.00</td>\n",
              "      <td>188400.00</td>\n",
              "      <td>565200.00</td>\n",
              "      <td>140672.00</td>\n",
              "      <td>27038.91680</td>\n",
              "      <td>2.168538e+06</td>\n",
              "      <td>14.589564</td>\n",
              "      <td>80.200617</td>\n",
              "    </tr>\n",
              "    <tr>\n",
              "      <th>2</th>\n",
              "      <td>9770-1059-0907-0690-7901</td>\n",
              "      <td>CROYDON</td>\n",
              "      <td>Greater London Authority</td>\n",
              "      <td>3321</td>\n",
              "      <td>D</td>\n",
              "      <td>77</td>\n",
              "      <td>99</td>\n",
              "      <td>Natural Gas</td>\n",
              "      <td>Heating and Natural Ventilation</td>\n",
              "      <td>1555.00</td>\n",
              "      <td>195</td>\n",
              "      <td>47</td>\n",
              "      <td>251</td>\n",
              "      <td>62</td>\n",
              "      <td>0.0</td>\n",
              "      <td>0.0</td>\n",
              "      <td>303225.00</td>\n",
              "      <td>73085.00</td>\n",
              "      <td>390305.00</td>\n",
              "      <td>96410.00</td>\n",
              "      <td>16737.86450</td>\n",
              "      <td>1.284022e+06</td>\n",
              "      <td>14.065508</td>\n",
              "      <td>76.713634</td>\n",
              "    </tr>\n",
              "    <tr>\n",
              "      <th>3</th>\n",
              "      <td>0770-0210-5879-1709-4096</td>\n",
              "      <td>CROYDON</td>\n",
              "      <td>Greater London Authority</td>\n",
              "      <td>3320</td>\n",
              "      <td>F</td>\n",
              "      <td>143</td>\n",
              "      <td>95</td>\n",
              "      <td>Natural Gas</td>\n",
              "      <td>Heating and Natural Ventilation</td>\n",
              "      <td>1302.80</td>\n",
              "      <td>225</td>\n",
              "      <td>53</td>\n",
              "      <td>148</td>\n",
              "      <td>40</td>\n",
              "      <td>0.0</td>\n",
              "      <td>0.0</td>\n",
              "      <td>293130.00</td>\n",
              "      <td>69048.40</td>\n",
              "      <td>192814.40</td>\n",
              "      <td>52112.00</td>\n",
              "      <td>14023.20892</td>\n",
              "      <td>1.235803e+06</td>\n",
              "      <td>14.027232</td>\n",
              "      <td>88.125579</td>\n",
              "    </tr>\n",
              "    <tr>\n",
              "      <th>4</th>\n",
              "      <td>0166-1060-0216-0290-5501</td>\n",
              "      <td>CROYDON</td>\n",
              "      <td>Greater London Authority</td>\n",
              "      <td>3381</td>\n",
              "      <td>E</td>\n",
              "      <td>106</td>\n",
              "      <td>67</td>\n",
              "      <td>Natural Gas</td>\n",
              "      <td>Air Conditioning</td>\n",
              "      <td>1097.00</td>\n",
              "      <td>103</td>\n",
              "      <td>75</td>\n",
              "      <td>42</td>\n",
              "      <td>91</td>\n",
              "      <td>0.0</td>\n",
              "      <td>0.0</td>\n",
              "      <td>112991.00</td>\n",
              "      <td>82275.00</td>\n",
              "      <td>46074.00</td>\n",
              "      <td>99827.00</td>\n",
              "      <td>11807.99830</td>\n",
              "      <td>6.662749e+05</td>\n",
              "      <td>13.409458</td>\n",
              "      <td>56.425730</td>\n",
              "    </tr>\n",
              "    <tr>\n",
              "      <th>...</th>\n",
              "      <td>...</td>\n",
              "      <td>...</td>\n",
              "      <td>...</td>\n",
              "      <td>...</td>\n",
              "      <td>...</td>\n",
              "      <td>...</td>\n",
              "      <td>...</td>\n",
              "      <td>...</td>\n",
              "      <td>...</td>\n",
              "      <td>...</td>\n",
              "      <td>...</td>\n",
              "      <td>...</td>\n",
              "      <td>...</td>\n",
              "      <td>...</td>\n",
              "      <td>...</td>\n",
              "      <td>...</td>\n",
              "      <td>...</td>\n",
              "      <td>...</td>\n",
              "      <td>...</td>\n",
              "      <td>...</td>\n",
              "      <td>...</td>\n",
              "      <td>...</td>\n",
              "      <td>...</td>\n",
              "      <td>...</td>\n",
              "    </tr>\n",
              "    <tr>\n",
              "      <th>23469</th>\n",
              "      <td>0240-4985-0180-7730-0024</td>\n",
              "      <td>WORTHING</td>\n",
              "      <td>NaN</td>\n",
              "      <td>1697</td>\n",
              "      <td>E</td>\n",
              "      <td>120</td>\n",
              "      <td>156</td>\n",
              "      <td>Natural Gas</td>\n",
              "      <td>Heating and Natural Ventilation</td>\n",
              "      <td>1355.00</td>\n",
              "      <td>393</td>\n",
              "      <td>71</td>\n",
              "      <td>310</td>\n",
              "      <td>66</td>\n",
              "      <td>0.0</td>\n",
              "      <td>0.0</td>\n",
              "      <td>532515.00</td>\n",
              "      <td>96205.00</td>\n",
              "      <td>420050.00</td>\n",
              "      <td>89430.00</td>\n",
              "      <td>14585.08450</td>\n",
              "      <td>2.145281e+06</td>\n",
              "      <td>14.578781</td>\n",
              "      <td>147.087297</td>\n",
              "    </tr>\n",
              "    <tr>\n",
              "      <th>23470</th>\n",
              "      <td>0950-0310-9579-1907-4006</td>\n",
              "      <td>VIRGINIA WATER</td>\n",
              "      <td>NaN</td>\n",
              "      <td>6225</td>\n",
              "      <td>D</td>\n",
              "      <td>82</td>\n",
              "      <td>114</td>\n",
              "      <td>Natural Gas</td>\n",
              "      <td>Heating and Natural Ventilation</td>\n",
              "      <td>1750.67</td>\n",
              "      <td>117</td>\n",
              "      <td>77</td>\n",
              "      <td>121</td>\n",
              "      <td>103</td>\n",
              "      <td>0.0</td>\n",
              "      <td>0.0</td>\n",
              "      <td>204828.39</td>\n",
              "      <td>134801.59</td>\n",
              "      <td>211831.07</td>\n",
              "      <td>180319.01</td>\n",
              "      <td>18844.03681</td>\n",
              "      <td>1.158865e+06</td>\n",
              "      <td>13.962952</td>\n",
              "      <td>61.497706</td>\n",
              "    </tr>\n",
              "    <tr>\n",
              "      <th>23471</th>\n",
              "      <td>0941-0310-0599-6477-0002</td>\n",
              "      <td>SOUTHPORT</td>\n",
              "      <td>NaN</td>\n",
              "      <td>12671</td>\n",
              "      <td>D</td>\n",
              "      <td>99</td>\n",
              "      <td>142</td>\n",
              "      <td>Natural Gas</td>\n",
              "      <td>Heating and Natural Ventilation</td>\n",
              "      <td>1020.00</td>\n",
              "      <td>392</td>\n",
              "      <td>116</td>\n",
              "      <td>462</td>\n",
              "      <td>90</td>\n",
              "      <td>0.0</td>\n",
              "      <td>0.0</td>\n",
              "      <td>399840.00</td>\n",
              "      <td>118320.00</td>\n",
              "      <td>471240.00</td>\n",
              "      <td>91800.00</td>\n",
              "      <td>10979.17800</td>\n",
              "      <td>1.768034e+06</td>\n",
              "      <td>14.385379</td>\n",
              "      <td>161.035231</td>\n",
              "    </tr>\n",
              "    <tr>\n",
              "      <th>23472</th>\n",
              "      <td>0271-0110-3899-1327-8006</td>\n",
              "      <td>COVENTRY</td>\n",
              "      <td>NaN</td>\n",
              "      <td>3611</td>\n",
              "      <td>F</td>\n",
              "      <td>149</td>\n",
              "      <td>695</td>\n",
              "      <td>Natural Gas</td>\n",
              "      <td>Heating and Natural Ventilation</td>\n",
              "      <td>5088.00</td>\n",
              "      <td>275</td>\n",
              "      <td>151</td>\n",
              "      <td>167</td>\n",
              "      <td>108</td>\n",
              "      <td>0.0</td>\n",
              "      <td>26.2</td>\n",
              "      <td>1399200.00</td>\n",
              "      <td>768288.00</td>\n",
              "      <td>849696.00</td>\n",
              "      <td>549504.00</td>\n",
              "      <td>54766.72320</td>\n",
              "      <td>7.395773e+06</td>\n",
              "      <td>15.816419</td>\n",
              "      <td>135.041355</td>\n",
              "    </tr>\n",
              "    <tr>\n",
              "      <th>23473</th>\n",
              "      <td>0150-0210-4119-7997-2002</td>\n",
              "      <td>BIRMINGHAM</td>\n",
              "      <td>NaN</td>\n",
              "      <td>182</td>\n",
              "      <td>D</td>\n",
              "      <td>94</td>\n",
              "      <td>1682</td>\n",
              "      <td>Natural Gas</td>\n",
              "      <td>Mixed-mode with Natural Ventilation</td>\n",
              "      <td>14816.00</td>\n",
              "      <td>119</td>\n",
              "      <td>164</td>\n",
              "      <td>168</td>\n",
              "      <td>160</td>\n",
              "      <td>0.0</td>\n",
              "      <td>35.7</td>\n",
              "      <td>1763104.00</td>\n",
              "      <td>2429824.00</td>\n",
              "      <td>2489088.00</td>\n",
              "      <td>2370560.00</td>\n",
              "      <td>159477.94240</td>\n",
              "      <td>1.430686e+07</td>\n",
              "      <td>16.476250</td>\n",
              "      <td>89.710571</td>\n",
              "    </tr>\n",
              "  </tbody>\n",
              "</table>\n",
              "<p>23474 rows × 24 columns</p>\n",
              "</div>"
            ],
            "text/plain": [
              "                            rrn  ... site_eui_KBTUSF\n",
              "0      0793-0110-4549-4309-1096  ...       69.422668\n",
              "1      9090-1984-0130-1780-7004  ...       80.200617\n",
              "2      9770-1059-0907-0690-7901  ...       76.713634\n",
              "3      0770-0210-5879-1709-4096  ...       88.125579\n",
              "4      0166-1060-0216-0290-5501  ...       56.425730\n",
              "...                         ...  ...             ...\n",
              "23469  0240-4985-0180-7730-0024  ...      147.087297\n",
              "23470  0950-0310-9579-1907-4006  ...       61.497706\n",
              "23471  0941-0310-0599-6477-0002  ...      161.035231\n",
              "23472  0271-0110-3899-1327-8006  ...      135.041355\n",
              "23473  0150-0210-4119-7997-2002  ...       89.710571\n",
              "\n",
              "[23474 rows x 24 columns]"
            ]
          },
          "metadata": {
            "tags": []
          },
          "execution_count": 153
        }
      ]
    },
    {
      "cell_type": "markdown",
      "metadata": {
        "id": "2U-1HZY2Xodw"
      },
      "source": [
        "# inspect the dataframe"
      ]
    },
    {
      "cell_type": "code",
      "metadata": {
        "id": "9ex4IhId0Sis",
        "outputId": "9515cb89-8c0e-44d1-9e9a-4577c76181ca",
        "colab": {
          "base_uri": "https://localhost:8080/",
          "height": 297
        }
      },
      "source": [
        "dc.describe()"
      ],
      "execution_count": 154,
      "outputs": [
        {
          "output_type": "execute_result",
          "data": {
            "text/html": [
              "<div>\n",
              "<style scoped>\n",
              "    .dataframe tbody tr th:only-of-type {\n",
              "        vertical-align: middle;\n",
              "    }\n",
              "\n",
              "    .dataframe tbody tr th {\n",
              "        vertical-align: top;\n",
              "    }\n",
              "\n",
              "    .dataframe thead th {\n",
              "        text-align: right;\n",
              "    }\n",
              "</style>\n",
              "<table border=\"1\" class=\"dataframe\">\n",
              "  <thead>\n",
              "    <tr style=\"text-align: right;\">\n",
              "      <th></th>\n",
              "      <th>ward</th>\n",
              "      <th>year_built</th>\n",
              "      <th>tax_record_floor_area</th>\n",
              "      <th>reported_gross_floor_area</th>\n",
              "      <th>water_use</th>\n",
              "      <th>electricity_use</th>\n",
              "      <th>natural_gas_use</th>\n",
              "      <th>energy_star_score</th>\n",
              "      <th>site_eui</th>\n",
              "      <th>weather_norm_site_eui</th>\n",
              "      <th>source_eui</th>\n",
              "      <th>weather_norm_source_eui</th>\n",
              "      <th>total_ghg_emissions</th>\n",
              "      <th>total_ghg_emissions_intensity</th>\n",
              "      <th>total_site_energy_KBTU</th>\n",
              "      <th>log_total_site_energy_KBTU</th>\n",
              "    </tr>\n",
              "  </thead>\n",
              "  <tbody>\n",
              "    <tr>\n",
              "      <th>count</th>\n",
              "      <td>1455.000000</td>\n",
              "      <td>1455.000000</td>\n",
              "      <td>1.455000e+03</td>\n",
              "      <td>1.455000e+03</td>\n",
              "      <td>1.455000e+03</td>\n",
              "      <td>1.441000e+03</td>\n",
              "      <td>1.054000e+03</td>\n",
              "      <td>1184.000000</td>\n",
              "      <td>1455.000000</td>\n",
              "      <td>1393.000000</td>\n",
              "      <td>1455.000000</td>\n",
              "      <td>1393.000000</td>\n",
              "      <td>1454.000000</td>\n",
              "      <td>1454.000000</td>\n",
              "      <td>1.455000e+03</td>\n",
              "      <td>1455.000000</td>\n",
              "    </tr>\n",
              "    <tr>\n",
              "      <th>mean</th>\n",
              "      <td>3.472852</td>\n",
              "      <td>1940.804811</td>\n",
              "      <td>2.046748e+05</td>\n",
              "      <td>1.897612e+05</td>\n",
              "      <td>5.109905e+04</td>\n",
              "      <td>2.760114e+06</td>\n",
              "      <td>5.853217e+04</td>\n",
              "      <td>62.090372</td>\n",
              "      <td>69.960206</td>\n",
              "      <td>70.745154</td>\n",
              "      <td>171.274433</td>\n",
              "      <td>171.302872</td>\n",
              "      <td>1318.734388</td>\n",
              "      <td>6.674278</td>\n",
              "      <td>1.344870e+07</td>\n",
              "      <td>15.905810</td>\n",
              "    </tr>\n",
              "    <tr>\n",
              "      <th>std</th>\n",
              "      <td>2.047691</td>\n",
              "      <td>167.230361</td>\n",
              "      <td>2.451302e+05</td>\n",
              "      <td>2.436786e+05</td>\n",
              "      <td>6.163321e+05</td>\n",
              "      <td>4.599984e+06</td>\n",
              "      <td>2.617060e+05</td>\n",
              "      <td>26.792483</td>\n",
              "      <td>30.676317</td>\n",
              "      <td>31.476591</td>\n",
              "      <td>76.707287</td>\n",
              "      <td>76.884877</td>\n",
              "      <td>2458.471157</td>\n",
              "      <td>3.143349</td>\n",
              "      <td>2.843799e+07</td>\n",
              "      <td>0.991320</td>\n",
              "    </tr>\n",
              "    <tr>\n",
              "      <th>min</th>\n",
              "      <td>1.000000</td>\n",
              "      <td>1000.000000</td>\n",
              "      <td>9.171000e+03</td>\n",
              "      <td>9.171000e+03</td>\n",
              "      <td>0.000000e+00</td>\n",
              "      <td>1.785000e+02</td>\n",
              "      <td>0.000000e+00</td>\n",
              "      <td>1.000000</td>\n",
              "      <td>1.100000</td>\n",
              "      <td>1.100000</td>\n",
              "      <td>1.200000</td>\n",
              "      <td>1.200000</td>\n",
              "      <td>3.100000</td>\n",
              "      <td>0.100000</td>\n",
              "      <td>5.729350e+04</td>\n",
              "      <td>10.955942</td>\n",
              "    </tr>\n",
              "    <tr>\n",
              "      <th>25%</th>\n",
              "      <td>2.000000</td>\n",
              "      <td>1947.000000</td>\n",
              "      <td>7.164000e+04</td>\n",
              "      <td>7.111750e+04</td>\n",
              "      <td>1.958050e+03</td>\n",
              "      <td>7.435930e+05</td>\n",
              "      <td>1.121760e+04</td>\n",
              "      <td>43.750000</td>\n",
              "      <td>51.600000</td>\n",
              "      <td>51.900000</td>\n",
              "      <td>121.850000</td>\n",
              "      <td>121.600000</td>\n",
              "      <td>400.450000</td>\n",
              "      <td>4.800000</td>\n",
              "      <td>4.513227e+06</td>\n",
              "      <td>15.322523</td>\n",
              "    </tr>\n",
              "    <tr>\n",
              "      <th>50%</th>\n",
              "      <td>2.000000</td>\n",
              "      <td>1971.000000</td>\n",
              "      <td>1.287720e+05</td>\n",
              "      <td>1.215530e+05</td>\n",
              "      <td>4.063800e+03</td>\n",
              "      <td>1.612028e+06</td>\n",
              "      <td>2.770698e+04</td>\n",
              "      <td>70.000000</td>\n",
              "      <td>65.900000</td>\n",
              "      <td>66.600000</td>\n",
              "      <td>163.300000</td>\n",
              "      <td>163.400000</td>\n",
              "      <td>757.100000</td>\n",
              "      <td>6.300000</td>\n",
              "      <td>8.156027e+06</td>\n",
              "      <td>15.914268</td>\n",
              "    </tr>\n",
              "    <tr>\n",
              "      <th>75%</th>\n",
              "      <td>5.000000</td>\n",
              "      <td>1994.000000</td>\n",
              "      <td>2.585310e+05</td>\n",
              "      <td>2.372130e+05</td>\n",
              "      <td>7.008700e+03</td>\n",
              "      <td>3.386553e+06</td>\n",
              "      <td>5.154631e+04</td>\n",
              "      <td>84.000000</td>\n",
              "      <td>82.850000</td>\n",
              "      <td>84.500000</td>\n",
              "      <td>206.450000</td>\n",
              "      <td>207.400000</td>\n",
              "      <td>1534.450000</td>\n",
              "      <td>7.800000</td>\n",
              "      <td>1.565570e+07</td>\n",
              "      <td>16.566343</td>\n",
              "    </tr>\n",
              "    <tr>\n",
              "      <th>max</th>\n",
              "      <td>8.000000</td>\n",
              "      <td>2017.000000</td>\n",
              "      <td>3.997572e+06</td>\n",
              "      <td>5.634890e+06</td>\n",
              "      <td>1.929391e+07</td>\n",
              "      <td>1.207430e+08</td>\n",
              "      <td>7.269109e+06</td>\n",
              "      <td>100.000000</td>\n",
              "      <td>213.600000</td>\n",
              "      <td>215.500000</td>\n",
              "      <td>618.600000</td>\n",
              "      <td>620.600000</td>\n",
              "      <td>64992.500000</td>\n",
              "      <td>30.600000</td>\n",
              "      <td>7.832497e+08</td>\n",
              "      <td>20.478962</td>\n",
              "    </tr>\n",
              "  </tbody>\n",
              "</table>\n",
              "</div>"
            ],
            "text/plain": [
              "              ward  ...  log_total_site_energy_KBTU\n",
              "count  1455.000000  ...                 1455.000000\n",
              "mean      3.472852  ...                   15.905810\n",
              "std       2.047691  ...                    0.991320\n",
              "min       1.000000  ...                   10.955942\n",
              "25%       2.000000  ...                   15.322523\n",
              "50%       2.000000  ...                   15.914268\n",
              "75%       5.000000  ...                   16.566343\n",
              "max       8.000000  ...                   20.478962\n",
              "\n",
              "[8 rows x 16 columns]"
            ]
          },
          "metadata": {
            "tags": []
          },
          "execution_count": 154
        }
      ]
    },
    {
      "cell_type": "code",
      "metadata": {
        "id": "S4NdQ9XR3_e4",
        "outputId": "ffe9c8b0-65d2-4d0c-b487-50e2f5203653",
        "colab": {
          "base_uri": "https://localhost:8080/",
          "height": 297
        }
      },
      "source": [
        "ld.describe()"
      ],
      "execution_count": 155,
      "outputs": [
        {
          "output_type": "execute_result",
          "data": {
            "text/html": [
              "<div>\n",
              "<style scoped>\n",
              "    .dataframe tbody tr th:only-of-type {\n",
              "        vertical-align: middle;\n",
              "    }\n",
              "\n",
              "    .dataframe tbody tr th {\n",
              "        vertical-align: top;\n",
              "    }\n",
              "\n",
              "    .dataframe thead th {\n",
              "        text-align: right;\n",
              "    }\n",
              "</style>\n",
              "<table border=\"1\" class=\"dataframe\">\n",
              "  <thead>\n",
              "    <tr style=\"text-align: right;\">\n",
              "      <th></th>\n",
              "      <th>zip</th>\n",
              "      <th>energy_rating</th>\n",
              "      <th>total_CO2_emissions_MT</th>\n",
              "      <th>floor_area_M2</th>\n",
              "      <th>fuel_eui_KWHM2</th>\n",
              "      <th>electricity_eui_KWHM2</th>\n",
              "      <th>typical_fuel_eui_KWHM2</th>\n",
              "      <th>typical_electricity_eui_KWHM2</th>\n",
              "      <th>renewables_percent_thermal</th>\n",
              "      <th>renewables_percent_electrical</th>\n",
              "      <th>total_heat_energy_KWH</th>\n",
              "      <th>total_electricity_KWH</th>\n",
              "      <th>total_heat_energy_typical_KWH</th>\n",
              "      <th>total_electricity_typical_KWH</th>\n",
              "      <th>floor_area_SF</th>\n",
              "      <th>total_site_energy_KBTU</th>\n",
              "      <th>log_total_site_energy_KBTU</th>\n",
              "      <th>site_eui_KBTUSF</th>\n",
              "    </tr>\n",
              "  </thead>\n",
              "  <tbody>\n",
              "    <tr>\n",
              "      <th>count</th>\n",
              "      <td>23474.000000</td>\n",
              "      <td>23474.000000</td>\n",
              "      <td>23474.000000</td>\n",
              "      <td>23474.000000</td>\n",
              "      <td>23474.000000</td>\n",
              "      <td>23474.00000</td>\n",
              "      <td>23474.000000</td>\n",
              "      <td>23474.000000</td>\n",
              "      <td>23474.000000</td>\n",
              "      <td>23474.000000</td>\n",
              "      <td>2.347400e+04</td>\n",
              "      <td>2.347400e+04</td>\n",
              "      <td>2.347400e+04</td>\n",
              "      <td>2.347400e+04</td>\n",
              "      <td>2.347400e+04</td>\n",
              "      <td>2.347400e+04</td>\n",
              "      <td>23474.000000</td>\n",
              "      <td>23474.000000</td>\n",
              "    </tr>\n",
              "    <tr>\n",
              "      <th>mean</th>\n",
              "      <td>9271.378887</td>\n",
              "      <td>134.872966</td>\n",
              "      <td>304.372029</td>\n",
              "      <td>3448.422946</td>\n",
              "      <td>169.854861</td>\n",
              "      <td>76.29390</td>\n",
              "      <td>212.057638</td>\n",
              "      <td>65.405129</td>\n",
              "      <td>0.157949</td>\n",
              "      <td>0.424793</td>\n",
              "      <td>6.236950e+05</td>\n",
              "      <td>3.293685e+05</td>\n",
              "      <td>8.143107e+05</td>\n",
              "      <td>2.552551e+05</td>\n",
              "      <td>3.711848e+04</td>\n",
              "      <td>3.251986e+06</td>\n",
              "      <td>14.360666</td>\n",
              "      <td>78.028784</td>\n",
              "    </tr>\n",
              "    <tr>\n",
              "      <th>std</th>\n",
              "      <td>5320.827711</td>\n",
              "      <td>581.743761</td>\n",
              "      <td>882.967259</td>\n",
              "      <td>6432.287065</td>\n",
              "      <td>100.733843</td>\n",
              "      <td>55.41504</td>\n",
              "      <td>116.658846</td>\n",
              "      <td>33.401942</td>\n",
              "      <td>2.498934</td>\n",
              "      <td>4.355098</td>\n",
              "      <td>1.913214e+06</td>\n",
              "      <td>1.010481e+06</td>\n",
              "      <td>2.398929e+06</td>\n",
              "      <td>6.078081e+05</td>\n",
              "      <td>6.923649e+04</td>\n",
              "      <td>9.391810e+06</td>\n",
              "      <td>0.947959</td>\n",
              "      <td>39.438203</td>\n",
              "    </tr>\n",
              "    <tr>\n",
              "      <th>min</th>\n",
              "      <td>1.000000</td>\n",
              "      <td>-1.000000</td>\n",
              "      <td>0.000000</td>\n",
              "      <td>1.000000</td>\n",
              "      <td>0.000000</td>\n",
              "      <td>0.00000</td>\n",
              "      <td>0.000000</td>\n",
              "      <td>0.000000</td>\n",
              "      <td>0.000000</td>\n",
              "      <td>0.000000</td>\n",
              "      <td>0.000000e+00</td>\n",
              "      <td>0.000000e+00</td>\n",
              "      <td>0.000000e+00</td>\n",
              "      <td>0.000000e+00</td>\n",
              "      <td>1.076390e+01</td>\n",
              "      <td>1.269316e+03</td>\n",
              "      <td>7.146234</td>\n",
              "      <td>1.267994</td>\n",
              "    </tr>\n",
              "    <tr>\n",
              "      <th>25%</th>\n",
              "      <td>4663.250000</td>\n",
              "      <td>77.000000</td>\n",
              "      <td>78.000000</td>\n",
              "      <td>1322.000000</td>\n",
              "      <td>108.000000</td>\n",
              "      <td>42.00000</td>\n",
              "      <td>154.000000</td>\n",
              "      <td>40.000000</td>\n",
              "      <td>0.000000</td>\n",
              "      <td>0.000000</td>\n",
              "      <td>1.820040e+05</td>\n",
              "      <td>6.684000e+04</td>\n",
              "      <td>2.229379e+05</td>\n",
              "      <td>6.455020e+04</td>\n",
              "      <td>1.422988e+04</td>\n",
              "      <td>9.038492e+05</td>\n",
              "      <td>13.714418</td>\n",
              "      <td>52.304750</td>\n",
              "    </tr>\n",
              "    <tr>\n",
              "      <th>50%</th>\n",
              "      <td>9286.500000</td>\n",
              "      <td>95.000000</td>\n",
              "      <td>127.000000</td>\n",
              "      <td>1907.000000</td>\n",
              "      <td>146.000000</td>\n",
              "      <td>58.00000</td>\n",
              "      <td>165.000000</td>\n",
              "      <td>50.000000</td>\n",
              "      <td>0.000000</td>\n",
              "      <td>0.000000</td>\n",
              "      <td>2.990530e+05</td>\n",
              "      <td>1.156260e+05</td>\n",
              "      <td>3.630060e+05</td>\n",
              "      <td>1.106326e+05</td>\n",
              "      <td>2.052676e+04</td>\n",
              "      <td>1.468815e+06</td>\n",
              "      <td>14.199966</td>\n",
              "      <td>66.252684</td>\n",
              "    </tr>\n",
              "    <tr>\n",
              "      <th>75%</th>\n",
              "      <td>13841.750000</td>\n",
              "      <td>116.000000</td>\n",
              "      <td>261.000000</td>\n",
              "      <td>3379.750000</td>\n",
              "      <td>203.000000</td>\n",
              "      <td>92.00000</td>\n",
              "      <td>234.000000</td>\n",
              "      <td>83.000000</td>\n",
              "      <td>0.000000</td>\n",
              "      <td>0.000000</td>\n",
              "      <td>5.754570e+05</td>\n",
              "      <td>2.723235e+05</td>\n",
              "      <td>7.364308e+05</td>\n",
              "      <td>2.431839e+05</td>\n",
              "      <td>3.637929e+04</td>\n",
              "      <td>2.883832e+06</td>\n",
              "      <td>14.874630</td>\n",
              "      <td>91.612562</td>\n",
              "    </tr>\n",
              "    <tr>\n",
              "      <th>max</th>\n",
              "      <td>18480.000000</td>\n",
              "      <td>9999.000000</td>\n",
              "      <td>34439.000000</td>\n",
              "      <td>280912.000000</td>\n",
              "      <td>746.000000</td>\n",
              "      <td>725.00000</td>\n",
              "      <td>1455.000000</td>\n",
              "      <td>337.000000</td>\n",
              "      <td>90.300000</td>\n",
              "      <td>100.000000</td>\n",
              "      <td>9.905038e+07</td>\n",
              "      <td>3.334334e+07</td>\n",
              "      <td>1.123648e+08</td>\n",
              "      <td>2.556299e+07</td>\n",
              "      <td>3.023709e+06</td>\n",
              "      <td>4.322920e+08</td>\n",
              "      <td>19.884612</td>\n",
              "      <td>256.451775</td>\n",
              "    </tr>\n",
              "  </tbody>\n",
              "</table>\n",
              "</div>"
            ],
            "text/plain": [
              "                zip  energy_rating  ...  log_total_site_energy_KBTU  site_eui_KBTUSF\n",
              "count  23474.000000   23474.000000  ...                23474.000000     23474.000000\n",
              "mean    9271.378887     134.872966  ...                   14.360666        78.028784\n",
              "std     5320.827711     581.743761  ...                    0.947959        39.438203\n",
              "min        1.000000      -1.000000  ...                    7.146234         1.267994\n",
              "25%     4663.250000      77.000000  ...                   13.714418        52.304750\n",
              "50%     9286.500000      95.000000  ...                   14.199966        66.252684\n",
              "75%    13841.750000     116.000000  ...                   14.874630        91.612562\n",
              "max    18480.000000    9999.000000  ...                   19.884612       256.451775\n",
              "\n",
              "[8 rows x 18 columns]"
            ]
          },
          "metadata": {
            "tags": []
          },
          "execution_count": 155
        }
      ]
    },
    {
      "cell_type": "markdown",
      "metadata": {
        "id": "t2N6DSrXXx5z"
      },
      "source": [
        "# Clean the data \n",
        "follow closely the second paragraph of Section 4 DATA. Name each step you do accordingly to the description in the paragraf\n",
        "https://www.researchgate.net/publication/337074109_Examining_the_feasibility_of_using_open_data_to_benchmark_building_energy_usage_in_cities_A_data_science_and_policy_perspective \n",
        "\n",
        "you can also help yourself inspecting the final datasets posted on the github repo but name each action according to the paper narrative: for example, if you drop \"Building ID\" indicate that this is done as part of \n",
        "_We then cleaned the datasets by removing irrelevant building-identifying features (such as\n",
        "address)_, or if dropping a variable with too many missing values _removing features that had missing values for greater than 40% of the buildings in the dataset._"
      ]
    },
    {
      "cell_type": "code",
      "metadata": {
        "id": "4_WvSTGJ0huf",
        "outputId": "313c9b64-f879-4ea6-d463-0c1d43557017",
        "colab": {
          "base_uri": "https://localhost:8080/"
        }
      },
      "source": [
        "# summarize the number of rows with missing values for each column\n",
        "for c in dc.columns:\n",
        "  # count number of rows with missing values\n",
        "  n_miss = dc[c].isnull().sum()\n",
        "  perc = n_miss / dc.shape[0] * 100\n",
        "  print('%s (%s):  Missing: %d (%.1f%%)' % (c, dc[c].dtype, \n",
        "                                                  n_miss, perc))\n"
      ],
      "execution_count": 156,
      "outputs": [
        {
          "output_type": "stream",
          "text": [
            "report_status (object):  Missing: 0 (0.0%)\n",
            "ward (int64):  Missing: 0 (0.0%)\n",
            "postal_code (object):  Missing: 0 (0.0%)\n",
            "year_built (int64):  Missing: 0 (0.0%)\n",
            "primary_ptype_self (object):  Missing: 0 (0.0%)\n",
            "primary_ptype_epa (object):  Missing: 0 (0.0%)\n",
            "tax_record_floor_area (float64):  Missing: 0 (0.0%)\n",
            "reported_gross_floor_area (float64):  Missing: 0 (0.0%)\n",
            "water_use (float64):  Missing: 0 (0.0%)\n",
            "metered_areas_energy (object):  Missing: 0 (0.0%)\n",
            "metered_areas_water (object):  Missing: 0 (0.0%)\n",
            "electricity_use (float64):  Missing: 14 (1.0%)\n",
            "natural_gas_use (float64):  Missing: 401 (27.6%)\n",
            "energy_star_score (float64):  Missing: 271 (18.6%)\n",
            "site_eui (float64):  Missing: 0 (0.0%)\n",
            "weather_norm_site_eui (float64):  Missing: 62 (4.3%)\n",
            "source_eui (float64):  Missing: 0 (0.0%)\n",
            "weather_norm_source_eui (float64):  Missing: 62 (4.3%)\n",
            "total_ghg_emissions (float64):  Missing: 1 (0.1%)\n",
            "total_ghg_emissions_intensity (float64):  Missing: 1 (0.1%)\n",
            "total_site_energy_KBTU (float64):  Missing: 0 (0.0%)\n",
            "log_total_site_energy_KBTU (float64):  Missing: 0 (0.0%)\n"
          ],
          "name": "stdout"
        }
      ]
    },
    {
      "cell_type": "markdown",
      "metadata": {
        "id": "zmd80CaSwsZx"
      },
      "source": [
        "We can see there is no missing rows for all columns in nyc data. Thus, we want to confirm whether there are zeros in the logarithm column. \n",
        "For the philly, we only have two columns have missing rows, but both of them are not as high as 40%. So we do not need to remove it now.\n",
        "\n",
        "\n"
      ]
    },
    {
      "cell_type": "code",
      "metadata": {
        "id": "uKEvlTUwAZc2",
        "outputId": "e9e39ca8-a5e4-4a5b-9709-3ff5244b86aa",
        "colab": {
          "base_uri": "https://localhost:8080/",
          "height": 67
        }
      },
      "source": [
        "dc[dc[\"tax_record_floor_area\"] == 0]\n"
      ],
      "execution_count": 157,
      "outputs": [
        {
          "output_type": "execute_result",
          "data": {
            "text/html": [
              "<div>\n",
              "<style scoped>\n",
              "    .dataframe tbody tr th:only-of-type {\n",
              "        vertical-align: middle;\n",
              "    }\n",
              "\n",
              "    .dataframe tbody tr th {\n",
              "        vertical-align: top;\n",
              "    }\n",
              "\n",
              "    .dataframe thead th {\n",
              "        text-align: right;\n",
              "    }\n",
              "</style>\n",
              "<table border=\"1\" class=\"dataframe\">\n",
              "  <thead>\n",
              "    <tr style=\"text-align: right;\">\n",
              "      <th></th>\n",
              "      <th>report_status</th>\n",
              "      <th>ward</th>\n",
              "      <th>postal_code</th>\n",
              "      <th>year_built</th>\n",
              "      <th>primary_ptype_self</th>\n",
              "      <th>primary_ptype_epa</th>\n",
              "      <th>tax_record_floor_area</th>\n",
              "      <th>reported_gross_floor_area</th>\n",
              "      <th>water_use</th>\n",
              "      <th>metered_areas_energy</th>\n",
              "      <th>metered_areas_water</th>\n",
              "      <th>electricity_use</th>\n",
              "      <th>natural_gas_use</th>\n",
              "      <th>energy_star_score</th>\n",
              "      <th>site_eui</th>\n",
              "      <th>weather_norm_site_eui</th>\n",
              "      <th>source_eui</th>\n",
              "      <th>weather_norm_source_eui</th>\n",
              "      <th>total_ghg_emissions</th>\n",
              "      <th>total_ghg_emissions_intensity</th>\n",
              "      <th>total_site_energy_KBTU</th>\n",
              "      <th>log_total_site_energy_KBTU</th>\n",
              "    </tr>\n",
              "  </thead>\n",
              "  <tbody>\n",
              "  </tbody>\n",
              "</table>\n",
              "</div>"
            ],
            "text/plain": [
              "Empty DataFrame\n",
              "Columns: [report_status, ward, postal_code, year_built, primary_ptype_self, primary_ptype_epa, tax_record_floor_area, reported_gross_floor_area, water_use, metered_areas_energy, metered_areas_water, electricity_use, natural_gas_use, energy_star_score, site_eui, weather_norm_site_eui, source_eui, weather_norm_source_eui, total_ghg_emissions, total_ghg_emissions_intensity, total_site_energy_KBTU, log_total_site_energy_KBTU]\n",
              "Index: []"
            ]
          },
          "metadata": {
            "tags": []
          },
          "execution_count": 157
        }
      ]
    },
    {
      "cell_type": "code",
      "metadata": {
        "id": "a3Gq4Qa_Aiox",
        "outputId": "03d517a9-6f15-4e5e-bd39-28ae7cd1c7b6",
        "colab": {
          "base_uri": "https://localhost:8080/",
          "height": 67
        }
      },
      "source": [
        "dc[dc[\"reported_gross_floor_area\"] == 0]"
      ],
      "execution_count": 158,
      "outputs": [
        {
          "output_type": "execute_result",
          "data": {
            "text/html": [
              "<div>\n",
              "<style scoped>\n",
              "    .dataframe tbody tr th:only-of-type {\n",
              "        vertical-align: middle;\n",
              "    }\n",
              "\n",
              "    .dataframe tbody tr th {\n",
              "        vertical-align: top;\n",
              "    }\n",
              "\n",
              "    .dataframe thead th {\n",
              "        text-align: right;\n",
              "    }\n",
              "</style>\n",
              "<table border=\"1\" class=\"dataframe\">\n",
              "  <thead>\n",
              "    <tr style=\"text-align: right;\">\n",
              "      <th></th>\n",
              "      <th>report_status</th>\n",
              "      <th>ward</th>\n",
              "      <th>postal_code</th>\n",
              "      <th>year_built</th>\n",
              "      <th>primary_ptype_self</th>\n",
              "      <th>primary_ptype_epa</th>\n",
              "      <th>tax_record_floor_area</th>\n",
              "      <th>reported_gross_floor_area</th>\n",
              "      <th>water_use</th>\n",
              "      <th>metered_areas_energy</th>\n",
              "      <th>metered_areas_water</th>\n",
              "      <th>electricity_use</th>\n",
              "      <th>natural_gas_use</th>\n",
              "      <th>energy_star_score</th>\n",
              "      <th>site_eui</th>\n",
              "      <th>weather_norm_site_eui</th>\n",
              "      <th>source_eui</th>\n",
              "      <th>weather_norm_source_eui</th>\n",
              "      <th>total_ghg_emissions</th>\n",
              "      <th>total_ghg_emissions_intensity</th>\n",
              "      <th>total_site_energy_KBTU</th>\n",
              "      <th>log_total_site_energy_KBTU</th>\n",
              "    </tr>\n",
              "  </thead>\n",
              "  <tbody>\n",
              "  </tbody>\n",
              "</table>\n",
              "</div>"
            ],
            "text/plain": [
              "Empty DataFrame\n",
              "Columns: [report_status, ward, postal_code, year_built, primary_ptype_self, primary_ptype_epa, tax_record_floor_area, reported_gross_floor_area, water_use, metered_areas_energy, metered_areas_water, electricity_use, natural_gas_use, energy_star_score, site_eui, weather_norm_site_eui, source_eui, weather_norm_source_eui, total_ghg_emissions, total_ghg_emissions_intensity, total_site_energy_KBTU, log_total_site_energy_KBTU]\n",
              "Index: []"
            ]
          },
          "metadata": {
            "tags": []
          },
          "execution_count": 158
        }
      ]
    },
    {
      "cell_type": "code",
      "metadata": {
        "id": "Dr14IsKbAj81",
        "outputId": "311e976d-f7d0-4657-93c0-a71e448c3306",
        "colab": {
          "base_uri": "https://localhost:8080/",
          "height": 125
        }
      },
      "source": [
        "dc[dc[\"water_use\"] == 0]"
      ],
      "execution_count": 159,
      "outputs": [
        {
          "output_type": "execute_result",
          "data": {
            "text/html": [
              "<div>\n",
              "<style scoped>\n",
              "    .dataframe tbody tr th:only-of-type {\n",
              "        vertical-align: middle;\n",
              "    }\n",
              "\n",
              "    .dataframe tbody tr th {\n",
              "        vertical-align: top;\n",
              "    }\n",
              "\n",
              "    .dataframe thead th {\n",
              "        text-align: right;\n",
              "    }\n",
              "</style>\n",
              "<table border=\"1\" class=\"dataframe\">\n",
              "  <thead>\n",
              "    <tr style=\"text-align: right;\">\n",
              "      <th></th>\n",
              "      <th>report_status</th>\n",
              "      <th>ward</th>\n",
              "      <th>postal_code</th>\n",
              "      <th>year_built</th>\n",
              "      <th>primary_ptype_self</th>\n",
              "      <th>primary_ptype_epa</th>\n",
              "      <th>tax_record_floor_area</th>\n",
              "      <th>reported_gross_floor_area</th>\n",
              "      <th>water_use</th>\n",
              "      <th>metered_areas_energy</th>\n",
              "      <th>metered_areas_water</th>\n",
              "      <th>electricity_use</th>\n",
              "      <th>natural_gas_use</th>\n",
              "      <th>energy_star_score</th>\n",
              "      <th>site_eui</th>\n",
              "      <th>weather_norm_site_eui</th>\n",
              "      <th>source_eui</th>\n",
              "      <th>weather_norm_source_eui</th>\n",
              "      <th>total_ghg_emissions</th>\n",
              "      <th>total_ghg_emissions_intensity</th>\n",
              "      <th>total_site_energy_KBTU</th>\n",
              "      <th>log_total_site_energy_KBTU</th>\n",
              "    </tr>\n",
              "  </thead>\n",
              "  <tbody>\n",
              "    <tr>\n",
              "      <th>503</th>\n",
              "      <td>In Compliance</td>\n",
              "      <td>7</td>\n",
              "      <td>20019</td>\n",
              "      <td>1962</td>\n",
              "      <td>K-12 School</td>\n",
              "      <td>K-12 School</td>\n",
              "      <td>59900.0</td>\n",
              "      <td>59900.0</td>\n",
              "      <td>0.0</td>\n",
              "      <td>Whole Building</td>\n",
              "      <td>Whole Building</td>\n",
              "      <td>538880.0</td>\n",
              "      <td>20455.0002</td>\n",
              "      <td>51.0</td>\n",
              "      <td>64.8</td>\n",
              "      <td>67.1</td>\n",
              "      <td>132.2</td>\n",
              "      <td>133.7</td>\n",
              "      <td>312.6</td>\n",
              "      <td>5.2</td>\n",
              "      <td>3881520.0</td>\n",
              "      <td>15.171737</td>\n",
              "    </tr>\n",
              "    <tr>\n",
              "      <th>1233</th>\n",
              "      <td>In Compliance</td>\n",
              "      <td>6</td>\n",
              "      <td>20024</td>\n",
              "      <td>1926</td>\n",
              "      <td>Multifamily Housing</td>\n",
              "      <td>Multifamily Housing</td>\n",
              "      <td>13722.0</td>\n",
              "      <td>13722.0</td>\n",
              "      <td>0.0</td>\n",
              "      <td>Whole Building</td>\n",
              "      <td>Whole Building</td>\n",
              "      <td>20106.0</td>\n",
              "      <td>0.0000</td>\n",
              "      <td>NaN</td>\n",
              "      <td>5.0</td>\n",
              "      <td>5.0</td>\n",
              "      <td>15.7</td>\n",
              "      <td>15.7</td>\n",
              "      <td>7.6</td>\n",
              "      <td>0.6</td>\n",
              "      <td>68610.0</td>\n",
              "      <td>11.136194</td>\n",
              "    </tr>\n",
              "  </tbody>\n",
              "</table>\n",
              "</div>"
            ],
            "text/plain": [
              "      report_status  ward  ... total_site_energy_KBTU  log_total_site_energy_KBTU\n",
              "503   In Compliance     7  ...              3881520.0                   15.171737\n",
              "1233  In Compliance     6  ...                68610.0                   11.136194\n",
              "\n",
              "[2 rows x 22 columns]"
            ]
          },
          "metadata": {
            "tags": []
          },
          "execution_count": 159
        }
      ]
    },
    {
      "cell_type": "code",
      "metadata": {
        "id": "fNfAcRpMAu4V",
        "outputId": "0fcf8222-9ada-40fb-902f-fea5c7938f5b",
        "colab": {
          "base_uri": "https://localhost:8080/",
          "height": 443
        }
      },
      "source": [
        "dc = dc[dc[\"water_use\"] != 0]\n",
        "dc"
      ],
      "execution_count": 160,
      "outputs": [
        {
          "output_type": "execute_result",
          "data": {
            "text/html": [
              "<div>\n",
              "<style scoped>\n",
              "    .dataframe tbody tr th:only-of-type {\n",
              "        vertical-align: middle;\n",
              "    }\n",
              "\n",
              "    .dataframe tbody tr th {\n",
              "        vertical-align: top;\n",
              "    }\n",
              "\n",
              "    .dataframe thead th {\n",
              "        text-align: right;\n",
              "    }\n",
              "</style>\n",
              "<table border=\"1\" class=\"dataframe\">\n",
              "  <thead>\n",
              "    <tr style=\"text-align: right;\">\n",
              "      <th></th>\n",
              "      <th>report_status</th>\n",
              "      <th>ward</th>\n",
              "      <th>postal_code</th>\n",
              "      <th>year_built</th>\n",
              "      <th>primary_ptype_self</th>\n",
              "      <th>primary_ptype_epa</th>\n",
              "      <th>tax_record_floor_area</th>\n",
              "      <th>reported_gross_floor_area</th>\n",
              "      <th>water_use</th>\n",
              "      <th>metered_areas_energy</th>\n",
              "      <th>metered_areas_water</th>\n",
              "      <th>electricity_use</th>\n",
              "      <th>natural_gas_use</th>\n",
              "      <th>energy_star_score</th>\n",
              "      <th>site_eui</th>\n",
              "      <th>weather_norm_site_eui</th>\n",
              "      <th>source_eui</th>\n",
              "      <th>weather_norm_source_eui</th>\n",
              "      <th>total_ghg_emissions</th>\n",
              "      <th>total_ghg_emissions_intensity</th>\n",
              "      <th>total_site_energy_KBTU</th>\n",
              "      <th>log_total_site_energy_KBTU</th>\n",
              "    </tr>\n",
              "  </thead>\n",
              "  <tbody>\n",
              "    <tr>\n",
              "      <th>0</th>\n",
              "      <td>In Compliance</td>\n",
              "      <td>4</td>\n",
              "      <td>20011</td>\n",
              "      <td>1959</td>\n",
              "      <td>Multifamily Housing</td>\n",
              "      <td>Multifamily Housing</td>\n",
              "      <td>63227.0</td>\n",
              "      <td>65000.0</td>\n",
              "      <td>6963.5</td>\n",
              "      <td>Whole Building</td>\n",
              "      <td>Whole Building</td>\n",
              "      <td>633043.8</td>\n",
              "      <td>44274.183070</td>\n",
              "      <td>9.0</td>\n",
              "      <td>101.3</td>\n",
              "      <td>102.7</td>\n",
              "      <td>175.9</td>\n",
              "      <td>174.9</td>\n",
              "      <td>482.9</td>\n",
              "      <td>7.4</td>\n",
              "      <td>6584500.0</td>\n",
              "      <td>15.700229</td>\n",
              "    </tr>\n",
              "    <tr>\n",
              "      <th>1</th>\n",
              "      <td>In Compliance</td>\n",
              "      <td>2</td>\n",
              "      <td>20005</td>\n",
              "      <td>1997</td>\n",
              "      <td>Office</td>\n",
              "      <td>Office</td>\n",
              "      <td>251557.0</td>\n",
              "      <td>257943.0</td>\n",
              "      <td>8490.0</td>\n",
              "      <td>Whole Building</td>\n",
              "      <td>Whole Building</td>\n",
              "      <td>5531486.0</td>\n",
              "      <td>NaN</td>\n",
              "      <td>69.0</td>\n",
              "      <td>73.2</td>\n",
              "      <td>73.2</td>\n",
              "      <td>229.8</td>\n",
              "      <td>229.8</td>\n",
              "      <td>2164.4</td>\n",
              "      <td>8.4</td>\n",
              "      <td>18881427.6</td>\n",
              "      <td>16.753689</td>\n",
              "    </tr>\n",
              "    <tr>\n",
              "      <th>2</th>\n",
              "      <td>In Compliance</td>\n",
              "      <td>2</td>\n",
              "      <td>20036</td>\n",
              "      <td>1964</td>\n",
              "      <td>Office</td>\n",
              "      <td>Office</td>\n",
              "      <td>330550.0</td>\n",
              "      <td>223218.0</td>\n",
              "      <td>8749.1</td>\n",
              "      <td>Whole Building</td>\n",
              "      <td>Whole Building</td>\n",
              "      <td>3863003.0</td>\n",
              "      <td>64143.386660</td>\n",
              "      <td>76.0</td>\n",
              "      <td>87.8</td>\n",
              "      <td>89.0</td>\n",
              "      <td>215.6</td>\n",
              "      <td>215.0</td>\n",
              "      <td>1852.2</td>\n",
              "      <td>8.3</td>\n",
              "      <td>19598540.4</td>\n",
              "      <td>16.790966</td>\n",
              "    </tr>\n",
              "    <tr>\n",
              "      <th>3</th>\n",
              "      <td>In Compliance</td>\n",
              "      <td>2</td>\n",
              "      <td>22202</td>\n",
              "      <td>1969</td>\n",
              "      <td>Office</td>\n",
              "      <td>Office</td>\n",
              "      <td>256839.0</td>\n",
              "      <td>213067.0</td>\n",
              "      <td>5393.8</td>\n",
              "      <td>Whole Building</td>\n",
              "      <td>Whole Building</td>\n",
              "      <td>2936445.0</td>\n",
              "      <td>NaN</td>\n",
              "      <td>87.0</td>\n",
              "      <td>47.0</td>\n",
              "      <td>46.4</td>\n",
              "      <td>147.7</td>\n",
              "      <td>145.8</td>\n",
              "      <td>1249.2</td>\n",
              "      <td>5.9</td>\n",
              "      <td>10014149.0</td>\n",
              "      <td>16.119510</td>\n",
              "    </tr>\n",
              "    <tr>\n",
              "      <th>4</th>\n",
              "      <td>In Compliance</td>\n",
              "      <td>2</td>\n",
              "      <td>20037</td>\n",
              "      <td>1975</td>\n",
              "      <td>Office</td>\n",
              "      <td>Office</td>\n",
              "      <td>370000.0</td>\n",
              "      <td>381518.0</td>\n",
              "      <td>10422.6</td>\n",
              "      <td>Whole Building</td>\n",
              "      <td>Whole Building</td>\n",
              "      <td>7345290.0</td>\n",
              "      <td>NaN</td>\n",
              "      <td>85.0</td>\n",
              "      <td>65.7</td>\n",
              "      <td>65.7</td>\n",
              "      <td>206.3</td>\n",
              "      <td>206.3</td>\n",
              "      <td>2874.1</td>\n",
              "      <td>7.5</td>\n",
              "      <td>25065732.6</td>\n",
              "      <td>17.037012</td>\n",
              "    </tr>\n",
              "    <tr>\n",
              "      <th>...</th>\n",
              "      <td>...</td>\n",
              "      <td>...</td>\n",
              "      <td>...</td>\n",
              "      <td>...</td>\n",
              "      <td>...</td>\n",
              "      <td>...</td>\n",
              "      <td>...</td>\n",
              "      <td>...</td>\n",
              "      <td>...</td>\n",
              "      <td>...</td>\n",
              "      <td>...</td>\n",
              "      <td>...</td>\n",
              "      <td>...</td>\n",
              "      <td>...</td>\n",
              "      <td>...</td>\n",
              "      <td>...</td>\n",
              "      <td>...</td>\n",
              "      <td>...</td>\n",
              "      <td>...</td>\n",
              "      <td>...</td>\n",
              "      <td>...</td>\n",
              "      <td>...</td>\n",
              "    </tr>\n",
              "    <tr>\n",
              "      <th>1450</th>\n",
              "      <td>In Compliance</td>\n",
              "      <td>5</td>\n",
              "      <td>20017</td>\n",
              "      <td>2013</td>\n",
              "      <td>Multifamily Housing</td>\n",
              "      <td>Multifamily Housing</td>\n",
              "      <td>186504.0</td>\n",
              "      <td>99365.0</td>\n",
              "      <td>3632.8</td>\n",
              "      <td>Whole Building</td>\n",
              "      <td>Whole Building</td>\n",
              "      <td>1074708.0</td>\n",
              "      <td>7011.827737</td>\n",
              "      <td>89.0</td>\n",
              "      <td>44.0</td>\n",
              "      <td>44.3</td>\n",
              "      <td>123.3</td>\n",
              "      <td>123.6</td>\n",
              "      <td>457.8</td>\n",
              "      <td>4.6</td>\n",
              "      <td>4372060.0</td>\n",
              "      <td>15.290745</td>\n",
              "    </tr>\n",
              "    <tr>\n",
              "      <th>1451</th>\n",
              "      <td>In Compliance</td>\n",
              "      <td>5</td>\n",
              "      <td>20017</td>\n",
              "      <td>2013</td>\n",
              "      <td>Multifamily Housing</td>\n",
              "      <td>Multifamily Housing</td>\n",
              "      <td>162898.0</td>\n",
              "      <td>162898.0</td>\n",
              "      <td>5737.4</td>\n",
              "      <td>Whole Building</td>\n",
              "      <td>Whole Building</td>\n",
              "      <td>1740264.0</td>\n",
              "      <td>5418.386531</td>\n",
              "      <td>46.0</td>\n",
              "      <td>39.8</td>\n",
              "      <td>39.8</td>\n",
              "      <td>117.9</td>\n",
              "      <td>117.9</td>\n",
              "      <td>709.7</td>\n",
              "      <td>4.4</td>\n",
              "      <td>6483340.4</td>\n",
              "      <td>15.684746</td>\n",
              "    </tr>\n",
              "    <tr>\n",
              "      <th>1452</th>\n",
              "      <td>In Compliance</td>\n",
              "      <td>5</td>\n",
              "      <td>20017</td>\n",
              "      <td>2014</td>\n",
              "      <td>Multifamily Housing</td>\n",
              "      <td>Multifamily Housing</td>\n",
              "      <td>196755.0</td>\n",
              "      <td>196755.0</td>\n",
              "      <td>11079.4</td>\n",
              "      <td>Whole Building</td>\n",
              "      <td>Whole Building</td>\n",
              "      <td>2948059.0</td>\n",
              "      <td>27518.532620</td>\n",
              "      <td>5.0</td>\n",
              "      <td>65.1</td>\n",
              "      <td>65.5</td>\n",
              "      <td>175.2</td>\n",
              "      <td>175.7</td>\n",
              "      <td>1299.7</td>\n",
              "      <td>6.6</td>\n",
              "      <td>12808750.5</td>\n",
              "      <td>16.365639</td>\n",
              "    </tr>\n",
              "    <tr>\n",
              "      <th>1453</th>\n",
              "      <td>Data under review by DOEE</td>\n",
              "      <td>1</td>\n",
              "      <td>20059</td>\n",
              "      <td>1979</td>\n",
              "      <td>College/University</td>\n",
              "      <td>Other</td>\n",
              "      <td>1095275.0</td>\n",
              "      <td>145000.0</td>\n",
              "      <td>14218.5</td>\n",
              "      <td>Whole Building</td>\n",
              "      <td>Whole Building</td>\n",
              "      <td>NaN</td>\n",
              "      <td>19007.333460</td>\n",
              "      <td>NaN</td>\n",
              "      <td>13.1</td>\n",
              "      <td>13.1</td>\n",
              "      <td>13.8</td>\n",
              "      <td>13.8</td>\n",
              "      <td>101.0</td>\n",
              "      <td>0.7</td>\n",
              "      <td>1899500.0</td>\n",
              "      <td>14.457101</td>\n",
              "    </tr>\n",
              "    <tr>\n",
              "      <th>1454</th>\n",
              "      <td>Data under review by DOEE</td>\n",
              "      <td>1</td>\n",
              "      <td>20059</td>\n",
              "      <td>1994</td>\n",
              "      <td>Residence Hall/Dormitory</td>\n",
              "      <td>Residence Hall/Dormitory</td>\n",
              "      <td>190514.0</td>\n",
              "      <td>225000.0</td>\n",
              "      <td>13090.2</td>\n",
              "      <td>Whole Building</td>\n",
              "      <td>Whole Building</td>\n",
              "      <td>NaN</td>\n",
              "      <td>35192.500280</td>\n",
              "      <td>100.0</td>\n",
              "      <td>15.6</td>\n",
              "      <td>15.6</td>\n",
              "      <td>16.4</td>\n",
              "      <td>16.4</td>\n",
              "      <td>186.9</td>\n",
              "      <td>0.8</td>\n",
              "      <td>3510000.0</td>\n",
              "      <td>15.071127</td>\n",
              "    </tr>\n",
              "  </tbody>\n",
              "</table>\n",
              "<p>1453 rows × 22 columns</p>\n",
              "</div>"
            ],
            "text/plain": [
              "                  report_status  ...  log_total_site_energy_KBTU\n",
              "0                 In Compliance  ...                   15.700229\n",
              "1                 In Compliance  ...                   16.753689\n",
              "2                 In Compliance  ...                   16.790966\n",
              "3                 In Compliance  ...                   16.119510\n",
              "4                 In Compliance  ...                   17.037012\n",
              "...                         ...  ...                         ...\n",
              "1450              In Compliance  ...                   15.290745\n",
              "1451              In Compliance  ...                   15.684746\n",
              "1452              In Compliance  ...                   16.365639\n",
              "1453  Data under review by DOEE  ...                   14.457101\n",
              "1454  Data under review by DOEE  ...                   15.071127\n",
              "\n",
              "[1453 rows x 22 columns]"
            ]
          },
          "metadata": {
            "tags": []
          },
          "execution_count": 160
        }
      ]
    },
    {
      "cell_type": "code",
      "metadata": {
        "id": "UBbFFX5Q4DXM",
        "outputId": "503b3adb-b454-4d43-b090-bcf51bf887cf",
        "colab": {
          "base_uri": "https://localhost:8080/"
        }
      },
      "source": [
        "# summarize the number of rows with missing values for each column\n",
        "for c in ld.columns:\n",
        "  # count number of rows with missing values\n",
        "  n_miss = ld[c].isnull().sum()\n",
        "  perc = n_miss / ld.shape[0] * 100\n",
        "  print('%s (%s):  Missing: %d (%.1f%%)' % (c, ld[c].dtype, \n",
        "                                                  n_miss, perc))"
      ],
      "execution_count": 161,
      "outputs": [
        {
          "output_type": "stream",
          "text": [
            "rrn (object):  Missing: 0 (0.0%)\n",
            "post_town (object):  Missing: 0 (0.0%)\n",
            "county (object):  Missing: 26 (0.1%)\n",
            "zip (int64):  Missing: 0 (0.0%)\n",
            "energy_rating_band (object):  Missing: 0 (0.0%)\n",
            "energy_rating (int64):  Missing: 0 (0.0%)\n",
            "total_CO2_emissions_MT (int64):  Missing: 0 (0.0%)\n",
            "heating_fuel_type (object):  Missing: 1 (0.0%)\n",
            "hvac_type (object):  Missing: 0 (0.0%)\n",
            "floor_area_M2 (float64):  Missing: 0 (0.0%)\n",
            "fuel_eui_KWHM2 (int64):  Missing: 0 (0.0%)\n",
            "electricity_eui_KWHM2 (int64):  Missing: 0 (0.0%)\n",
            "typical_fuel_eui_KWHM2 (int64):  Missing: 0 (0.0%)\n",
            "typical_electricity_eui_KWHM2 (int64):  Missing: 0 (0.0%)\n",
            "renewables_percent_thermal (float64):  Missing: 0 (0.0%)\n",
            "renewables_percent_electrical (float64):  Missing: 0 (0.0%)\n",
            "total_heat_energy_KWH (float64):  Missing: 0 (0.0%)\n",
            "total_electricity_KWH (float64):  Missing: 0 (0.0%)\n",
            "total_heat_energy_typical_KWH (float64):  Missing: 0 (0.0%)\n",
            "total_electricity_typical_KWH (float64):  Missing: 0 (0.0%)\n",
            "floor_area_SF (float64):  Missing: 0 (0.0%)\n",
            "total_site_energy_KBTU (float64):  Missing: 0 (0.0%)\n",
            "log_total_site_energy_KBTU (float64):  Missing: 0 (0.0%)\n",
            "site_eui_KBTUSF (float64):  Missing: 0 (0.0%)\n"
          ],
          "name": "stdout"
        }
      ]
    },
    {
      "cell_type": "code",
      "metadata": {
        "id": "MLi_VYII4-zS",
        "outputId": "37ae0f0c-9833-4546-c671-fe730b9ebab1",
        "colab": {
          "base_uri": "https://localhost:8080/",
          "height": 67
        }
      },
      "source": [
        "ld[ld[\"floor_area_SF\"] == 0]"
      ],
      "execution_count": 162,
      "outputs": [
        {
          "output_type": "execute_result",
          "data": {
            "text/html": [
              "<div>\n",
              "<style scoped>\n",
              "    .dataframe tbody tr th:only-of-type {\n",
              "        vertical-align: middle;\n",
              "    }\n",
              "\n",
              "    .dataframe tbody tr th {\n",
              "        vertical-align: top;\n",
              "    }\n",
              "\n",
              "    .dataframe thead th {\n",
              "        text-align: right;\n",
              "    }\n",
              "</style>\n",
              "<table border=\"1\" class=\"dataframe\">\n",
              "  <thead>\n",
              "    <tr style=\"text-align: right;\">\n",
              "      <th></th>\n",
              "      <th>rrn</th>\n",
              "      <th>post_town</th>\n",
              "      <th>county</th>\n",
              "      <th>zip</th>\n",
              "      <th>energy_rating_band</th>\n",
              "      <th>energy_rating</th>\n",
              "      <th>total_CO2_emissions_MT</th>\n",
              "      <th>heating_fuel_type</th>\n",
              "      <th>hvac_type</th>\n",
              "      <th>floor_area_M2</th>\n",
              "      <th>fuel_eui_KWHM2</th>\n",
              "      <th>electricity_eui_KWHM2</th>\n",
              "      <th>typical_fuel_eui_KWHM2</th>\n",
              "      <th>typical_electricity_eui_KWHM2</th>\n",
              "      <th>renewables_percent_thermal</th>\n",
              "      <th>renewables_percent_electrical</th>\n",
              "      <th>total_heat_energy_KWH</th>\n",
              "      <th>total_electricity_KWH</th>\n",
              "      <th>total_heat_energy_typical_KWH</th>\n",
              "      <th>total_electricity_typical_KWH</th>\n",
              "      <th>floor_area_SF</th>\n",
              "      <th>total_site_energy_KBTU</th>\n",
              "      <th>log_total_site_energy_KBTU</th>\n",
              "      <th>site_eui_KBTUSF</th>\n",
              "    </tr>\n",
              "  </thead>\n",
              "  <tbody>\n",
              "  </tbody>\n",
              "</table>\n",
              "</div>"
            ],
            "text/plain": [
              "Empty DataFrame\n",
              "Columns: [rrn, post_town, county, zip, energy_rating_band, energy_rating, total_CO2_emissions_MT, heating_fuel_type, hvac_type, floor_area_M2, fuel_eui_KWHM2, electricity_eui_KWHM2, typical_fuel_eui_KWHM2, typical_electricity_eui_KWHM2, renewables_percent_thermal, renewables_percent_electrical, total_heat_energy_KWH, total_electricity_KWH, total_heat_energy_typical_KWH, total_electricity_typical_KWH, floor_area_SF, total_site_energy_KBTU, log_total_site_energy_KBTU, site_eui_KBTUSF]\n",
              "Index: []"
            ]
          },
          "metadata": {
            "tags": []
          },
          "execution_count": 162
        }
      ]
    },
    {
      "cell_type": "markdown",
      "metadata": {
        "id": "XVD2IKLsZI2x"
      },
      "source": [
        "# transform input deature as needed\n",
        "for example replace features with log features. Guide yourself with the text, the final dataset names, and also the code here https://github.com/Urban-Informatics-Lab/Open-Data-Benchmarking/blob/master/Lasso_RandomForest.Rmd"
      ]
    },
    {
      "cell_type": "code",
      "metadata": {
        "id": "SWyHLyhCLYIm"
      },
      "source": [
        "dc_feature = dc[[\"report_status\",\"ward\",\"postal_code\",\"year_built\",\"primary_ptype_self\",\"primary_ptype_epa\",\"tax_record_floor_area\",\"reported_gross_floor_area\",\"water_use\",\"metered_areas_energy\",\"metered_areas_water\"]]"
      ],
      "execution_count": 163,
      "outputs": []
    },
    {
      "cell_type": "code",
      "metadata": {
        "id": "zf2MIG_28jTN",
        "outputId": "3c44edd9-b413-48b7-c734-1e42a158eda9",
        "colab": {
          "base_uri": "https://localhost:8080/"
        }
      },
      "source": [
        "dc_feature[\"log_floor_area_tax\"] = np.log10(dc_feature[\"tax_record_floor_area\"])\n",
        "dc_feature[\"log_floor_area_reported\"]=np.log10(dc_feature[\"reported_gross_floor_area\"])\n",
        "\n",
        "dc_feature[\"log_water_use\"]=np.log10(dc_feature[\"water_use\"])"
      ],
      "execution_count": 164,
      "outputs": [
        {
          "output_type": "stream",
          "text": [
            "/usr/local/lib/python3.6/dist-packages/ipykernel_launcher.py:1: SettingWithCopyWarning: \n",
            "A value is trying to be set on a copy of a slice from a DataFrame.\n",
            "Try using .loc[row_indexer,col_indexer] = value instead\n",
            "\n",
            "See the caveats in the documentation: https://pandas.pydata.org/pandas-docs/stable/user_guide/indexing.html#returning-a-view-versus-a-copy\n",
            "  \"\"\"Entry point for launching an IPython kernel.\n",
            "/usr/local/lib/python3.6/dist-packages/ipykernel_launcher.py:2: SettingWithCopyWarning: \n",
            "A value is trying to be set on a copy of a slice from a DataFrame.\n",
            "Try using .loc[row_indexer,col_indexer] = value instead\n",
            "\n",
            "See the caveats in the documentation: https://pandas.pydata.org/pandas-docs/stable/user_guide/indexing.html#returning-a-view-versus-a-copy\n",
            "  \n",
            "/usr/local/lib/python3.6/dist-packages/ipykernel_launcher.py:4: SettingWithCopyWarning: \n",
            "A value is trying to be set on a copy of a slice from a DataFrame.\n",
            "Try using .loc[row_indexer,col_indexer] = value instead\n",
            "\n",
            "See the caveats in the documentation: https://pandas.pydata.org/pandas-docs/stable/user_guide/indexing.html#returning-a-view-versus-a-copy\n",
            "  after removing the cwd from sys.path.\n"
          ],
          "name": "stderr"
        }
      ]
    },
    {
      "cell_type": "code",
      "metadata": {
        "id": "HGuCGpYb9ksx",
        "outputId": "655ad4ed-d1e1-4ef8-882c-74d28d92576b",
        "colab": {
          "base_uri": "https://localhost:8080/",
          "height": 443
        }
      },
      "source": [
        "dc_feature.replace([np.inf, -np.inf], np.nan).dropna(subset=[\"log_floor_area_tax\", \"log_floor_area_reported\", \"log_water_use\"], how=\"all\")"
      ],
      "execution_count": 165,
      "outputs": [
        {
          "output_type": "execute_result",
          "data": {
            "text/html": [
              "<div>\n",
              "<style scoped>\n",
              "    .dataframe tbody tr th:only-of-type {\n",
              "        vertical-align: middle;\n",
              "    }\n",
              "\n",
              "    .dataframe tbody tr th {\n",
              "        vertical-align: top;\n",
              "    }\n",
              "\n",
              "    .dataframe thead th {\n",
              "        text-align: right;\n",
              "    }\n",
              "</style>\n",
              "<table border=\"1\" class=\"dataframe\">\n",
              "  <thead>\n",
              "    <tr style=\"text-align: right;\">\n",
              "      <th></th>\n",
              "      <th>report_status</th>\n",
              "      <th>ward</th>\n",
              "      <th>postal_code</th>\n",
              "      <th>year_built</th>\n",
              "      <th>primary_ptype_self</th>\n",
              "      <th>primary_ptype_epa</th>\n",
              "      <th>tax_record_floor_area</th>\n",
              "      <th>reported_gross_floor_area</th>\n",
              "      <th>water_use</th>\n",
              "      <th>metered_areas_energy</th>\n",
              "      <th>metered_areas_water</th>\n",
              "      <th>log_floor_area_tax</th>\n",
              "      <th>log_floor_area_reported</th>\n",
              "      <th>log_water_use</th>\n",
              "    </tr>\n",
              "  </thead>\n",
              "  <tbody>\n",
              "    <tr>\n",
              "      <th>0</th>\n",
              "      <td>In Compliance</td>\n",
              "      <td>4</td>\n",
              "      <td>20011</td>\n",
              "      <td>1959</td>\n",
              "      <td>Multifamily Housing</td>\n",
              "      <td>Multifamily Housing</td>\n",
              "      <td>63227.0</td>\n",
              "      <td>65000.0</td>\n",
              "      <td>6963.5</td>\n",
              "      <td>Whole Building</td>\n",
              "      <td>Whole Building</td>\n",
              "      <td>4.800903</td>\n",
              "      <td>4.812913</td>\n",
              "      <td>3.842828</td>\n",
              "    </tr>\n",
              "    <tr>\n",
              "      <th>1</th>\n",
              "      <td>In Compliance</td>\n",
              "      <td>2</td>\n",
              "      <td>20005</td>\n",
              "      <td>1997</td>\n",
              "      <td>Office</td>\n",
              "      <td>Office</td>\n",
              "      <td>251557.0</td>\n",
              "      <td>257943.0</td>\n",
              "      <td>8490.0</td>\n",
              "      <td>Whole Building</td>\n",
              "      <td>Whole Building</td>\n",
              "      <td>5.400636</td>\n",
              "      <td>5.411524</td>\n",
              "      <td>3.928908</td>\n",
              "    </tr>\n",
              "    <tr>\n",
              "      <th>2</th>\n",
              "      <td>In Compliance</td>\n",
              "      <td>2</td>\n",
              "      <td>20036</td>\n",
              "      <td>1964</td>\n",
              "      <td>Office</td>\n",
              "      <td>Office</td>\n",
              "      <td>330550.0</td>\n",
              "      <td>223218.0</td>\n",
              "      <td>8749.1</td>\n",
              "      <td>Whole Building</td>\n",
              "      <td>Whole Building</td>\n",
              "      <td>5.519237</td>\n",
              "      <td>5.348729</td>\n",
              "      <td>3.941963</td>\n",
              "    </tr>\n",
              "    <tr>\n",
              "      <th>3</th>\n",
              "      <td>In Compliance</td>\n",
              "      <td>2</td>\n",
              "      <td>22202</td>\n",
              "      <td>1969</td>\n",
              "      <td>Office</td>\n",
              "      <td>Office</td>\n",
              "      <td>256839.0</td>\n",
              "      <td>213067.0</td>\n",
              "      <td>5393.8</td>\n",
              "      <td>Whole Building</td>\n",
              "      <td>Whole Building</td>\n",
              "      <td>5.409661</td>\n",
              "      <td>5.328516</td>\n",
              "      <td>3.731895</td>\n",
              "    </tr>\n",
              "    <tr>\n",
              "      <th>4</th>\n",
              "      <td>In Compliance</td>\n",
              "      <td>2</td>\n",
              "      <td>20037</td>\n",
              "      <td>1975</td>\n",
              "      <td>Office</td>\n",
              "      <td>Office</td>\n",
              "      <td>370000.0</td>\n",
              "      <td>381518.0</td>\n",
              "      <td>10422.6</td>\n",
              "      <td>Whole Building</td>\n",
              "      <td>Whole Building</td>\n",
              "      <td>5.568202</td>\n",
              "      <td>5.581515</td>\n",
              "      <td>4.017976</td>\n",
              "    </tr>\n",
              "    <tr>\n",
              "      <th>...</th>\n",
              "      <td>...</td>\n",
              "      <td>...</td>\n",
              "      <td>...</td>\n",
              "      <td>...</td>\n",
              "      <td>...</td>\n",
              "      <td>...</td>\n",
              "      <td>...</td>\n",
              "      <td>...</td>\n",
              "      <td>...</td>\n",
              "      <td>...</td>\n",
              "      <td>...</td>\n",
              "      <td>...</td>\n",
              "      <td>...</td>\n",
              "      <td>...</td>\n",
              "    </tr>\n",
              "    <tr>\n",
              "      <th>1450</th>\n",
              "      <td>In Compliance</td>\n",
              "      <td>5</td>\n",
              "      <td>20017</td>\n",
              "      <td>2013</td>\n",
              "      <td>Multifamily Housing</td>\n",
              "      <td>Multifamily Housing</td>\n",
              "      <td>186504.0</td>\n",
              "      <td>99365.0</td>\n",
              "      <td>3632.8</td>\n",
              "      <td>Whole Building</td>\n",
              "      <td>Whole Building</td>\n",
              "      <td>5.270688</td>\n",
              "      <td>4.997233</td>\n",
              "      <td>3.560241</td>\n",
              "    </tr>\n",
              "    <tr>\n",
              "      <th>1451</th>\n",
              "      <td>In Compliance</td>\n",
              "      <td>5</td>\n",
              "      <td>20017</td>\n",
              "      <td>2013</td>\n",
              "      <td>Multifamily Housing</td>\n",
              "      <td>Multifamily Housing</td>\n",
              "      <td>162898.0</td>\n",
              "      <td>162898.0</td>\n",
              "      <td>5737.4</td>\n",
              "      <td>Whole Building</td>\n",
              "      <td>Whole Building</td>\n",
              "      <td>5.211916</td>\n",
              "      <td>5.211916</td>\n",
              "      <td>3.758715</td>\n",
              "    </tr>\n",
              "    <tr>\n",
              "      <th>1452</th>\n",
              "      <td>In Compliance</td>\n",
              "      <td>5</td>\n",
              "      <td>20017</td>\n",
              "      <td>2014</td>\n",
              "      <td>Multifamily Housing</td>\n",
              "      <td>Multifamily Housing</td>\n",
              "      <td>196755.0</td>\n",
              "      <td>196755.0</td>\n",
              "      <td>11079.4</td>\n",
              "      <td>Whole Building</td>\n",
              "      <td>Whole Building</td>\n",
              "      <td>5.293926</td>\n",
              "      <td>5.293926</td>\n",
              "      <td>4.044516</td>\n",
              "    </tr>\n",
              "    <tr>\n",
              "      <th>1453</th>\n",
              "      <td>Data under review by DOEE</td>\n",
              "      <td>1</td>\n",
              "      <td>20059</td>\n",
              "      <td>1979</td>\n",
              "      <td>College/University</td>\n",
              "      <td>Other</td>\n",
              "      <td>1095275.0</td>\n",
              "      <td>145000.0</td>\n",
              "      <td>14218.5</td>\n",
              "      <td>Whole Building</td>\n",
              "      <td>Whole Building</td>\n",
              "      <td>6.039523</td>\n",
              "      <td>5.161368</td>\n",
              "      <td>4.152854</td>\n",
              "    </tr>\n",
              "    <tr>\n",
              "      <th>1454</th>\n",
              "      <td>Data under review by DOEE</td>\n",
              "      <td>1</td>\n",
              "      <td>20059</td>\n",
              "      <td>1994</td>\n",
              "      <td>Residence Hall/Dormitory</td>\n",
              "      <td>Residence Hall/Dormitory</td>\n",
              "      <td>190514.0</td>\n",
              "      <td>225000.0</td>\n",
              "      <td>13090.2</td>\n",
              "      <td>Whole Building</td>\n",
              "      <td>Whole Building</td>\n",
              "      <td>5.279927</td>\n",
              "      <td>5.352183</td>\n",
              "      <td>4.116946</td>\n",
              "    </tr>\n",
              "  </tbody>\n",
              "</table>\n",
              "<p>1453 rows × 14 columns</p>\n",
              "</div>"
            ],
            "text/plain": [
              "                  report_status  ward  ... log_floor_area_reported  log_water_use\n",
              "0                 In Compliance     4  ...                4.812913       3.842828\n",
              "1                 In Compliance     2  ...                5.411524       3.928908\n",
              "2                 In Compliance     2  ...                5.348729       3.941963\n",
              "3                 In Compliance     2  ...                5.328516       3.731895\n",
              "4                 In Compliance     2  ...                5.581515       4.017976\n",
              "...                         ...   ...  ...                     ...            ...\n",
              "1450              In Compliance     5  ...                4.997233       3.560241\n",
              "1451              In Compliance     5  ...                5.211916       3.758715\n",
              "1452              In Compliance     5  ...                5.293926       4.044516\n",
              "1453  Data under review by DOEE     1  ...                5.161368       4.152854\n",
              "1454  Data under review by DOEE     1  ...                5.352183       4.116946\n",
              "\n",
              "[1453 rows x 14 columns]"
            ]
          },
          "metadata": {
            "tags": []
          },
          "execution_count": 165
        }
      ]
    },
    {
      "cell_type": "code",
      "metadata": {
        "id": "K-WpwWdI5h3K"
      },
      "source": [
        "ld_features = ld[[\"heating_fuel_type\",\"hvac_type\",\"typical_fuel_eui_KWHM2\",\"typical_electricity_eui_KWHM2\",\"floor_area_SF\"]]"
      ],
      "execution_count": 202,
      "outputs": []
    },
    {
      "cell_type": "code",
      "metadata": {
        "id": "94sEuPmvA4ed",
        "outputId": "4cbc0ab3-12fa-44cc-d104-21c970038ef5",
        "colab": {
          "base_uri": "https://localhost:8080/",
          "height": 391
        }
      },
      "source": [
        "ld_features"
      ],
      "execution_count": 203,
      "outputs": [
        {
          "output_type": "execute_result",
          "data": {
            "text/html": [
              "<div>\n",
              "<style scoped>\n",
              "    .dataframe tbody tr th:only-of-type {\n",
              "        vertical-align: middle;\n",
              "    }\n",
              "\n",
              "    .dataframe tbody tr th {\n",
              "        vertical-align: top;\n",
              "    }\n",
              "\n",
              "    .dataframe thead th {\n",
              "        text-align: right;\n",
              "    }\n",
              "</style>\n",
              "<table border=\"1\" class=\"dataframe\">\n",
              "  <thead>\n",
              "    <tr style=\"text-align: right;\">\n",
              "      <th></th>\n",
              "      <th>heating_fuel_type</th>\n",
              "      <th>hvac_type</th>\n",
              "      <th>typical_fuel_eui_KWHM2</th>\n",
              "      <th>typical_electricity_eui_KWHM2</th>\n",
              "      <th>floor_area_SF</th>\n",
              "    </tr>\n",
              "  </thead>\n",
              "  <tbody>\n",
              "    <tr>\n",
              "      <th>0</th>\n",
              "      <td>Natural Gas</td>\n",
              "      <td>Heating and Mechanical Ventilation</td>\n",
              "      <td>237</td>\n",
              "      <td>80</td>\n",
              "      <td>13357.99990</td>\n",
              "    </tr>\n",
              "    <tr>\n",
              "      <th>1</th>\n",
              "      <td>Natural Gas</td>\n",
              "      <td>Heating and Natural Ventilation</td>\n",
              "      <td>225</td>\n",
              "      <td>56</td>\n",
              "      <td>27038.91680</td>\n",
              "    </tr>\n",
              "    <tr>\n",
              "      <th>2</th>\n",
              "      <td>Natural Gas</td>\n",
              "      <td>Heating and Natural Ventilation</td>\n",
              "      <td>251</td>\n",
              "      <td>62</td>\n",
              "      <td>16737.86450</td>\n",
              "    </tr>\n",
              "    <tr>\n",
              "      <th>3</th>\n",
              "      <td>Natural Gas</td>\n",
              "      <td>Heating and Natural Ventilation</td>\n",
              "      <td>148</td>\n",
              "      <td>40</td>\n",
              "      <td>14023.20892</td>\n",
              "    </tr>\n",
              "    <tr>\n",
              "      <th>4</th>\n",
              "      <td>Natural Gas</td>\n",
              "      <td>Air Conditioning</td>\n",
              "      <td>42</td>\n",
              "      <td>91</td>\n",
              "      <td>11807.99830</td>\n",
              "    </tr>\n",
              "    <tr>\n",
              "      <th>...</th>\n",
              "      <td>...</td>\n",
              "      <td>...</td>\n",
              "      <td>...</td>\n",
              "      <td>...</td>\n",
              "      <td>...</td>\n",
              "    </tr>\n",
              "    <tr>\n",
              "      <th>23469</th>\n",
              "      <td>Natural Gas</td>\n",
              "      <td>Heating and Natural Ventilation</td>\n",
              "      <td>310</td>\n",
              "      <td>66</td>\n",
              "      <td>14585.08450</td>\n",
              "    </tr>\n",
              "    <tr>\n",
              "      <th>23470</th>\n",
              "      <td>Natural Gas</td>\n",
              "      <td>Heating and Natural Ventilation</td>\n",
              "      <td>121</td>\n",
              "      <td>103</td>\n",
              "      <td>18844.03681</td>\n",
              "    </tr>\n",
              "    <tr>\n",
              "      <th>23471</th>\n",
              "      <td>Natural Gas</td>\n",
              "      <td>Heating and Natural Ventilation</td>\n",
              "      <td>462</td>\n",
              "      <td>90</td>\n",
              "      <td>10979.17800</td>\n",
              "    </tr>\n",
              "    <tr>\n",
              "      <th>23472</th>\n",
              "      <td>Natural Gas</td>\n",
              "      <td>Heating and Natural Ventilation</td>\n",
              "      <td>167</td>\n",
              "      <td>108</td>\n",
              "      <td>54766.72320</td>\n",
              "    </tr>\n",
              "    <tr>\n",
              "      <th>23473</th>\n",
              "      <td>Natural Gas</td>\n",
              "      <td>Mixed-mode with Natural Ventilation</td>\n",
              "      <td>168</td>\n",
              "      <td>160</td>\n",
              "      <td>159477.94240</td>\n",
              "    </tr>\n",
              "  </tbody>\n",
              "</table>\n",
              "<p>23474 rows × 5 columns</p>\n",
              "</div>"
            ],
            "text/plain": [
              "      heating_fuel_type  ... floor_area_SF\n",
              "0           Natural Gas  ...   13357.99990\n",
              "1           Natural Gas  ...   27038.91680\n",
              "2           Natural Gas  ...   16737.86450\n",
              "3           Natural Gas  ...   14023.20892\n",
              "4           Natural Gas  ...   11807.99830\n",
              "...                 ...  ...           ...\n",
              "23469       Natural Gas  ...   14585.08450\n",
              "23470       Natural Gas  ...   18844.03681\n",
              "23471       Natural Gas  ...   10979.17800\n",
              "23472       Natural Gas  ...   54766.72320\n",
              "23473       Natural Gas  ...  159477.94240\n",
              "\n",
              "[23474 rows x 5 columns]"
            ]
          },
          "metadata": {
            "tags": []
          },
          "execution_count": 203
        }
      ]
    },
    {
      "cell_type": "code",
      "metadata": {
        "id": "VToafllQ5rmN",
        "outputId": "54c17893-f14e-4c00-d1e0-93e04d3d66ec",
        "colab": {
          "base_uri": "https://localhost:8080/"
        }
      },
      "source": [
        "\n",
        "ld_features[\"log_area\"] = np.log10(ld[\"floor_area_SF\"])"
      ],
      "execution_count": 204,
      "outputs": [
        {
          "output_type": "stream",
          "text": [
            "/usr/local/lib/python3.6/dist-packages/ipykernel_launcher.py:2: SettingWithCopyWarning: \n",
            "A value is trying to be set on a copy of a slice from a DataFrame.\n",
            "Try using .loc[row_indexer,col_indexer] = value instead\n",
            "\n",
            "See the caveats in the documentation: https://pandas.pydata.org/pandas-docs/stable/user_guide/indexing.html#returning-a-view-versus-a-copy\n",
            "  \n"
          ],
          "name": "stderr"
        }
      ]
    },
    {
      "cell_type": "code",
      "metadata": {
        "id": "ga01fzW-IJq5",
        "outputId": "a8ff4d52-d828-497a-8f95-3854e89da1a8",
        "colab": {
          "base_uri": "https://localhost:8080/",
          "height": 391
        }
      },
      "source": [
        "ld_features.replace([np.inf, -np.inf], np.nan).dropna(subset=[\"log_area\"], how=\"all\")"
      ],
      "execution_count": 205,
      "outputs": [
        {
          "output_type": "execute_result",
          "data": {
            "text/html": [
              "<div>\n",
              "<style scoped>\n",
              "    .dataframe tbody tr th:only-of-type {\n",
              "        vertical-align: middle;\n",
              "    }\n",
              "\n",
              "    .dataframe tbody tr th {\n",
              "        vertical-align: top;\n",
              "    }\n",
              "\n",
              "    .dataframe thead th {\n",
              "        text-align: right;\n",
              "    }\n",
              "</style>\n",
              "<table border=\"1\" class=\"dataframe\">\n",
              "  <thead>\n",
              "    <tr style=\"text-align: right;\">\n",
              "      <th></th>\n",
              "      <th>heating_fuel_type</th>\n",
              "      <th>hvac_type</th>\n",
              "      <th>typical_fuel_eui_KWHM2</th>\n",
              "      <th>typical_electricity_eui_KWHM2</th>\n",
              "      <th>floor_area_SF</th>\n",
              "      <th>log_area</th>\n",
              "    </tr>\n",
              "  </thead>\n",
              "  <tbody>\n",
              "    <tr>\n",
              "      <th>0</th>\n",
              "      <td>Natural Gas</td>\n",
              "      <td>Heating and Mechanical Ventilation</td>\n",
              "      <td>237</td>\n",
              "      <td>80</td>\n",
              "      <td>13357.99990</td>\n",
              "      <td>4.125741</td>\n",
              "    </tr>\n",
              "    <tr>\n",
              "      <th>1</th>\n",
              "      <td>Natural Gas</td>\n",
              "      <td>Heating and Natural Ventilation</td>\n",
              "      <td>225</td>\n",
              "      <td>56</td>\n",
              "      <td>27038.91680</td>\n",
              "      <td>4.431989</td>\n",
              "    </tr>\n",
              "    <tr>\n",
              "      <th>2</th>\n",
              "      <td>Natural Gas</td>\n",
              "      <td>Heating and Natural Ventilation</td>\n",
              "      <td>251</td>\n",
              "      <td>62</td>\n",
              "      <td>16737.86450</td>\n",
              "      <td>4.223700</td>\n",
              "    </tr>\n",
              "    <tr>\n",
              "      <th>3</th>\n",
              "      <td>Natural Gas</td>\n",
              "      <td>Heating and Natural Ventilation</td>\n",
              "      <td>148</td>\n",
              "      <td>40</td>\n",
              "      <td>14023.20892</td>\n",
              "      <td>4.146847</td>\n",
              "    </tr>\n",
              "    <tr>\n",
              "      <th>4</th>\n",
              "      <td>Natural Gas</td>\n",
              "      <td>Air Conditioning</td>\n",
              "      <td>42</td>\n",
              "      <td>91</td>\n",
              "      <td>11807.99830</td>\n",
              "      <td>4.072176</td>\n",
              "    </tr>\n",
              "    <tr>\n",
              "      <th>...</th>\n",
              "      <td>...</td>\n",
              "      <td>...</td>\n",
              "      <td>...</td>\n",
              "      <td>...</td>\n",
              "      <td>...</td>\n",
              "      <td>...</td>\n",
              "    </tr>\n",
              "    <tr>\n",
              "      <th>23469</th>\n",
              "      <td>Natural Gas</td>\n",
              "      <td>Heating and Natural Ventilation</td>\n",
              "      <td>310</td>\n",
              "      <td>66</td>\n",
              "      <td>14585.08450</td>\n",
              "      <td>4.163909</td>\n",
              "    </tr>\n",
              "    <tr>\n",
              "      <th>23470</th>\n",
              "      <td>Natural Gas</td>\n",
              "      <td>Heating and Natural Ventilation</td>\n",
              "      <td>121</td>\n",
              "      <td>103</td>\n",
              "      <td>18844.03681</td>\n",
              "      <td>4.275174</td>\n",
              "    </tr>\n",
              "    <tr>\n",
              "      <th>23471</th>\n",
              "      <td>Natural Gas</td>\n",
              "      <td>Heating and Natural Ventilation</td>\n",
              "      <td>462</td>\n",
              "      <td>90</td>\n",
              "      <td>10979.17800</td>\n",
              "      <td>4.040570</td>\n",
              "    </tr>\n",
              "    <tr>\n",
              "      <th>23472</th>\n",
              "      <td>Natural Gas</td>\n",
              "      <td>Heating and Natural Ventilation</td>\n",
              "      <td>167</td>\n",
              "      <td>108</td>\n",
              "      <td>54766.72320</td>\n",
              "      <td>4.738517</td>\n",
              "    </tr>\n",
              "    <tr>\n",
              "      <th>23473</th>\n",
              "      <td>Natural Gas</td>\n",
              "      <td>Mixed-mode with Natural Ventilation</td>\n",
              "      <td>168</td>\n",
              "      <td>160</td>\n",
              "      <td>159477.94240</td>\n",
              "      <td>5.202701</td>\n",
              "    </tr>\n",
              "  </tbody>\n",
              "</table>\n",
              "<p>23474 rows × 6 columns</p>\n",
              "</div>"
            ],
            "text/plain": [
              "      heating_fuel_type  ...  log_area\n",
              "0           Natural Gas  ...  4.125741\n",
              "1           Natural Gas  ...  4.431989\n",
              "2           Natural Gas  ...  4.223700\n",
              "3           Natural Gas  ...  4.146847\n",
              "4           Natural Gas  ...  4.072176\n",
              "...                 ...  ...       ...\n",
              "23469       Natural Gas  ...  4.163909\n",
              "23470       Natural Gas  ...  4.275174\n",
              "23471       Natural Gas  ...  4.040570\n",
              "23472       Natural Gas  ...  4.738517\n",
              "23473       Natural Gas  ...  5.202701\n",
              "\n",
              "[23474 rows x 6 columns]"
            ]
          },
          "metadata": {
            "tags": []
          },
          "execution_count": 205
        }
      ]
    },
    {
      "cell_type": "markdown",
      "metadata": {
        "id": "Da-93SxbMFCX"
      },
      "source": [
        "check what happened to missing values, fix infinities replacing them with 0 as done in https://github.com/Urban-Informatics-Lab/Open-Data-Benchmarking/blob/master/Lasso_RandomForest.Rmd"
      ]
    },
    {
      "cell_type": "markdown",
      "metadata": {
        "id": "iNbDz-98ZvkM"
      },
      "source": [
        "# separate categorical and numerical values\n",
        "you will proceed to missing data imputation differently in the 2 cases"
      ]
    },
    {
      "cell_type": "code",
      "metadata": {
        "id": "7uQG7QcFPJUA"
      },
      "source": [
        "\n",
        "y_ld = ld['log_total_site_energy_KBTU']\n",
        "\n",
        "x1_ld = ld_features[['log_area', 'typical_fuel_eui_KWHM2', 'typical_electricity_eui_KWHM2']]\n",
        "x2_ld = ld_features[['heating_fuel_type', 'hvac_type']]"
      ],
      "execution_count": 206,
      "outputs": []
    },
    {
      "cell_type": "code",
      "metadata": {
        "id": "zqmaqir16Kr1"
      },
      "source": [
        "y_dc = dc[\"log_total_site_energy_KBTU\"] \n",
        "x1_dc = dc_feature[[\"log_floor_area_tax\",  \"log_floor_area_reported\", \"log_water_use\"]]\n",
        "x2_dc = dc_feature[[\"report_status\", \"primary_ptype_self\", \"primary_ptype_epa\", \"metered_areas_energy\", \"metered_areas_water\", \"ward\",\"postal_code\", \"year_built\"]]\n"
      ],
      "execution_count": 171,
      "outputs": []
    },
    {
      "cell_type": "markdown",
      "metadata": {
        "id": "dfQnS9eVZ7A4"
      },
      "source": [
        "# use Nearest Neighbor Imputer to impute missing values in numerical features\n",
        "\n",
        "here we are deviating from the paper. NN imputation is simpler and more common, I think it may be more useful to you in general"
      ]
    },
    {
      "cell_type": "code",
      "metadata": {
        "id": "gNLiSt1fOCz4",
        "outputId": "6a50df0d-4925-42af-96d8-a3cc63d8e128",
        "colab": {
          "base_uri": "https://localhost:8080/"
        }
      },
      "source": [
        "from sklearn.impute import KNNImputer\n",
        "\n",
        "imputer_dc = KNNImputer(n_neighbors=5, weights='uniform', metric='nan_euclidean')\n",
        "x1_dc_filled = imputer_dc.fit_transform(x1_dc[[\"log_floor_area_tax\",  \"log_floor_area_reported\", \"log_water_use\"]])\n",
        "x1_dc_filled"
      ],
      "execution_count": 172,
      "outputs": [
        {
          "output_type": "execute_result",
          "data": {
            "text/plain": [
              "array([[4.80090258, 4.81291336, 3.84282758],\n",
              "       [5.40063641, 5.41152375, 3.92890769],\n",
              "       [5.51923716, 5.34872921, 3.94196338],\n",
              "       ...,\n",
              "       [5.29392578, 5.29392578, 4.04451624],\n",
              "       [6.03952317, 5.161368  , 4.15285378],\n",
              "       [5.2799269 , 5.35218252, 4.11694628]])"
            ]
          },
          "metadata": {
            "tags": []
          },
          "execution_count": 172
        }
      ]
    },
    {
      "cell_type": "code",
      "metadata": {
        "id": "IvlKxE_O7bqm",
        "outputId": "3543ab24-6ccc-4282-e203-24ff85a86096",
        "colab": {
          "base_uri": "https://localhost:8080/"
        }
      },
      "source": [
        "imputer_ld = KNNImputer(n_neighbors=5, weights='uniform', metric='nan_euclidean')\n",
        "x1_ld_filled = imputer_ld.fit_transform(x1_ld[['log_area', 'typical_fuel_eui_KWHM2', 'typical_electricity_eui_KWHM2']])\n",
        "x1_ld_filled"
      ],
      "execution_count": 207,
      "outputs": [
        {
          "output_type": "execute_result",
          "data": {
            "text/plain": [
              "array([[  4.12574144, 237.        ,  80.        ],\n",
              "       [  4.43198929, 225.        ,  56.        ],\n",
              "       [  4.22370005, 251.        ,  62.        ],\n",
              "       ...,\n",
              "       [  4.04056983, 462.        ,  90.        ],\n",
              "       [  4.73851676, 167.        , 108.        ],\n",
              "       [  5.20270062, 168.        , 160.        ]])"
            ]
          },
          "metadata": {
            "tags": []
          },
          "execution_count": 207
        }
      ]
    },
    {
      "cell_type": "markdown",
      "metadata": {
        "id": "mW5GNpU0aFIO"
      },
      "source": [
        "# convert categorical variables to one-hot-encoded \n",
        "you will have to remove Nan values and replace them. You can choose to replace them with \"None\" or a similar string, for which you can use the fillna method: ```df.fillna(\"None\")``` and leave it at that or with a little more effort you can input values based on nearest neighbors or some other inputation scheme. any choice goes so long as it is well described and justified with words."
      ]
    },
    {
      "cell_type": "code",
      "metadata": {
        "id": "BJoES_oBQBIl",
        "outputId": "8424c5ed-7ad0-48d3-b3ff-39a1619ce4bb",
        "colab": {
          "base_uri": "https://localhost:8080/"
        }
      },
      "source": [
        "from sklearn.preprocessing import OneHotEncoder\n",
        "enc_dc = OneHotEncoder(handle_unknown='ignore')\n",
        "\n",
        "x2_dc = x2_dc[[\"report_status\", \"primary_ptype_self\", \"primary_ptype_epa\", \n",
        "               \"metered_areas_energy\", \"metered_areas_water\", \"ward\",\"postal_code\",\n",
        "               \"year_built\"]].fillna(\"None\")\n",
        "x2_dc_encode = enc_dc.fit(x2_dc[[\"report_status\", \"primary_ptype_self\", \n",
        "                                 \"primary_ptype_epa\", \"metered_areas_energy\", \n",
        "                                 \"metered_areas_water\", \"ward\",\"postal_code\", \n",
        "                                 \"year_built\"]])\n",
        "\n",
        "x2_dc_encode = enc_dc.transform(x2_dc).toarray()\n",
        "enc_dc.categories_\n"
      ],
      "execution_count": 174,
      "outputs": [
        {
          "output_type": "execute_result",
          "data": {
            "text/plain": [
              "[array(['Data under review by DOEE', 'In Compliance'], dtype=object),\n",
              " array(['Adult Education', 'College/University', 'Distribution Center',\n",
              "        'Enclosed Mall', 'Financial Office', 'Fire Station',\n",
              "        'Fitness Center/Health Club/Gym', 'Food Service',\n",
              "        'Hospital (General Medical & Surgical)', 'Hotel', 'K-12 School',\n",
              "        'Laboratory', 'Library', 'Manufacturing/Industrial Plant',\n",
              "        'Medical Office', 'Mixed Use Property', 'Movie Theater',\n",
              "        'Multifamily Housing', 'Museum', 'Non-Refrigerated Warehouse',\n",
              "        'Office', 'Other', 'Other - Education',\n",
              "        'Other - Entertainment/Public Assembly',\n",
              "        'Other - Lodging/Residential', 'Other - Mall',\n",
              "        'Other - Public Services', 'Other - Recreation',\n",
              "        'Other - Specialty Hospital',\n",
              "        'Outpatient Rehabilitation/Physical Therapy', 'Performing Arts',\n",
              "        'Police Station', 'Pre-school/Daycare', 'Prison/Incarceration',\n",
              "        'Repair Services (Vehicle Shoe Locksmith etc.)',\n",
              "        'Residence Hall/Dormitory', 'Retail Store',\n",
              "        'Self-Storage Facility', 'Senior Care Community',\n",
              "        'Social/Meeting Hall', 'Strip Mall', 'Supermarket/Grocery Store',\n",
              "        'Urgent Care/Clinic/Other Outpatient',\n",
              "        'Wholesale Club/Supercenter', 'Worship Facility'], dtype=object),\n",
              " array(['Adult Education', 'College/University', 'Distribution Center',\n",
              "        'Enclosed Mall', 'Financial Office', 'Fire Station',\n",
              "        'Fitness Center/Health Club/Gym', 'Food Service',\n",
              "        'Hospital (General Medical & Surgical)', 'Hotel', 'K-12 School',\n",
              "        'Laboratory', 'Library', 'Manufacturing/Industrial Plant',\n",
              "        'Medical Office', 'Mixed Use Property', 'Movie Theater',\n",
              "        'Multifamily Housing', 'Museum', 'Non-Refrigerated Warehouse',\n",
              "        'Office', 'Other', 'Other - Education',\n",
              "        'Other - Entertainment/Public Assembly',\n",
              "        'Other - Lodging/Residential', 'Other - Mall',\n",
              "        'Other - Public Services', 'Other - Recreation',\n",
              "        'Other - Services', 'Other - Specialty Hospital',\n",
              "        'Outpatient Rehabilitation/Physical Therapy', 'Parking',\n",
              "        'Performing Arts', 'Police Station',\n",
              "        'Repair Services (Vehicle Shoe Locksmith etc.)',\n",
              "        'Residence Hall/Dormitory', 'Retail Store',\n",
              "        'Self-Storage Facility', 'Senior Care Community',\n",
              "        'Social/Meeting Hall', 'Strip Mall', 'Supermarket/Grocery Store',\n",
              "        'Urgent Care/Clinic/Other Outpatient',\n",
              "        'Wholesale Club/Supercenter', 'Worship Facility'], dtype=object),\n",
              " array(['Another configuration', 'Common areas only', 'Whole Building'],\n",
              "       dtype=object),\n",
              " array(['Another configuration', 'Combination of common and tenant areas',\n",
              "        'Whole Building'], dtype=object),\n",
              " array([1, 2, 3, 4, 5, 6, 7, 8]),\n",
              " array(['20001', '20001-2620', '20001-3710', '20002', '20002-3408',\n",
              "        '20002-7000', '20003', '20004', '20005', '20005-2806',\n",
              "        '20005-3301', '20005-5504', '20006', '200062407', '200063912',\n",
              "        '20007', '20008', '20008-1811', '20009', '20010', '20011',\n",
              "        '20011-4959', '20012', '20015', '20016', '200163300', '20017',\n",
              "        '200171566', '20018', '20018-2505', '20019', '20020', '20024',\n",
              "        '200242459', '20032', '20036', '200362103', '20037', '20037-1445',\n",
              "        '20049', '20052', '20057', '20059', '20064', '20577', '20590',\n",
              "        '20910', '22036', '22048', '22202', '22204', '22209'], dtype=object),\n",
              " array([1000, 1789, 1829, 1844, 1850, 1864, 1868, 1869, 1875, 1880, 1882,\n",
              "        1885, 1886, 1887, 1888, 1889, 1890, 1891, 1895, 1896, 1897, 1898,\n",
              "        1900, 1901, 1903, 1904, 1905, 1906, 1907, 1908, 1909, 1910, 1911,\n",
              "        1912, 1913, 1914, 1915, 1916, 1917, 1918, 1920, 1921, 1922, 1923,\n",
              "        1924, 1925, 1926, 1927, 1928, 1929, 1930, 1931, 1932, 1933, 1934,\n",
              "        1935, 1936, 1937, 1938, 1939, 1940, 1941, 1942, 1943, 1944, 1945,\n",
              "        1946, 1947, 1948, 1949, 1950, 1951, 1952, 1953, 1954, 1955, 1956,\n",
              "        1957, 1958, 1959, 1960, 1961, 1962, 1963, 1964, 1965, 1966, 1967,\n",
              "        1968, 1969, 1970, 1971, 1972, 1973, 1974, 1975, 1976, 1977, 1978,\n",
              "        1979, 1980, 1981, 1982, 1983, 1984, 1985, 1986, 1987, 1988, 1989,\n",
              "        1990, 1991, 1992, 1993, 1994, 1995, 1996, 1997, 1998, 1999, 2000,\n",
              "        2001, 2002, 2003, 2004, 2005, 2006, 2007, 2008, 2009, 2010, 2011,\n",
              "        2012, 2013, 2014, 2015, 2016, 2017])]"
            ]
          },
          "metadata": {
            "tags": []
          },
          "execution_count": 174
        }
      ]
    },
    {
      "cell_type": "code",
      "metadata": {
        "id": "21NmHx9UBqlC",
        "outputId": "202d7b28-82a2-469f-c2ae-df4c3a7e9987",
        "colab": {
          "base_uri": "https://localhost:8080/"
        }
      },
      "source": [
        "enc_ld = OneHotEncoder(handle_unknown='ignore')\n",
        "x2_ld = x2_ld[['heating_fuel_type', 'hvac_type']].fillna(\"None\")\n",
        "\n",
        "enc_ld.fit(x2_ld)\n",
        "x2_ld_encode = enc_ld.transform(x2_ld).toarray()\n",
        "enc_ld.categories_"
      ],
      "execution_count": 175,
      "outputs": [
        {
          "output_type": "execute_result",
          "data": {
            "text/plain": [
              "[array(['Anthracite', 'Biogas', 'Biomass', 'Coal', 'District Heating',\n",
              "        'Grid Supplied Electricity', 'LPG', 'Natural Gas', 'None', 'Oil',\n",
              "        'Other'], dtype=object),\n",
              " array(['Air Conditioning', 'Heating and Mechanical Ventilation',\n",
              "        'Heating and Natural Ventilation', 'Mechanical Ventilation Only',\n",
              "        'Mixed-mode with Mechanical Ventilation',\n",
              "        'Mixed-mode with Natural Ventilation', 'Natural Ventilation Only'],\n",
              "       dtype=object)]"
            ]
          },
          "metadata": {
            "tags": []
          },
          "execution_count": 175
        }
      ]
    },
    {
      "cell_type": "markdown",
      "metadata": {
        "id": "3Wd7WBC6fSSI"
      },
      "source": [
        "# combine your numerical and categorical imput features and split your data into training and testing"
      ]
    },
    {
      "cell_type": "code",
      "metadata": {
        "id": "eq9FKlTgOsvX",
        "outputId": "739fb9c6-cf3b-456b-8d9b-26c284e396c0",
        "colab": {
          "base_uri": "https://localhost:8080/"
        }
      },
      "source": [
        "x1_dc_filled.shape"
      ],
      "execution_count": 176,
      "outputs": [
        {
          "output_type": "execute_result",
          "data": {
            "text/plain": [
              "(1453, 3)"
            ]
          },
          "metadata": {
            "tags": []
          },
          "execution_count": 176
        }
      ]
    },
    {
      "cell_type": "code",
      "metadata": {
        "id": "ob2Nd1_pTeAx",
        "outputId": "2f61608b-57c0-4900-8d8f-76577adf0996",
        "colab": {
          "base_uri": "https://localhost:8080/"
        }
      },
      "source": [
        "x2_dc_encode.shape\n"
      ],
      "execution_count": 177,
      "outputs": [
        {
          "output_type": "execute_result",
          "data": {
            "text/plain": [
              "(1453, 296)"
            ]
          },
          "metadata": {
            "tags": []
          },
          "execution_count": 177
        }
      ]
    },
    {
      "cell_type": "code",
      "metadata": {
        "id": "0taJGPcRTfLN",
        "outputId": "ee1c083c-fd67-4033-942f-9f7f6539f367",
        "colab": {
          "base_uri": "https://localhost:8080/"
        }
      },
      "source": [
        "X_dc = np.hstack([x1_dc_filled, x2_dc_encode])\n",
        "X_dc.shape"
      ],
      "execution_count": 178,
      "outputs": [
        {
          "output_type": "execute_result",
          "data": {
            "text/plain": [
              "(1453, 299)"
            ]
          },
          "metadata": {
            "tags": []
          },
          "execution_count": 178
        }
      ]
    },
    {
      "cell_type": "code",
      "metadata": {
        "id": "WCUUattUUfqR"
      },
      "source": [
        "from sklearn.model_selection import train_test_split\n",
        "\n",
        "X_train_dc, X_test_dc, y_train_dc, y_test_dc = train_test_split(X_dc, y_dc, test_size=0.25, random_state=42)"
      ],
      "execution_count": 208,
      "outputs": []
    },
    {
      "cell_type": "code",
      "metadata": {
        "id": "0ncQ2rDBJrYF",
        "outputId": "23da9927-7225-43e2-d980-04742574a2d7",
        "colab": {
          "base_uri": "https://localhost:8080/"
        }
      },
      "source": [
        "x1_ld_filled.shape"
      ],
      "execution_count": 180,
      "outputs": [
        {
          "output_type": "execute_result",
          "data": {
            "text/plain": [
              "(23474, 3)"
            ]
          },
          "metadata": {
            "tags": []
          },
          "execution_count": 180
        }
      ]
    },
    {
      "cell_type": "code",
      "metadata": {
        "id": "4yxfsETLJuIB",
        "outputId": "eb3ad453-8f28-4a9b-b3d1-c8bc42a98e58",
        "colab": {
          "base_uri": "https://localhost:8080/"
        }
      },
      "source": [
        "x2_ld_encode.shape"
      ],
      "execution_count": 181,
      "outputs": [
        {
          "output_type": "execute_result",
          "data": {
            "text/plain": [
              "(23474, 18)"
            ]
          },
          "metadata": {
            "tags": []
          },
          "execution_count": 181
        }
      ]
    },
    {
      "cell_type": "code",
      "metadata": {
        "id": "p05cpkMHJwe8",
        "outputId": "89c9e7f7-4010-4abc-ff91-4b2e5b6bb082",
        "colab": {
          "base_uri": "https://localhost:8080/"
        }
      },
      "source": [
        "X_ld = np.hstack([x1_ld_filled, x2_ld_encode])\n",
        "X_ld.shape"
      ],
      "execution_count": 182,
      "outputs": [
        {
          "output_type": "execute_result",
          "data": {
            "text/plain": [
              "(23474, 21)"
            ]
          },
          "metadata": {
            "tags": []
          },
          "execution_count": 182
        }
      ]
    },
    {
      "cell_type": "code",
      "metadata": {
        "id": "5ym7xPASJzcr"
      },
      "source": [
        "\n",
        "\n",
        "X_train_ld, X_test_ld, y_train_ld, y_test_ld = train_test_split(X_ld, y_ld, test_size=0.25, random_state=42)"
      ],
      "execution_count": 209,
      "outputs": []
    },
    {
      "cell_type": "markdown",
      "metadata": {
        "id": "ao-6jRG0fdNT"
      },
      "source": [
        "# run a random forest REGRESSION model\n",
        "\n",
        "report the score on the tranining and test data and identify the most important features"
      ]
    },
    {
      "cell_type": "code",
      "metadata": {
        "id": "kEiFt_htTjNF",
        "outputId": "a20e193c-e6d0-44ce-c291-8c68c25948f6",
        "colab": {
          "base_uri": "https://localhost:8080/"
        }
      },
      "source": [
        "from sklearn.ensemble import RandomForestRegressor\n",
        "rf_dc = RandomForestRegressor(max_depth=2, random_state=0)\n",
        "rf_dc.fit(X_train_dc, y_train_dc,)\n"
      ],
      "execution_count": 184,
      "outputs": [
        {
          "output_type": "execute_result",
          "data": {
            "text/plain": [
              "RandomForestRegressor(bootstrap=True, ccp_alpha=0.0, criterion='mse',\n",
              "                      max_depth=2, max_features='auto', max_leaf_nodes=None,\n",
              "                      max_samples=None, min_impurity_decrease=0.0,\n",
              "                      min_impurity_split=None, min_samples_leaf=1,\n",
              "                      min_samples_split=2, min_weight_fraction_leaf=0.0,\n",
              "                      n_estimators=100, n_jobs=None, oob_score=False,\n",
              "                      random_state=0, verbose=0, warm_start=False)"
            ]
          },
          "metadata": {
            "tags": []
          },
          "execution_count": 184
        }
      ]
    },
    {
      "cell_type": "code",
      "metadata": {
        "id": "ymTuhJURT8hC",
        "outputId": "db406b19-1ca1-4151-c824-69af29c5fcba",
        "colab": {
          "base_uri": "https://localhost:8080/"
        }
      },
      "source": [
        "rf_dc.score(X_test_dc, y_test_dc)"
      ],
      "execution_count": 185,
      "outputs": [
        {
          "output_type": "execute_result",
          "data": {
            "text/plain": [
              "0.623654441621966"
            ]
          },
          "metadata": {
            "tags": []
          },
          "execution_count": 185
        }
      ]
    },
    {
      "cell_type": "markdown",
      "metadata": {
        "id": "_GnbcHEsOO-F"
      },
      "source": [
        "The accuracy of this model is 0.62, which meas 62% of the predicting data is same to the real data. "
      ]
    },
    {
      "cell_type": "code",
      "metadata": {
        "id": "jX2RquwBUT0a",
        "outputId": "fc0c2f58-6985-4f24-e9f6-04e53331f82e",
        "colab": {
          "base_uri": "https://localhost:8080/"
        }
      },
      "source": [
        "rf_dc.feature_importances_"
      ],
      "execution_count": 186,
      "outputs": [
        {
          "output_type": "execute_result",
          "data": {
            "text/plain": [
              "array([0.00798167, 0.98761658, 0.        , 0.        , 0.        ,\n",
              "       0.        , 0.        , 0.        , 0.        , 0.        ,\n",
              "       0.        , 0.        , 0.        , 0.        , 0.        ,\n",
              "       0.        , 0.        , 0.        , 0.        , 0.        ,\n",
              "       0.        , 0.        , 0.        , 0.00325772, 0.        ,\n",
              "       0.        , 0.        , 0.        , 0.        , 0.        ,\n",
              "       0.        , 0.        , 0.        , 0.        , 0.        ,\n",
              "       0.        , 0.        , 0.        , 0.        , 0.        ,\n",
              "       0.        , 0.        , 0.        , 0.        , 0.        ,\n",
              "       0.        , 0.        , 0.        , 0.        , 0.        ,\n",
              "       0.        , 0.        , 0.        , 0.        , 0.        ,\n",
              "       0.        , 0.        , 0.        , 0.        , 0.        ,\n",
              "       0.        , 0.        , 0.        , 0.        , 0.        ,\n",
              "       0.        , 0.        , 0.        , 0.00114403, 0.        ,\n",
              "       0.        , 0.        , 0.        , 0.        , 0.        ,\n",
              "       0.        , 0.        , 0.        , 0.        , 0.        ,\n",
              "       0.        , 0.        , 0.        , 0.        , 0.        ,\n",
              "       0.        , 0.        , 0.        , 0.        , 0.        ,\n",
              "       0.        , 0.        , 0.        , 0.        , 0.        ,\n",
              "       0.        , 0.        , 0.        , 0.        , 0.        ,\n",
              "       0.        , 0.        , 0.        , 0.        , 0.        ,\n",
              "       0.        , 0.        , 0.        , 0.        , 0.        ,\n",
              "       0.        , 0.        , 0.        , 0.        , 0.        ,\n",
              "       0.        , 0.        , 0.        , 0.        , 0.        ,\n",
              "       0.        , 0.        , 0.        , 0.        , 0.        ,\n",
              "       0.        , 0.        , 0.        , 0.        , 0.        ,\n",
              "       0.        , 0.        , 0.        , 0.        , 0.        ,\n",
              "       0.        , 0.        , 0.        , 0.        , 0.        ,\n",
              "       0.        , 0.        , 0.        , 0.        , 0.        ,\n",
              "       0.        , 0.        , 0.        , 0.        , 0.        ,\n",
              "       0.        , 0.        , 0.        , 0.        , 0.        ,\n",
              "       0.        , 0.        , 0.        , 0.        , 0.        ,\n",
              "       0.        , 0.        , 0.        , 0.        , 0.        ,\n",
              "       0.        , 0.        , 0.        , 0.        , 0.        ,\n",
              "       0.        , 0.        , 0.        , 0.        , 0.        ,\n",
              "       0.        , 0.        , 0.        , 0.        , 0.        ,\n",
              "       0.        , 0.        , 0.        , 0.        , 0.        ,\n",
              "       0.        , 0.        , 0.        , 0.        , 0.        ,\n",
              "       0.        , 0.        , 0.        , 0.        , 0.        ,\n",
              "       0.        , 0.        , 0.        , 0.        , 0.        ,\n",
              "       0.        , 0.        , 0.        , 0.        , 0.        ,\n",
              "       0.        , 0.        , 0.        , 0.        , 0.        ,\n",
              "       0.        , 0.        , 0.        , 0.        , 0.        ,\n",
              "       0.        , 0.        , 0.        , 0.        , 0.        ,\n",
              "       0.        , 0.        , 0.        , 0.        , 0.        ,\n",
              "       0.        , 0.        , 0.        , 0.        , 0.        ,\n",
              "       0.        , 0.        , 0.        , 0.        , 0.        ,\n",
              "       0.        , 0.        , 0.        , 0.        , 0.        ,\n",
              "       0.        , 0.        , 0.        , 0.        , 0.        ,\n",
              "       0.        , 0.        , 0.        , 0.        , 0.        ,\n",
              "       0.        , 0.        , 0.        , 0.        , 0.        ,\n",
              "       0.        , 0.        , 0.        , 0.        , 0.        ,\n",
              "       0.        , 0.        , 0.        , 0.        , 0.        ,\n",
              "       0.        , 0.        , 0.        , 0.        , 0.        ,\n",
              "       0.        , 0.        , 0.        , 0.        , 0.        ,\n",
              "       0.        , 0.        , 0.        , 0.        , 0.        ,\n",
              "       0.        , 0.        , 0.        , 0.        , 0.        ,\n",
              "       0.        , 0.        , 0.        , 0.        , 0.        ,\n",
              "       0.        , 0.        , 0.        , 0.        , 0.        ,\n",
              "       0.        , 0.        , 0.        , 0.        ])"
            ]
          },
          "metadata": {
            "tags": []
          },
          "execution_count": 186
        }
      ]
    },
    {
      "cell_type": "code",
      "metadata": {
        "id": "465vWw5gWGA3",
        "outputId": "aa743406-44d3-4ac3-ce37-12e74a6b180b",
        "colab": {
          "base_uri": "https://localhost:8080/"
        }
      },
      "source": [
        "feature_names_dc = np.concatenate([dc_feature.drop([\"report_status\", \"primary_ptype_self\", \"primary_ptype_epa\", \n",
        "               \"metered_areas_energy\", \"metered_areas_water\", \"ward\",\"postal_code\",\n",
        "               \"year_built\", \"tax_record_floor_area\", \"reported_gross_floor_area\", \"water_use\"], axis=1).columns.values, np.concatenate(enc_dc.categories_)])\n",
        "feature_names_dc\n"
      ],
      "execution_count": 187,
      "outputs": [
        {
          "output_type": "execute_result",
          "data": {
            "text/plain": [
              "array(['log_floor_area_tax', 'log_floor_area_reported', 'log_water_use',\n",
              "       'Data under review by DOEE', 'In Compliance', 'Adult Education',\n",
              "       'College/University', 'Distribution Center', 'Enclosed Mall',\n",
              "       'Financial Office', 'Fire Station',\n",
              "       'Fitness Center/Health Club/Gym', 'Food Service',\n",
              "       'Hospital (General Medical & Surgical)', 'Hotel', 'K-12 School',\n",
              "       'Laboratory', 'Library', 'Manufacturing/Industrial Plant',\n",
              "       'Medical Office', 'Mixed Use Property', 'Movie Theater',\n",
              "       'Multifamily Housing', 'Museum', 'Non-Refrigerated Warehouse',\n",
              "       'Office', 'Other', 'Other - Education',\n",
              "       'Other - Entertainment/Public Assembly',\n",
              "       'Other - Lodging/Residential', 'Other - Mall',\n",
              "       'Other - Public Services', 'Other - Recreation',\n",
              "       'Other - Specialty Hospital',\n",
              "       'Outpatient Rehabilitation/Physical Therapy', 'Performing Arts',\n",
              "       'Police Station', 'Pre-school/Daycare', 'Prison/Incarceration',\n",
              "       'Repair Services (Vehicle Shoe Locksmith etc.)',\n",
              "       'Residence Hall/Dormitory', 'Retail Store',\n",
              "       'Self-Storage Facility', 'Senior Care Community',\n",
              "       'Social/Meeting Hall', 'Strip Mall', 'Supermarket/Grocery Store',\n",
              "       'Urgent Care/Clinic/Other Outpatient',\n",
              "       'Wholesale Club/Supercenter', 'Worship Facility',\n",
              "       'Adult Education', 'College/University', 'Distribution Center',\n",
              "       'Enclosed Mall', 'Financial Office', 'Fire Station',\n",
              "       'Fitness Center/Health Club/Gym', 'Food Service',\n",
              "       'Hospital (General Medical & Surgical)', 'Hotel', 'K-12 School',\n",
              "       'Laboratory', 'Library', 'Manufacturing/Industrial Plant',\n",
              "       'Medical Office', 'Mixed Use Property', 'Movie Theater',\n",
              "       'Multifamily Housing', 'Museum', 'Non-Refrigerated Warehouse',\n",
              "       'Office', 'Other', 'Other - Education',\n",
              "       'Other - Entertainment/Public Assembly',\n",
              "       'Other - Lodging/Residential', 'Other - Mall',\n",
              "       'Other - Public Services', 'Other - Recreation',\n",
              "       'Other - Services', 'Other - Specialty Hospital',\n",
              "       'Outpatient Rehabilitation/Physical Therapy', 'Parking',\n",
              "       'Performing Arts', 'Police Station',\n",
              "       'Repair Services (Vehicle Shoe Locksmith etc.)',\n",
              "       'Residence Hall/Dormitory', 'Retail Store',\n",
              "       'Self-Storage Facility', 'Senior Care Community',\n",
              "       'Social/Meeting Hall', 'Strip Mall', 'Supermarket/Grocery Store',\n",
              "       'Urgent Care/Clinic/Other Outpatient',\n",
              "       'Wholesale Club/Supercenter', 'Worship Facility',\n",
              "       'Another configuration', 'Common areas only', 'Whole Building',\n",
              "       'Another configuration', 'Combination of common and tenant areas',\n",
              "       'Whole Building', 1, 2, 3, 4, 5, 6, 7, 8, '20001', '20001-2620',\n",
              "       '20001-3710', '20002', '20002-3408', '20002-7000', '20003',\n",
              "       '20004', '20005', '20005-2806', '20005-3301', '20005-5504',\n",
              "       '20006', '200062407', '200063912', '20007', '20008', '20008-1811',\n",
              "       '20009', '20010', '20011', '20011-4959', '20012', '20015', '20016',\n",
              "       '200163300', '20017', '200171566', '20018', '20018-2505', '20019',\n",
              "       '20020', '20024', '200242459', '20032', '20036', '200362103',\n",
              "       '20037', '20037-1445', '20049', '20052', '20057', '20059', '20064',\n",
              "       '20577', '20590', '20910', '22036', '22048', '22202', '22204',\n",
              "       '22209', 1000, 1789, 1829, 1844, 1850, 1864, 1868, 1869, 1875,\n",
              "       1880, 1882, 1885, 1886, 1887, 1888, 1889, 1890, 1891, 1895, 1896,\n",
              "       1897, 1898, 1900, 1901, 1903, 1904, 1905, 1906, 1907, 1908, 1909,\n",
              "       1910, 1911, 1912, 1913, 1914, 1915, 1916, 1917, 1918, 1920, 1921,\n",
              "       1922, 1923, 1924, 1925, 1926, 1927, 1928, 1929, 1930, 1931, 1932,\n",
              "       1933, 1934, 1935, 1936, 1937, 1938, 1939, 1940, 1941, 1942, 1943,\n",
              "       1944, 1945, 1946, 1947, 1948, 1949, 1950, 1951, 1952, 1953, 1954,\n",
              "       1955, 1956, 1957, 1958, 1959, 1960, 1961, 1962, 1963, 1964, 1965,\n",
              "       1966, 1967, 1968, 1969, 1970, 1971, 1972, 1973, 1974, 1975, 1976,\n",
              "       1977, 1978, 1979, 1980, 1981, 1982, 1983, 1984, 1985, 1986, 1987,\n",
              "       1988, 1989, 1990, 1991, 1992, 1993, 1994, 1995, 1996, 1997, 1998,\n",
              "       1999, 2000, 2001, 2002, 2003, 2004, 2005, 2006, 2007, 2008, 2009,\n",
              "       2010, 2011, 2012, 2013, 2014, 2015, 2016, 2017], dtype=object)"
            ]
          },
          "metadata": {
            "tags": []
          },
          "execution_count": 187
        }
      ]
    },
    {
      "cell_type": "code",
      "metadata": {
        "id": "jO9F9bMRUYgU",
        "outputId": "9be67acb-7afd-4f98-9b89-812971d73a70",
        "colab": {
          "base_uri": "https://localhost:8080/",
          "height": 1000
        }
      },
      "source": [
        "import pylab as plt\n",
        "tree_feature_importances_dc = (\n",
        "    rf_dc.feature_importances_)\n",
        "sorted_idx_dc = tree_feature_importances_dc.argsort()\n",
        "\n",
        "y_ticks_dc = np.arange(0, len(feature_names_dc))\n",
        "fig, ax = plt.subplots(figsize=(10,50))\n",
        "ax.barh(y_ticks_dc, tree_feature_importances_dc[sorted_idx_dc])\n",
        "ax.set_yticklabels(feature_names_dc[sorted_idx_dc])\n",
        "ax.set_yticks(y_ticks_dc)\n",
        "ax.set_title(\"Random Forest Feature Importances (MDI)\")\n",
        "fig.tight_layout()\n",
        "plt.show()"
      ],
      "execution_count": 188,
      "outputs": [
        {
          "output_type": "display_data",
          "data": {
            "image/png": "[encoded data removed]",
            "text/plain": [
              "<Figure size 720x3600 with 1 Axes>"
            ]
          },
          "metadata": {
            "tags": [],
            "needs_background": "light"
          }
        }
      ]
    },
    {
      "cell_type": "markdown",
      "metadata": {
        "id": "PFnVPPeqKXMC"
      },
      "source": [
        "According to the random feature plot, the first two important columns are log floor area reported and log floor area tax. It indicates that the buildig energy consumptio is highly related to the builing area. My results is similiar to the paper."
      ]
    },
    {
      "cell_type": "code",
      "metadata": {
        "id": "uOdNhU_5KcSR",
        "outputId": "55adb5ce-5a4b-4df8-d464-16cb0a0a74ca",
        "colab": {
          "base_uri": "https://localhost:8080/"
        }
      },
      "source": [
        "rf_ld = RandomForestRegressor(max_depth=2, random_state=0)\n",
        "rf_ld.fit(X_train_ld, y_train_ld)\n"
      ],
      "execution_count": 210,
      "outputs": [
        {
          "output_type": "execute_result",
          "data": {
            "text/plain": [
              "RandomForestRegressor(bootstrap=True, ccp_alpha=0.0, criterion='mse',\n",
              "                      max_depth=2, max_features='auto', max_leaf_nodes=None,\n",
              "                      max_samples=None, min_impurity_decrease=0.0,\n",
              "                      min_impurity_split=None, min_samples_leaf=1,\n",
              "                      min_samples_split=2, min_weight_fraction_leaf=0.0,\n",
              "                      n_estimators=100, n_jobs=None, oob_score=False,\n",
              "                      random_state=0, verbose=0, warm_start=False)"
            ]
          },
          "metadata": {
            "tags": []
          },
          "execution_count": 210
        }
      ]
    },
    {
      "cell_type": "code",
      "metadata": {
        "id": "rByFknOdKf7s",
        "outputId": "586022e3-7dd9-495f-edb2-26f23725a3ef",
        "colab": {
          "base_uri": "https://localhost:8080/"
        }
      },
      "source": [
        "rf_ld.score(X_test_ld, y_test_ld)"
      ],
      "execution_count": 211,
      "outputs": [
        {
          "output_type": "execute_result",
          "data": {
            "text/plain": [
              "0.6895891666306935"
            ]
          },
          "metadata": {
            "tags": []
          },
          "execution_count": 211
        }
      ]
    },
    {
      "cell_type": "markdown",
      "metadata": {
        "id": "i60yNnrqOLKu"
      },
      "source": [
        "The accuracy of this model is 0.70, which meas 70% of the predicting data is same to the real data. "
      ]
    },
    {
      "cell_type": "code",
      "metadata": {
        "id": "4csT_U4kKmOD",
        "outputId": "f951f4e3-321c-4657-f8e4-6b78c6c12eae",
        "colab": {
          "base_uri": "https://localhost:8080/"
        }
      },
      "source": [
        "rf_ld.feature_importances_"
      ],
      "execution_count": 212,
      "outputs": [
        {
          "output_type": "execute_result",
          "data": {
            "text/plain": [
              "array([1., 0., 0., 0., 0., 0., 0., 0., 0., 0., 0., 0., 0., 0., 0., 0., 0.,\n",
              "       0., 0., 0., 0.])"
            ]
          },
          "metadata": {
            "tags": []
          },
          "execution_count": 212
        }
      ]
    },
    {
      "cell_type": "code",
      "metadata": {
        "id": "ZjP7YKblKpbn",
        "outputId": "16d3244a-d441-4049-ba90-0fe8dbf86611",
        "colab": {
          "base_uri": "https://localhost:8080/"
        }
      },
      "source": [
        "feature_names_ld = np.hstack([x1_ld.columns, encode_feature_ld])\n",
        "feature_names_ld"
      ],
      "execution_count": 192,
      "outputs": [
        {
          "output_type": "execute_result",
          "data": {
            "text/plain": [
              "array(['log_area', 'typical_fuel_eui_KWHM2',\n",
              "       'typical_electricity_eui_KWHM2', 'x0_Anthracite', 'x0_Biogas',\n",
              "       'x0_Biomass', 'x0_Coal', 'x0_District Heating',\n",
              "       'x0_Grid Supplied Electricity', 'x0_LPG', 'x0_Natural Gas',\n",
              "       'x0_None', 'x0_Oil', 'x0_Other', 'x1_Air Conditioning',\n",
              "       'x1_Heating and Mechanical Ventilation',\n",
              "       'x1_Heating and Natural Ventilation',\n",
              "       'x1_Mechanical Ventilation Only',\n",
              "       'x1_Mixed-mode with Mechanical Ventilation',\n",
              "       'x1_Mixed-mode with Natural Ventilation',\n",
              "       'x1_Natural Ventilation Only'], dtype=object)"
            ]
          },
          "metadata": {
            "tags": []
          },
          "execution_count": 192
        }
      ]
    },
    {
      "cell_type": "code",
      "metadata": {
        "id": "GZv6cNrQE7Um"
      },
      "source": [
        "feature_names_ld = np.concatenate([ld_features.drop(['heating_fuel_type', 'hvac_type', 'floor_area_SF'], axis=1).columns.values, np.concatenate(enc_ld.categories_)])"
      ],
      "execution_count": 215,
      "outputs": []
    },
    {
      "cell_type": "code",
      "metadata": {
        "id": "wv1sEryuK8lJ",
        "outputId": "3bff10f4-a718-418d-9274-624bdaa7fce6",
        "colab": {
          "base_uri": "https://localhost:8080/",
          "height": 728
        }
      },
      "source": [
        "tree_feature_importances_ld = (\n",
        "    rf_ld.feature_importances_)\n",
        "sorted_idx_ld = tree_feature_importances_ld.argsort()\n",
        "\n",
        "y_ticks_ld = np.arange(0, len(feature_names_ld))\n",
        "fig, ax = plt.subplots(figsize=(10,10))\n",
        "ax.barh(y_ticks_ld, tree_feature_importances_ld[sorted_idx_ld])\n",
        "ax.set_yticklabels(feature_names_ld[sorted_idx_ld])\n",
        "ax.set_yticks(y_ticks_ld)\n",
        "ax.set_title(\"Random Forest Feature Importances (MDI)\")\n",
        "fig.tight_layout()\n",
        "plt.show()"
      ],
      "execution_count": 217,
      "outputs": [
        {
          "output_type": "display_data",
          "data": {
            "image/png": "[encoded data removed]",
            "text/plain": [
              "<Figure size 720x720 with 1 Axes>"
            ]
          },
          "metadata": {
            "tags": [],
            "needs_background": "light"
          }
        }
      ]
    },
    {
      "cell_type": "markdown",
      "metadata": {
        "id": "NALePXpXK80z"
      },
      "source": [
        "According to the random feature plot, the first important columns is typical_fuel_eui_KWHM2, which is differet to the paper result. I think it might be party due to the training and test split. The feature importance results in london is also different to it is in DC, which it might party explained by the local contexts of each city "
      ]
    },
    {
      "cell_type": "markdown",
      "metadata": {
        "id": "XZxr_mNXV5QB"
      },
      "source": [
        "# useful links and methods and functions I used: \n",
        "\n",
        "```df.dropna()``` to remove observation with missing variables\n",
        "\n",
        "```df.drop(columns, axis=1)``` to remove features (columns)\n",
        "\n",
        "\n",
        "```np.log10()``` and ```np.isinf()``` to convert to log space and find infinite values  \n"
      ]
    },
    {
      "cell_type": "markdown",
      "metadata": {
        "id": "glzZInBSoLjW"
      },
      "source": [
        "one hot encoder https://scikit-learn.org/stable/modules/generated/sklearn.preprocessing.OneHotEncoder.html and https://stackabuse.com/one-hot-encoding-in-python-with-pandas-and-scikit-learn/\n"
      ]
    },
    {
      "cell_type": "markdown",
      "metadata": {
        "id": "c9_0ZFaGqRj1"
      },
      "source": [
        "KNN imputer https://scikit-learn.org/stable/modules/generated/sklearn.impute.KNNImputer.html , https://www.analyticsvidhya.com/blog/2020/07/knnimputer-a-robust-way-to-impute-missing-values-using-scikit-learn/, and \n",
        "https://machinelearningmastery.com/knn-imputation-for-missing-values-in-machine-learning/  "
      ]
    },
    {
      "cell_type": "code",
      "metadata": {
        "id": "bKLcYpBcqggC"
      },
      "source": [
        ""
      ],
      "execution_count": 197,
      "outputs": []
    }
  ]
}