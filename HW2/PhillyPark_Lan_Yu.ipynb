{
  "nbformat": 4,
  "nbformat_minor": 0,
  "metadata": {
    "colab": {
      "name": "HW2_Lan_Yu.ipynb",
      "provenance": [],
      "authorship_tag": "ABX9TyNogBpBl7YaVYokz23Zzs4+",
      "include_colab_link": true
    },
    "kernelspec": {
      "name": "python3",
      "display_name": "Python 3"
    }
  },
  "cells": [
    {
      "cell_type": "markdown",
      "metadata": {
        "id": "view-in-github",
        "colab_type": "text"
      },
      "source": [
        "<a href=\"https://colab.research.google.com/github/lanyu0322/PUS2020_LYu/blob/master/HW2/PhillyPark_Lan_Yu.ipynb\" target=\"_parent\"><img src=\"https://colab.research.google.com/assets/colab-badge.svg\" alt=\"Open In Colab\"/></a>"
      ]
    },
    {
      "cell_type": "code",
      "metadata": {
        "id": "7OEup8cnh2Gb",
        "colab_type": "code",
        "colab": {}
      },
      "source": [
        "import pandas as pd\n"
      ],
      "execution_count": 2,
      "outputs": []
    },
    {
      "cell_type": "code",
      "metadata": {
        "id": "fD2_sSA1h4V3",
        "colab_type": "code",
        "colab": {}
      },
      "source": [
        "# -- Read in the data about the Philly parks\n",
        "pparks = pd.read_csv(\"http://data-phl.opendata.arcgis.com/datasets/d52445160ab14380a673e5849203eb64_0.csv\")"
      ],
      "execution_count": 3,
      "outputs": []
    },
    {
      "cell_type": "code",
      "metadata": {
        "id": "OQ9fp-ZliTGH",
        "colab_type": "code",
        "colab": {
          "base_uri": "https://localhost:8080/",
          "height": 33
        },
        "outputId": "244669db-4407-4daa-8fa8-d5768d4fd141"
      },
      "source": [
        "# -- show the shape of the parks file dataframe\n",
        "pparks.shape"
      ],
      "execution_count": 4,
      "outputs": [
        {
          "output_type": "execute_result",
          "data": {
            "text/plain": [
              "(522, 25)"
            ]
          },
          "metadata": {
            "tags": []
          },
          "execution_count": 4
        }
      ]
    },
    {
      "cell_type": "code",
      "metadata": {
        "id": "ZQz4Q0dqibtI",
        "colab_type": "code",
        "colab": {
          "base_uri": "https://localhost:8080/",
          "height": 131
        },
        "outputId": "47ccf32c-d9f5-4bb7-dabd-4d054d0bf3f8"
      },
      "source": [
        "# -- show the column names in the dataframe\n",
        "pparks.columns"
      ],
      "execution_count": 5,
      "outputs": [
        {
          "output_type": "execute_result",
          "data": {
            "text/plain": [
              "Index(['OBJECTID', 'PUBLIC_NAME', 'PARENT_NAME', 'NESTED', 'OFFICIAL_NAME',\n",
              "       'LABEL', 'ALIAS', 'DPP_ASSET_ID', 'ADDRESS911', 'ZIPCODE',\n",
              "       'ADDRESS_BRT', 'ALIAS_ADDRESS', 'ACREAGE', 'PROPERTY_CLASSIFICATION',\n",
              "       'PPR_USE', 'PPR_DISTRICT', 'PPR_OPS_DISTRICT', 'COUNCIL_DISTRICT',\n",
              "       'POLICE_DISTRICT', 'CITY_SCALE_MAPS', 'LOCAL_SCALE_MAPS',\n",
              "       'PROGRAM_SITES', 'COMMENTS', 'Shape__Area', 'Shape__Length'],\n",
              "      dtype='object')"
            ]
          },
          "metadata": {
            "tags": []
          },
          "execution_count": 5
        }
      ]
    },
    {
      "cell_type": "code",
      "metadata": {
        "id": "okqI9h-vjosv",
        "colab_type": "code",
        "colab": {
          "base_uri": "https://localhost:8080/",
          "height": 552
        },
        "outputId": "61ae2cbd-6d47-4423-8f20-89d10bd9ee3a"
      },
      "source": [
        "# -- show the beginning of the dataframe (the first 5 rows)\n",
        "pparks.head(5)\n"
      ],
      "execution_count": 6,
      "outputs": [
        {
          "output_type": "execute_result",
          "data": {
            "text/html": [
              "<div>\n",
              "<style scoped>\n",
              "    .dataframe tbody tr th:only-of-type {\n",
              "        vertical-align: middle;\n",
              "    }\n",
              "\n",
              "    .dataframe tbody tr th {\n",
              "        vertical-align: top;\n",
              "    }\n",
              "\n",
              "    .dataframe thead th {\n",
              "        text-align: right;\n",
              "    }\n",
              "</style>\n",
              "<table border=\"1\" class=\"dataframe\">\n",
              "  <thead>\n",
              "    <tr style=\"text-align: right;\">\n",
              "      <th></th>\n",
              "      <th>OBJECTID</th>\n",
              "      <th>PUBLIC_NAME</th>\n",
              "      <th>PARENT_NAME</th>\n",
              "      <th>NESTED</th>\n",
              "      <th>OFFICIAL_NAME</th>\n",
              "      <th>LABEL</th>\n",
              "      <th>ALIAS</th>\n",
              "      <th>DPP_ASSET_ID</th>\n",
              "      <th>ADDRESS911</th>\n",
              "      <th>ZIPCODE</th>\n",
              "      <th>ADDRESS_BRT</th>\n",
              "      <th>ALIAS_ADDRESS</th>\n",
              "      <th>ACREAGE</th>\n",
              "      <th>PROPERTY_CLASSIFICATION</th>\n",
              "      <th>PPR_USE</th>\n",
              "      <th>PPR_DISTRICT</th>\n",
              "      <th>PPR_OPS_DISTRICT</th>\n",
              "      <th>COUNCIL_DISTRICT</th>\n",
              "      <th>POLICE_DISTRICT</th>\n",
              "      <th>CITY_SCALE_MAPS</th>\n",
              "      <th>LOCAL_SCALE_MAPS</th>\n",
              "      <th>PROGRAM_SITES</th>\n",
              "      <th>COMMENTS</th>\n",
              "      <th>Shape__Area</th>\n",
              "      <th>Shape__Length</th>\n",
              "    </tr>\n",
              "  </thead>\n",
              "  <tbody>\n",
              "    <tr>\n",
              "      <th>0</th>\n",
              "      <td>1</td>\n",
              "      <td>William H (Billy) Markward Memorial Playground</td>\n",
              "      <td>Schuylkill River Park</td>\n",
              "      <td>Y</td>\n",
              "      <td>William H. (Billy) Markward Memorial Playground</td>\n",
              "      <td>Markward</td>\n",
              "      <td>NaN</td>\n",
              "      <td>1903</td>\n",
              "      <td>400 S TANEY ST</td>\n",
              "      <td>19146</td>\n",
              "      <td>400-16 S TANEY ST, 338-46 S 26TH ST, 300 S 26T...</td>\n",
              "      <td>400-16 S TANEY ST;Pine &amp; Taney;338-46 S 26TH S...</td>\n",
              "      <td>3.379158</td>\n",
              "      <td>NEIGHBORHOOD_PARK</td>\n",
              "      <td>RECREATION_SITE</td>\n",
              "      <td>7</td>\n",
              "      <td>5, 7</td>\n",
              "      <td>2</td>\n",
              "      <td>9</td>\n",
              "      <td>Y</td>\n",
              "      <td>Y</td>\n",
              "      <td>Y</td>\n",
              "      <td>NaN</td>\n",
              "      <td>23295.664062</td>\n",
              "      <td>892.868012</td>\n",
              "    </tr>\n",
              "    <tr>\n",
              "      <th>1</th>\n",
              "      <td>2</td>\n",
              "      <td>Schuylkill Banks</td>\n",
              "      <td>Schuylkill Banks</td>\n",
              "      <td>N</td>\n",
              "      <td>NaN</td>\n",
              "      <td>Schuylkill Banks</td>\n",
              "      <td>NaN</td>\n",
              "      <td>2794</td>\n",
              "      <td>400 S TANEY ST</td>\n",
              "      <td>19103</td>\n",
              "      <td>NaN</td>\n",
              "      <td>400-16 S TANEY ST</td>\n",
              "      <td>14.717314</td>\n",
              "      <td>NEIGHBORHOOD_PARK</td>\n",
              "      <td>GREENWAY_PARKWAY</td>\n",
              "      <td>7</td>\n",
              "      <td>5, 7</td>\n",
              "      <td>2, 5</td>\n",
              "      <td>9, 17</td>\n",
              "      <td>Y</td>\n",
              "      <td>Y</td>\n",
              "      <td>N</td>\n",
              "      <td>Bill 160113 (4/14/16) -South of South St Bridge</td>\n",
              "      <td>101477.179688</td>\n",
              "      <td>9300.670289</td>\n",
              "    </tr>\n",
              "    <tr>\n",
              "      <th>2</th>\n",
              "      <td>3</td>\n",
              "      <td>Schuylkill River Park</td>\n",
              "      <td>Schuylkill River Park</td>\n",
              "      <td>N</td>\n",
              "      <td>NaN</td>\n",
              "      <td>Schuylkill River Park</td>\n",
              "      <td>NaN</td>\n",
              "      <td>2992</td>\n",
              "      <td>400 S TANEY ST</td>\n",
              "      <td>19146</td>\n",
              "      <td>400-16 S TANEY ST, 338-46 S 26TH ST, 300 S 26T...</td>\n",
              "      <td>Pine &amp; Taney;400-16 S TANEY ST, 338-46 S 26TH ...</td>\n",
              "      <td>7.327000</td>\n",
              "      <td>NEIGHBORHOOD_PARK</td>\n",
              "      <td>RECREATION_SITE</td>\n",
              "      <td>7</td>\n",
              "      <td>5, 7</td>\n",
              "      <td>2</td>\n",
              "      <td>9</td>\n",
              "      <td>Y</td>\n",
              "      <td>Y</td>\n",
              "      <td>N</td>\n",
              "      <td>NaN</td>\n",
              "      <td>50512.582031</td>\n",
              "      <td>1259.304657</td>\n",
              "    </tr>\n",
              "    <tr>\n",
              "      <th>3</th>\n",
              "      <td>4</td>\n",
              "      <td>Frankford Boat Launch</td>\n",
              "      <td>Frankford Boat Launch</td>\n",
              "      <td>N</td>\n",
              "      <td>Frankford Boat Launch</td>\n",
              "      <td>Frankford Boat Launch</td>\n",
              "      <td>PA Fish &amp; Boat;Frankford Arsenal Boat Launch</td>\n",
              "      <td>3090</td>\n",
              "      <td>5625 TACONY ST</td>\n",
              "      <td>19137</td>\n",
              "      <td>5625 TACONY ST</td>\n",
              "      <td>5650 Tacony St</td>\n",
              "      <td>19.398075</td>\n",
              "      <td>NEIGHBORHOOD_PARK</td>\n",
              "      <td>BOATHOUSE_LAUNCH</td>\n",
              "      <td>2</td>\n",
              "      <td>2</td>\n",
              "      <td>6</td>\n",
              "      <td>15</td>\n",
              "      <td>Y</td>\n",
              "      <td>Y</td>\n",
              "      <td>N</td>\n",
              "      <td>NaN</td>\n",
              "      <td>133961.171875</td>\n",
              "      <td>1641.529044</td>\n",
              "    </tr>\n",
              "    <tr>\n",
              "      <th>4</th>\n",
              "      <td>5</td>\n",
              "      <td>Orthodox Street Park</td>\n",
              "      <td>Orthodox Street Park</td>\n",
              "      <td>N</td>\n",
              "      <td>NaN</td>\n",
              "      <td>Orthodox</td>\n",
              "      <td>Orthodox Street Parcel; Bridesburg Riverfront ...</td>\n",
              "      <td>3091</td>\n",
              "      <td>3101 ORTHODOX ST</td>\n",
              "      <td>19137</td>\n",
              "      <td>3101 ORTHODOX ST</td>\n",
              "      <td>NaN</td>\n",
              "      <td>16.229629</td>\n",
              "      <td>NEIGHBORHOOD_PARK</td>\n",
              "      <td>UNDEVELOPED</td>\n",
              "      <td>5</td>\n",
              "      <td>2</td>\n",
              "      <td>6</td>\n",
              "      <td>15</td>\n",
              "      <td>Y</td>\n",
              "      <td>Y</td>\n",
              "      <td>N</td>\n",
              "      <td>Officially acquired from PAID in 10/2019. Doc ...</td>\n",
              "      <td>112026.734375</td>\n",
              "      <td>1679.085206</td>\n",
              "    </tr>\n",
              "  </tbody>\n",
              "</table>\n",
              "</div>"
            ],
            "text/plain": [
              "   OBJECTID  ... Shape__Length\n",
              "0         1  ...    892.868012\n",
              "1         2  ...   9300.670289\n",
              "2         3  ...   1259.304657\n",
              "3         4  ...   1641.529044\n",
              "4         5  ...   1679.085206\n",
              "\n",
              "[5 rows x 25 columns]"
            ]
          },
          "metadata": {
            "tags": []
          },
          "execution_count": 6
        }
      ]
    },
    {
      "cell_type": "code",
      "metadata": {
        "id": "xnXCr92gj5X_",
        "colab_type": "code",
        "colab": {
          "base_uri": "https://localhost:8080/",
          "height": 422
        },
        "outputId": "58665ebb-ab08-4311-ad6c-9122afd50b4f"
      },
      "source": [
        "# -- show the end of the dataframe (the last 5 rows)\n",
        "pparks.tail(5)"
      ],
      "execution_count": 7,
      "outputs": [
        {
          "output_type": "execute_result",
          "data": {
            "text/html": [
              "<div>\n",
              "<style scoped>\n",
              "    .dataframe tbody tr th:only-of-type {\n",
              "        vertical-align: middle;\n",
              "    }\n",
              "\n",
              "    .dataframe tbody tr th {\n",
              "        vertical-align: top;\n",
              "    }\n",
              "\n",
              "    .dataframe thead th {\n",
              "        text-align: right;\n",
              "    }\n",
              "</style>\n",
              "<table border=\"1\" class=\"dataframe\">\n",
              "  <thead>\n",
              "    <tr style=\"text-align: right;\">\n",
              "      <th></th>\n",
              "      <th>OBJECTID</th>\n",
              "      <th>PUBLIC_NAME</th>\n",
              "      <th>PARENT_NAME</th>\n",
              "      <th>NESTED</th>\n",
              "      <th>OFFICIAL_NAME</th>\n",
              "      <th>LABEL</th>\n",
              "      <th>ALIAS</th>\n",
              "      <th>DPP_ASSET_ID</th>\n",
              "      <th>ADDRESS911</th>\n",
              "      <th>ZIPCODE</th>\n",
              "      <th>ADDRESS_BRT</th>\n",
              "      <th>ALIAS_ADDRESS</th>\n",
              "      <th>ACREAGE</th>\n",
              "      <th>PROPERTY_CLASSIFICATION</th>\n",
              "      <th>PPR_USE</th>\n",
              "      <th>PPR_DISTRICT</th>\n",
              "      <th>PPR_OPS_DISTRICT</th>\n",
              "      <th>COUNCIL_DISTRICT</th>\n",
              "      <th>POLICE_DISTRICT</th>\n",
              "      <th>CITY_SCALE_MAPS</th>\n",
              "      <th>LOCAL_SCALE_MAPS</th>\n",
              "      <th>PROGRAM_SITES</th>\n",
              "      <th>COMMENTS</th>\n",
              "      <th>Shape__Area</th>\n",
              "      <th>Shape__Length</th>\n",
              "    </tr>\n",
              "  </thead>\n",
              "  <tbody>\n",
              "    <tr>\n",
              "      <th>517</th>\n",
              "      <td>518</td>\n",
              "      <td>Sedgely and Fletcher Warehouse</td>\n",
              "      <td>Sedgely and Fletcher Warehouse</td>\n",
              "      <td>N</td>\n",
              "      <td>NaN</td>\n",
              "      <td>Sedgely Warehouse</td>\n",
              "      <td>Sedgley Storeroom;Maintenance Warehouse</td>\n",
              "      <td>99999</td>\n",
              "      <td>2528 W SEDGLEY AVE</td>\n",
              "      <td>19132</td>\n",
              "      <td>2528-34 W SEDGLEY AVE</td>\n",
              "      <td>W Sedgley Ave &amp; N 26th St;2528-34 W SEDGLEY AVE</td>\n",
              "      <td>0.773902</td>\n",
              "      <td>NEIGHBORHOOD_PARK</td>\n",
              "      <td>OPERATIONS</td>\n",
              "      <td>6</td>\n",
              "      <td>6</td>\n",
              "      <td>5</td>\n",
              "      <td>22</td>\n",
              "      <td>N</td>\n",
              "      <td>Y</td>\n",
              "      <td>N</td>\n",
              "      <td>School District leases to PPR.</td>\n",
              "      <td>5341.640625</td>\n",
              "      <td>356.178092</td>\n",
              "    </tr>\n",
              "    <tr>\n",
              "      <th>518</th>\n",
              "      <td>519</td>\n",
              "      <td>Fox Chase - Lorimer Trail Greenway (Rhawn)</td>\n",
              "      <td>Fox Chase - Lorimer Trail Greenway (Rhawn)</td>\n",
              "      <td>N</td>\n",
              "      <td>NaN</td>\n",
              "      <td>Fox Chase - Lorimer Greenway</td>\n",
              "      <td>NaN</td>\n",
              "      <td>99999</td>\n",
              "      <td>439 RHAWN ST</td>\n",
              "      <td>19111</td>\n",
              "      <td>NaN</td>\n",
              "      <td>Rhawn St and Elberon Ave;8217 BURHOLME AVE</td>\n",
              "      <td>3.589356</td>\n",
              "      <td>NEIGHBORHOOD_PARK</td>\n",
              "      <td>UNDEVELOPED</td>\n",
              "      <td>1</td>\n",
              "      <td>1</td>\n",
              "      <td>10</td>\n",
              "      <td>7</td>\n",
              "      <td>Y</td>\n",
              "      <td>Y</td>\n",
              "      <td>N</td>\n",
              "      <td>No Public Access. Undeveloped Land awaiting Fo...</td>\n",
              "      <td>24840.667969</td>\n",
              "      <td>2152.448099</td>\n",
              "    </tr>\n",
              "    <tr>\n",
              "      <th>519</th>\n",
              "      <td>520</td>\n",
              "      <td>Bartrams Mile Trail Greenway</td>\n",
              "      <td>Bartrams Mile Trail Greenway</td>\n",
              "      <td>N</td>\n",
              "      <td>NaN</td>\n",
              "      <td>Bartrams Trail Greenway</td>\n",
              "      <td>Bartram's Mile; Bartrams South</td>\n",
              "      <td>0</td>\n",
              "      <td>NaN</td>\n",
              "      <td>19143</td>\n",
              "      <td>NaN</td>\n",
              "      <td>NaN</td>\n",
              "      <td>9.217030</td>\n",
              "      <td>NEIGHBORHOOD_PARK</td>\n",
              "      <td>GREENWAY_PARKWAY</td>\n",
              "      <td>9</td>\n",
              "      <td>8</td>\n",
              "      <td>3</td>\n",
              "      <td>12,18</td>\n",
              "      <td>Y</td>\n",
              "      <td>N</td>\n",
              "      <td>N</td>\n",
              "      <td>In Development</td>\n",
              "      <td>63509.933594</td>\n",
              "      <td>2635.375719</td>\n",
              "    </tr>\n",
              "    <tr>\n",
              "      <th>520</th>\n",
              "      <td>521</td>\n",
              "      <td>Loretto and Gilham Triangle</td>\n",
              "      <td>Loretto and Gilham Triangle</td>\n",
              "      <td>N</td>\n",
              "      <td>NaN</td>\n",
              "      <td>Loretto and Gilham</td>\n",
              "      <td>Cranford Ave andd Magee Ave Traffic Island; No...</td>\n",
              "      <td>245</td>\n",
              "      <td>1385 GILHAM ST</td>\n",
              "      <td>19111</td>\n",
              "      <td>Registry - 144N070092</td>\n",
              "      <td>6540 LORETTO AVE</td>\n",
              "      <td>0.161596</td>\n",
              "      <td>POCKET_PARK</td>\n",
              "      <td>BREEZEWAY_ISLAND</td>\n",
              "      <td>1</td>\n",
              "      <td>2</td>\n",
              "      <td>9</td>\n",
              "      <td>2</td>\n",
              "      <td>Y</td>\n",
              "      <td>Y</td>\n",
              "      <td>N</td>\n",
              "      <td>NaN</td>\n",
              "      <td>1116.867188</td>\n",
              "      <td>144.694698</td>\n",
              "    </tr>\n",
              "    <tr>\n",
              "      <th>521</th>\n",
              "      <td>522</td>\n",
              "      <td>Rail Park</td>\n",
              "      <td>Rail Park</td>\n",
              "      <td>N</td>\n",
              "      <td>The Rail Park</td>\n",
              "      <td>Rail Park</td>\n",
              "      <td>NaN</td>\n",
              "      <td>99999</td>\n",
              "      <td>1250 NOBLE ST</td>\n",
              "      <td>19123</td>\n",
              "      <td>NaN</td>\n",
              "      <td>1136 CALLOWHILL ST</td>\n",
              "      <td>0.872112</td>\n",
              "      <td>NEIGHBORHOOD_PARK</td>\n",
              "      <td>GREENWAY_PARKWAY</td>\n",
              "      <td>10</td>\n",
              "      <td>5</td>\n",
              "      <td>1</td>\n",
              "      <td>6</td>\n",
              "      <td>Y</td>\n",
              "      <td>Y</td>\n",
              "      <td>N</td>\n",
              "      <td>Elevated former railway.</td>\n",
              "      <td>6009.941406</td>\n",
              "      <td>825.079151</td>\n",
              "    </tr>\n",
              "  </tbody>\n",
              "</table>\n",
              "</div>"
            ],
            "text/plain": [
              "     OBJECTID  ... Shape__Length\n",
              "517       518  ...    356.178092\n",
              "518       519  ...   2152.448099\n",
              "519       520  ...   2635.375719\n",
              "520       521  ...    144.694698\n",
              "521       522  ...    825.079151\n",
              "\n",
              "[5 rows x 25 columns]"
            ]
          },
          "metadata": {
            "tags": []
          },
          "execution_count": 7
        }
      ]
    },
    {
      "cell_type": "code",
      "metadata": {
        "id": "3X8SODqNkLWp",
        "colab_type": "code",
        "colab": {
          "base_uri": "https://localhost:8080/",
          "height": 131
        },
        "outputId": "eb1f417c-b29a-4996-9c45-76d5c1b4917b"
      },
      "source": [
        "# -- meausre the central tendency of the Philly park sizes\n",
        "# -- show the median size of the dataframe \n",
        "meandf = pparks.mean()\n",
        "mediandf = pparks.median()\n",
        "meandf"
      ],
      "execution_count": 12,
      "outputs": [
        {
          "output_type": "execute_result",
          "data": {
            "text/plain": [
              "OBJECTID            261.500000\n",
              "DPP_ASSET_ID       3761.093870\n",
              "ZIPCODE           19021.597701\n",
              "ACREAGE              23.238296\n",
              "Shape__Area      160576.663539\n",
              "Shape__Length      1813.954186\n",
              "dtype: float64"
            ]
          },
          "metadata": {
            "tags": []
          },
          "execution_count": 12
        }
      ]
    },
    {
      "cell_type": "code",
      "metadata": {
        "id": "hABcCOW0rryT",
        "colab_type": "code",
        "colab": {
          "base_uri": "https://localhost:8080/",
          "height": 131
        },
        "outputId": "1e58ae11-6aeb-4a61-89a6-bde1693ccb4f"
      },
      "source": [
        "mediandf"
      ],
      "execution_count": 13,
      "outputs": [
        {
          "output_type": "execute_result",
          "data": {
            "text/plain": [
              "OBJECTID           261.500000\n",
              "DPP_ASSET_ID      1846.500000\n",
              "ZIPCODE          19132.000000\n",
              "ACREAGE              3.593854\n",
              "Shape__Area      24832.205078\n",
              "Shape__Length      707.694865\n",
              "dtype: float64"
            ]
          },
          "metadata": {
            "tags": []
          },
          "execution_count": 13
        }
      ]
    },
    {
      "cell_type": "code",
      "metadata": {
        "id": "a4hlL4yQrdZW",
        "colab_type": "code",
        "colab": {
          "base_uri": "https://localhost:8080/",
          "height": 50
        },
        "outputId": "3f09a1c6-269f-4ca0-ea06-483086460e9e"
      },
      "source": [
        "meanps = pparks[\"ACREAGE\"].mean()\n",
        "medianps = pparks[\"ACREAGE\"].median()\n",
        "print(\"the mean value of park size is {meanps} Acres\".format(meanps = round(meanps, 3)))\n",
        "print(\"the median value of park size is {medianps} Acres\".format(medianps = round(medianps, 3)))"
      ],
      "execution_count": 9,
      "outputs": [
        {
          "output_type": "stream",
          "text": [
            "the mean value of park size is 23.238 Acres\n",
            "the median value of park size is 3.594 Acres\n"
          ],
          "name": "stdout"
        }
      ]
    },
    {
      "cell_type": "markdown",
      "metadata": {
        "id": "EkISVcsDnd1N",
        "colab_type": "text"
      },
      "source": [
        "The value of mean is larger than the median of Philly area. This indicates that park size data could be positive skew, which has a few relatively high values"
      ]
    },
    {
      "cell_type": "code",
      "metadata": {
        "id": "LJFLVs50oL8A",
        "colab_type": "code",
        "colab": {
          "base_uri": "https://localhost:8080/",
          "height": 278
        },
        "outputId": "4d13252a-304f-4df1-890d-65f80157c4a1"
      },
      "source": [
        "# -- visualize a histogram of the park size. \n",
        "# -- you can use the method of the ACREAGE column .hist()\n",
        "# -- choose an appropriate number of bins with the argument bins=\n",
        "# -- overplot on the histogram the mean and the median of the distribution\n",
        "ax = pparks.ACREAGE.hist(bins = 30)\n",
        "ax.axvline(x=meanps, c=\"orange\", label=\"mean\")\n",
        "ax.axvline(x=medianps, c=\"green\", label=\"median\")\n",
        "ax.set_xlabel(\"Pilly parks size(acres)\")\n",
        "ax.legend();\n"
      ],
      "execution_count": null,
      "outputs": [
        {
          "output_type": "display_data",
          "data": {
            "image/png": "[encoded data removed]",
            "text/plain": [
              "<Figure size 432x288 with 1 Axes>"
            ]
          },
          "metadata": {
            "tags": [],
            "needs_background": "light"
          }
        }
      ]
    },
    {
      "cell_type": "markdown",
      "metadata": {
        "id": "OOro6uG5Pd3E",
        "colab_type": "text"
      },
      "source": [
        "Figure Caption: the above figure shows the distribution of Pilly parks size. The orange line indicates the mean value of the Pilly parks size and the green line represents the median of the Pilly parks size. The x_label represents the parks' size and the unit is acre. y_label shows the frequence. According to the \n",
        "plot, the largest park size is around 2000 acres. \n",
        "In this histogram, we could see that mean value is larger than the median value, which means overall distribution of Pilly parks size is positive skew and the mass of the distribution is concentrated on the left of the figure. Thus, overall in Pilly, only a small portion of parks' size are larger than 250 acres. \n",
        "\n"
      ]
    },
    {
      "cell_type": "code",
      "metadata": {
        "id": "QoW241z_pebO",
        "colab_type": "code",
        "colab": {
          "base_uri": "https://localhost:8080/",
          "height": 33
        },
        "outputId": "51bdc828-b6bf-4d9b-cca1-ddd20191ed52"
      },
      "source": [
        "stdps = pparks[\"ACREAGE\"].std()\n",
        "print(\"the standard deviation of park size is {stdps} Acres\".format(stdps = round(stdps, 3)))\n"
      ],
      "execution_count": null,
      "outputs": [
        {
          "output_type": "stream",
          "text": [
            "the standard deviation of park size is 131.883 Acres\n"
          ],
          "name": "stdout"
        }
      ]
    },
    {
      "cell_type": "code",
      "metadata": {
        "id": "EVqt2cMiFjju",
        "colab_type": "code",
        "colab": {
          "base_uri": "https://localhost:8080/",
          "height": 278
        },
        "outputId": "0f72cf7c-23fa-4260-adde-f288b2e80087"
      },
      "source": [
        "# select only a subset of the parks: the pasks smaller than 10 acres\n",
        "sub = pparks[pparks[\"ACREAGE\"] < 10]\n",
        "meansub = sub[\"ACREAGE\"].mean()\n",
        "mediansub = sub[\"ACREAGE\"].median()\n",
        "ax = sub.ACREAGE.hist(bins = 30)\n",
        "ax.axvline(x=meansub, c=\"orange\", label=\"mean\")\n",
        "ax.axvline(x=mediansub, c=\"green\", label=\"median\")\n",
        "ax.set_xlabel(\"Pilly parks size(acres)\")\n",
        "ax.legend();"
      ],
      "execution_count": null,
      "outputs": [
        {
          "output_type": "display_data",
          "data": {
            "image/png": "[encoded data removed]",
            "text/plain": [
              "<Figure size 432x288 with 1 Axes>"
            ]
          },
          "metadata": {
            "tags": [],
            "needs_background": "light"
          }
        }
      ]
    },
    {
      "cell_type": "markdown",
      "metadata": {
        "id": "AoaQjjisXdtN",
        "colab_type": "text"
      },
      "source": [
        "Figure Caption: the above figure shows the distribution of the Pilly parks which are less than 10 acres. The orange line indicates the mean value of the Pilly parks' size (around 3 Acres) and the green line represents the median of the Pilly parks' size(around 2 Acres). The x_label represents the parks' size and the unit is Acre. y_label shows the frequence.\n",
        "In this histogram, we could see that mean value is larger than the median value, which means the overall distribution of Pilly parks size is positive skew and the mass of the distribution(the distribution of Pilly parks' size) is concentrated on the left of the figure. It has a few relatively high values."
      ]
    },
    {
      "cell_type": "code",
      "metadata": {
        "id": "exCS36FOSazO",
        "colab_type": "code",
        "colab": {
          "base_uri": "https://localhost:8080/",
          "height": 406
        },
        "outputId": "dbf1e875-e3c2-4905-e872-ea407ebb6a66"
      },
      "source": [
        "sub.head()"
      ],
      "execution_count": null,
      "outputs": [
        {
          "output_type": "execute_result",
          "data": {
            "text/html": [
              "<div>\n",
              "<style scoped>\n",
              "    .dataframe tbody tr th:only-of-type {\n",
              "        vertical-align: middle;\n",
              "    }\n",
              "\n",
              "    .dataframe tbody tr th {\n",
              "        vertical-align: top;\n",
              "    }\n",
              "\n",
              "    .dataframe thead th {\n",
              "        text-align: right;\n",
              "    }\n",
              "</style>\n",
              "<table border=\"1\" class=\"dataframe\">\n",
              "  <thead>\n",
              "    <tr style=\"text-align: right;\">\n",
              "      <th></th>\n",
              "      <th>OBJECTID</th>\n",
              "      <th>PUBLIC_NAME</th>\n",
              "      <th>PARENT_NAME</th>\n",
              "      <th>NESTED</th>\n",
              "      <th>OFFICIAL_NAME</th>\n",
              "      <th>LABEL</th>\n",
              "      <th>ALIAS</th>\n",
              "      <th>DPP_ASSET_ID</th>\n",
              "      <th>ADDRESS911</th>\n",
              "      <th>ZIPCODE</th>\n",
              "      <th>ADDRESS_BRT</th>\n",
              "      <th>ALIAS_ADDRESS</th>\n",
              "      <th>ACREAGE</th>\n",
              "      <th>PROPERTY_CLASSIFICATION</th>\n",
              "      <th>PPR_USE</th>\n",
              "      <th>PPR_DISTRICT</th>\n",
              "      <th>PPR_OPS_DISTRICT</th>\n",
              "      <th>COUNCIL_DISTRICT</th>\n",
              "      <th>POLICE_DISTRICT</th>\n",
              "      <th>CITY_SCALE_MAPS</th>\n",
              "      <th>LOCAL_SCALE_MAPS</th>\n",
              "      <th>PROGRAM_SITES</th>\n",
              "      <th>COMMENTS</th>\n",
              "      <th>Shape__Area</th>\n",
              "      <th>Shape__Length</th>\n",
              "    </tr>\n",
              "  </thead>\n",
              "  <tbody>\n",
              "    <tr>\n",
              "      <th>0</th>\n",
              "      <td>1</td>\n",
              "      <td>William H (Billy) Markward Memorial Playground</td>\n",
              "      <td>Schuylkill River Park</td>\n",
              "      <td>Y</td>\n",
              "      <td>William H. (Billy) Markward Memorial Playground</td>\n",
              "      <td>Markward</td>\n",
              "      <td>NaN</td>\n",
              "      <td>1903</td>\n",
              "      <td>400 S TANEY ST</td>\n",
              "      <td>19146</td>\n",
              "      <td>400-16 S TANEY ST, 338-46 S 26TH ST, 300 S 26T...</td>\n",
              "      <td>400-16 S TANEY ST;Pine &amp; Taney;338-46 S 26TH S...</td>\n",
              "      <td>3.379158</td>\n",
              "      <td>NEIGHBORHOOD_PARK</td>\n",
              "      <td>RECREATION_SITE</td>\n",
              "      <td>7</td>\n",
              "      <td>5, 7</td>\n",
              "      <td>2</td>\n",
              "      <td>9</td>\n",
              "      <td>Y</td>\n",
              "      <td>Y</td>\n",
              "      <td>Y</td>\n",
              "      <td>NaN</td>\n",
              "      <td>23295.664062</td>\n",
              "      <td>892.868012</td>\n",
              "    </tr>\n",
              "    <tr>\n",
              "      <th>2</th>\n",
              "      <td>3</td>\n",
              "      <td>Schuylkill River Park</td>\n",
              "      <td>Schuylkill River Park</td>\n",
              "      <td>N</td>\n",
              "      <td>NaN</td>\n",
              "      <td>Schuylkill River Park</td>\n",
              "      <td>NaN</td>\n",
              "      <td>2992</td>\n",
              "      <td>400 S TANEY ST</td>\n",
              "      <td>19146</td>\n",
              "      <td>400-16 S TANEY ST, 338-46 S 26TH ST, 300 S 26T...</td>\n",
              "      <td>Pine &amp; Taney;400-16 S TANEY ST, 338-46 S 26TH ...</td>\n",
              "      <td>7.327000</td>\n",
              "      <td>NEIGHBORHOOD_PARK</td>\n",
              "      <td>RECREATION_SITE</td>\n",
              "      <td>7</td>\n",
              "      <td>5, 7</td>\n",
              "      <td>2</td>\n",
              "      <td>9</td>\n",
              "      <td>Y</td>\n",
              "      <td>Y</td>\n",
              "      <td>N</td>\n",
              "      <td>NaN</td>\n",
              "      <td>50512.582031</td>\n",
              "      <td>1259.304657</td>\n",
              "    </tr>\n",
              "    <tr>\n",
              "      <th>15</th>\n",
              "      <td>16</td>\n",
              "      <td>Whitby Avenue Playground</td>\n",
              "      <td>Cobbs Creek Park</td>\n",
              "      <td>Y</td>\n",
              "      <td>NaN</td>\n",
              "      <td>Whitby</td>\n",
              "      <td></td>\n",
              "      <td>1372</td>\n",
              "      <td>1300 COBBS CREEK PKY</td>\n",
              "      <td>19143</td>\n",
              "      <td>NaN</td>\n",
              "      <td>NaN</td>\n",
              "      <td>5.167033</td>\n",
              "      <td>NEIGHBORHOOD_PARK</td>\n",
              "      <td>MISC_PARK</td>\n",
              "      <td>8</td>\n",
              "      <td>8</td>\n",
              "      <td>3</td>\n",
              "      <td>12</td>\n",
              "      <td>Y</td>\n",
              "      <td>Y</td>\n",
              "      <td>N</td>\n",
              "      <td>NaN</td>\n",
              "      <td>35613.878906</td>\n",
              "      <td>906.065942</td>\n",
              "    </tr>\n",
              "    <tr>\n",
              "      <th>16</th>\n",
              "      <td>17</td>\n",
              "      <td>Holme Avenue Field</td>\n",
              "      <td>Pennypack Park</td>\n",
              "      <td>Y</td>\n",
              "      <td>NaN</td>\n",
              "      <td>NaN</td>\n",
              "      <td></td>\n",
              "      <td>3088</td>\n",
              "      <td>2761 HOLME AVE</td>\n",
              "      <td>19152</td>\n",
              "      <td>NaN</td>\n",
              "      <td>NaN</td>\n",
              "      <td>1.158622</td>\n",
              "      <td>NEIGHBORHOOD_PARK</td>\n",
              "      <td>ATHLETIC_OTHER</td>\n",
              "      <td>1</td>\n",
              "      <td>1</td>\n",
              "      <td>6</td>\n",
              "      <td>8</td>\n",
              "      <td>N</td>\n",
              "      <td>N</td>\n",
              "      <td>N</td>\n",
              "      <td>NaN</td>\n",
              "      <td>8013.515625</td>\n",
              "      <td>453.300062</td>\n",
              "    </tr>\n",
              "    <tr>\n",
              "      <th>17</th>\n",
              "      <td>18</td>\n",
              "      <td>29th and Passyunk Park</td>\n",
              "      <td>29th and Passyunk Park</td>\n",
              "      <td>N</td>\n",
              "      <td>NaN</td>\n",
              "      <td>29th and Passyunk</td>\n",
              "      <td></td>\n",
              "      <td>432</td>\n",
              "      <td>2827 W PASSYUNK AVE</td>\n",
              "      <td>19145</td>\n",
              "      <td>2827 W PASSYUNK AVE</td>\n",
              "      <td>Newkirk &amp; Passyunk</td>\n",
              "      <td>0.556027</td>\n",
              "      <td>NEIGHBORHOOD_PARK</td>\n",
              "      <td>MISC_PARK</td>\n",
              "      <td>9</td>\n",
              "      <td>7</td>\n",
              "      <td>2</td>\n",
              "      <td>1</td>\n",
              "      <td>Y</td>\n",
              "      <td>Y</td>\n",
              "      <td>N</td>\n",
              "      <td>Owned by PennDOT</td>\n",
              "      <td>3830.242188</td>\n",
              "      <td>247.032048</td>\n",
              "    </tr>\n",
              "  </tbody>\n",
              "</table>\n",
              "</div>"
            ],
            "text/plain": [
              "    OBJECTID  ... Shape__Length\n",
              "0          1  ...    892.868012\n",
              "2          3  ...   1259.304657\n",
              "15        16  ...    906.065942\n",
              "16        17  ...    453.300062\n",
              "17        18  ...    247.032048\n",
              "\n",
              "[5 rows x 25 columns]"
            ]
          },
          "metadata": {
            "tags": []
          },
          "execution_count": 26
        }
      ]
    },
    {
      "cell_type": "code",
      "metadata": {
        "id": "R97XHMOdW8nf",
        "colab_type": "code",
        "colab": {
          "base_uri": "https://localhost:8080/",
          "height": 278
        },
        "outputId": "3e1030d7-bb84-4912-f26e-5760209ff308"
      },
      "source": [
        "# -- Challenge\n",
        "ppark_pn = pparks.groupby(\"PARENT_NAME\").sum().reset_index()\n",
        "meanpn = ppark_pn[\"ACREAGE\"].mean()\n",
        "medianpn = ppark_pn[\"ACREAGE\"].median()\n",
        "ax = ppark_pn[\"ACREAGE\"].hist(bins = 30)\n",
        "ax.axvline(x=meanpn, c=\"orange\", label=\"mean\")\n",
        "ax.axvline(x=medianpn, c=\"green\", label=\"median\")\n",
        "ax.set_xlabel(\"Pilly parent parks size(acres)\")\n",
        "ax.legend();\n"
      ],
      "execution_count": null,
      "outputs": [
        {
          "output_type": "display_data",
          "data": {
            "image/png": "[encoded data removed]",
            "text/plain": [
              "<Figure size 432x288 with 1 Axes>"
            ]
          },
          "metadata": {
            "tags": [],
            "needs_background": "light"
          }
        }
      ]
    },
    {
      "cell_type": "markdown",
      "metadata": {
        "id": "9lZxyE9PtWpb",
        "colab_type": "text"
      },
      "source": [
        "Figure Caption: the above figure shows the distribution of the Pilly \"parent\" park(the parks listed in each row in original dataset are in some cases subsets of larger parks). The orange line indicates the mean value of the Pilly parks'size and the green line represents the median of the Pilly parks' size. The x_label represents the parks' size and the unit is acre. y_label shows the frequence.\n",
        "\n",
        "In this histogram, we could see that mean value is larger than the median value, which means the overall distribution of Pilly parks size is positive skew and the mass of the distribution(the distribution of Pilly parks' size) is concentrated on the left of the figure. It has a few relatively high values.\n",
        "\n",
        "Difference: compared to the distribution of the Pilly park, the distribution of the Pilly \"parent\" park has more large size park, for example, more parks are concentrating between 1000 to 1500. The largest park size is around 2500 acres in the histogram of the Pilly \"parent\" park and the largest park size in the histogram of the Pilly parks is around 2000 acres. This also indicated in the number of frequence. In the Pilly \"parent\" park, the first bar has frequence around 375, but in the previous plot, the first bar is around 500. "
      ]
    },
    {
      "cell_type": "code",
      "metadata": {
        "id": "yOc3qhXKSgIX",
        "colab_type": "code",
        "colab": {
          "base_uri": "https://localhost:8080/",
          "height": 191
        },
        "outputId": "a4978d1f-d47a-4689-c6c4-04b80befcb9a"
      },
      "source": [
        "ppark_pn.head()"
      ],
      "execution_count": null,
      "outputs": [
        {
          "output_type": "execute_result",
          "data": {
            "text/html": [
              "<div>\n",
              "<style scoped>\n",
              "    .dataframe tbody tr th:only-of-type {\n",
              "        vertical-align: middle;\n",
              "    }\n",
              "\n",
              "    .dataframe tbody tr th {\n",
              "        vertical-align: top;\n",
              "    }\n",
              "\n",
              "    .dataframe thead th {\n",
              "        text-align: right;\n",
              "    }\n",
              "</style>\n",
              "<table border=\"1\" class=\"dataframe\">\n",
              "  <thead>\n",
              "    <tr style=\"text-align: right;\">\n",
              "      <th></th>\n",
              "      <th>PARENT_NAME</th>\n",
              "      <th>OBJECTID</th>\n",
              "      <th>DPP_ASSET_ID</th>\n",
              "      <th>ZIPCODE</th>\n",
              "      <th>ACREAGE</th>\n",
              "      <th>Shape__Area</th>\n",
              "      <th>Shape__Length</th>\n",
              "    </tr>\n",
              "  </thead>\n",
              "  <tbody>\n",
              "    <tr>\n",
              "      <th>0</th>\n",
              "      <td>10th and Lemon Playground</td>\n",
              "      <td>40</td>\n",
              "      <td>2914</td>\n",
              "      <td>19123</td>\n",
              "      <td>0.218346</td>\n",
              "      <td>1505.957031</td>\n",
              "      <td>169.462813</td>\n",
              "    </tr>\n",
              "    <tr>\n",
              "      <th>1</th>\n",
              "      <td>11th and Cecil B Moore Playground</td>\n",
              "      <td>183</td>\n",
              "      <td>1135</td>\n",
              "      <td>19122</td>\n",
              "      <td>5.181687</td>\n",
              "      <td>35754.375000</td>\n",
              "      <td>755.891229</td>\n",
              "    </tr>\n",
              "    <tr>\n",
              "      <th>2</th>\n",
              "      <td>12th and Cambria Playground</td>\n",
              "      <td>263</td>\n",
              "      <td>1800</td>\n",
              "      <td>19133</td>\n",
              "      <td>2.337384</td>\n",
              "      <td>16136.882812</td>\n",
              "      <td>542.995987</td>\n",
              "    </tr>\n",
              "    <tr>\n",
              "      <th>3</th>\n",
              "      <td>17th and Carpenter Play Lot</td>\n",
              "      <td>514</td>\n",
              "      <td>99999</td>\n",
              "      <td>19146</td>\n",
              "      <td>0.282406</td>\n",
              "      <td>1946.351562</td>\n",
              "      <td>184.887743</td>\n",
              "    </tr>\n",
              "    <tr>\n",
              "      <th>4</th>\n",
              "      <td>18th and Jackson War Memorial</td>\n",
              "      <td>390</td>\n",
              "      <td>1215</td>\n",
              "      <td>19145</td>\n",
              "      <td>0.083384</td>\n",
              "      <td>574.429688</td>\n",
              "      <td>148.363162</td>\n",
              "    </tr>\n",
              "  </tbody>\n",
              "</table>\n",
              "</div>"
            ],
            "text/plain": [
              "                         PARENT_NAME  OBJECTID  ...   Shape__Area  Shape__Length\n",
              "0          10th and Lemon Playground        40  ...   1505.957031     169.462813\n",
              "1  11th and Cecil B Moore Playground       183  ...  35754.375000     755.891229\n",
              "2        12th and Cambria Playground       263  ...  16136.882812     542.995987\n",
              "3        17th and Carpenter Play Lot       514  ...   1946.351562     184.887743\n",
              "4      18th and Jackson War Memorial       390  ...    574.429688     148.363162\n",
              "\n",
              "[5 rows x 7 columns]"
            ]
          },
          "metadata": {
            "tags": []
          },
          "execution_count": 27
        }
      ]
    },
    {
      "cell_type": "code",
      "metadata": {
        "id": "0GnHcwriRWJG",
        "colab_type": "code",
        "colab": {
          "base_uri": "https://localhost:8080/",
          "height": 33
        },
        "outputId": "ed1b37e6-b40b-4460-a982-e277fe1c6854"
      },
      "source": [
        "stdps = ppark_pn[\"ACREAGE\"].std()\n",
        "print(\"the standard deviation of park size is {stdps}\".format(stdps = round(stdps, 3)))"
      ],
      "execution_count": null,
      "outputs": [
        {
          "output_type": "stream",
          "text": [
            "the standard deviation of park size is 179.682\n"
          ],
          "name": "stdout"
        }
      ]
    },
    {
      "cell_type": "code",
      "metadata": {
        "id": "tyStRLraAUDV",
        "colab_type": "code",
        "colab": {
          "base_uri": "https://localhost:8080/",
          "height": 278
        },
        "outputId": "ec773864-6162-4862-8b88-f870f99cb178"
      },
      "source": [
        "# select only a subset of the parks: the pasks smaller than 10 acres\n",
        "sub_pn = ppark_pn[ppark_pn[\"ACREAGE\"] < 10]\n",
        "meansub_pn = sub_pn[\"ACREAGE\"].mean()\n",
        "mediansub_pn = sub_pn[\"ACREAGE\"].median()\n",
        "ax = sub_pn.ACREAGE.hist(bins = 30)\n",
        "ax.axvline(x=meansub_pn, c=\"orange\", label=\"mean\")\n",
        "ax.axvline(x=mediansub_pn, c=\"green\", label=\"median\")\n",
        "ax.set_xlabel(\"Pilly parks size(acres)\")\n",
        "ax.legend();"
      ],
      "execution_count": null,
      "outputs": [
        {
          "output_type": "display_data",
          "data": {
            "image/png": "[encoded data removed]",
            "text/plain": [
              "<Figure size 432x288 with 1 Axes>"
            ]
          },
          "metadata": {
            "tags": [],
            "needs_background": "light"
          }
        }
      ]
    },
    {
      "cell_type": "markdown",
      "metadata": {
        "id": "__3U0nbqPTkQ",
        "colab_type": "text"
      },
      "source": [
        "Figure Caption: the above figure shows the distribution of the Pilly \"parent\" park which are less than 10 acres. The orange line indicates the mean value of the Pilly parks'size and the green line represents the median of the Pilly parks' size. The x_label represents the parks' size and the unit is acres. y_label shows the frequence. \n",
        "\n",
        "In this histogram, we could see that mean value is larger than the median value, which means the overall distribution of Pilly \"parent\" parks size is positive skew and the mass of the distribution(the distribution of Pilly \"parent\" parks' size) is concentrated on the left of the figure. \n",
        "\n",
        "Difference:  It is obvious that the number of \"parent\" parks with size less than 10 acres is smaller than it in the previous figure. Expecially for the first pillar (the frequency has decreased from 70 to 60). Moreover, the mean value of park size has changed from 2.90 acres to 2.67 acres, the median value of park size has changed from 2.05 acres to 1.87 acres."
      ]
    },
    {
      "cell_type": "code",
      "metadata": {
        "id": "0OVUkwm2SkX0",
        "colab_type": "code",
        "colab": {
          "base_uri": "https://localhost:8080/",
          "height": 191
        },
        "outputId": "76df56be-c881-41bc-89d8-1261c6948879"
      },
      "source": [
        "sub_pn.head()"
      ],
      "execution_count": null,
      "outputs": [
        {
          "output_type": "execute_result",
          "data": {
            "text/html": [
              "<div>\n",
              "<style scoped>\n",
              "    .dataframe tbody tr th:only-of-type {\n",
              "        vertical-align: middle;\n",
              "    }\n",
              "\n",
              "    .dataframe tbody tr th {\n",
              "        vertical-align: top;\n",
              "    }\n",
              "\n",
              "    .dataframe thead th {\n",
              "        text-align: right;\n",
              "    }\n",
              "</style>\n",
              "<table border=\"1\" class=\"dataframe\">\n",
              "  <thead>\n",
              "    <tr style=\"text-align: right;\">\n",
              "      <th></th>\n",
              "      <th>PARENT_NAME</th>\n",
              "      <th>OBJECTID</th>\n",
              "      <th>DPP_ASSET_ID</th>\n",
              "      <th>ZIPCODE</th>\n",
              "      <th>ACREAGE</th>\n",
              "      <th>Shape__Area</th>\n",
              "      <th>Shape__Length</th>\n",
              "    </tr>\n",
              "  </thead>\n",
              "  <tbody>\n",
              "    <tr>\n",
              "      <th>0</th>\n",
              "      <td>10th and Lemon Playground</td>\n",
              "      <td>40</td>\n",
              "      <td>2914</td>\n",
              "      <td>19123</td>\n",
              "      <td>0.218346</td>\n",
              "      <td>1505.957031</td>\n",
              "      <td>169.462813</td>\n",
              "    </tr>\n",
              "    <tr>\n",
              "      <th>1</th>\n",
              "      <td>11th and Cecil B Moore Playground</td>\n",
              "      <td>183</td>\n",
              "      <td>1135</td>\n",
              "      <td>19122</td>\n",
              "      <td>5.181687</td>\n",
              "      <td>35754.375000</td>\n",
              "      <td>755.891229</td>\n",
              "    </tr>\n",
              "    <tr>\n",
              "      <th>2</th>\n",
              "      <td>12th and Cambria Playground</td>\n",
              "      <td>263</td>\n",
              "      <td>1800</td>\n",
              "      <td>19133</td>\n",
              "      <td>2.337384</td>\n",
              "      <td>16136.882812</td>\n",
              "      <td>542.995987</td>\n",
              "    </tr>\n",
              "    <tr>\n",
              "      <th>3</th>\n",
              "      <td>17th and Carpenter Play Lot</td>\n",
              "      <td>514</td>\n",
              "      <td>99999</td>\n",
              "      <td>19146</td>\n",
              "      <td>0.282406</td>\n",
              "      <td>1946.351562</td>\n",
              "      <td>184.887743</td>\n",
              "    </tr>\n",
              "    <tr>\n",
              "      <th>4</th>\n",
              "      <td>18th and Jackson War Memorial</td>\n",
              "      <td>390</td>\n",
              "      <td>1215</td>\n",
              "      <td>19145</td>\n",
              "      <td>0.083384</td>\n",
              "      <td>574.429688</td>\n",
              "      <td>148.363162</td>\n",
              "    </tr>\n",
              "  </tbody>\n",
              "</table>\n",
              "</div>"
            ],
            "text/plain": [
              "                         PARENT_NAME  OBJECTID  ...   Shape__Area  Shape__Length\n",
              "0          10th and Lemon Playground        40  ...   1505.957031     169.462813\n",
              "1  11th and Cecil B Moore Playground       183  ...  35754.375000     755.891229\n",
              "2        12th and Cambria Playground       263  ...  16136.882812     542.995987\n",
              "3        17th and Carpenter Play Lot       514  ...   1946.351562     184.887743\n",
              "4      18th and Jackson War Memorial       390  ...    574.429688     148.363162\n",
              "\n",
              "[5 rows x 7 columns]"
            ]
          },
          "metadata": {
            "tags": []
          },
          "execution_count": 28
        }
      ]
    },
    {
      "cell_type": "code",
      "metadata": {
        "id": "Hze2YYvHSlBb",
        "colab_type": "code",
        "colab": {}
      },
      "source": [
        ""
      ],
      "execution_count": null,
      "outputs": []
    }
  ]
}