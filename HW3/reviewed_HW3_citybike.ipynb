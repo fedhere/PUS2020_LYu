{
  "nbformat": 4,
  "nbformat_minor": 0,
  "metadata": {
    "colab": {
      "name": "reviewed HW3_citybike.ipynb",
      "provenance": [],
      "include_colab_link": true
    },
    "kernelspec": {
      "name": "python3",
      "display_name": "Python 3"
    }
  },
  "cells": [
    {
      "cell_type": "markdown",
      "metadata": {
        "id": "view-in-github",
        "colab_type": "text"
      },
      "source": [
        "<a href=\"https://colab.research.google.com/github/fedhere/PUS2020_LYu/blob/master/HW3/reviewed_HW3_citybike.ipynb\" target=\"_parent\"><img src=\"https://colab.research.google.com/assets/colab-badge.svg\" alt=\"Open In Colab\"/></a>"
      ]
    },
    {
      "cell_type": "code",
      "metadata": {
        "id": "uzRmfJcAOdul"
      },
      "source": [
        ""
      ],
      "execution_count": null,
      "outputs": []
    },
    {
      "cell_type": "code",
      "metadata": {
        "id": "hTMJ-m4Bu2mf",
        "outputId": "8542dbfb-d5a6-4fc9-9a3a-5927f4725d79",
        "colab": {
          "base_uri": "https://localhost:8080/",
          "height": 102
        }
      },
      "source": [
        "from __future__  import print_function, division\n",
        "import pylab as plt\n",
        "import pandas as pd\n",
        "import numpy as np\n",
        "\n",
        "%pylab inline"
      ],
      "execution_count": null,
      "outputs": [
        {
          "output_type": "stream",
          "text": [
            "Populating the interactive namespace from numpy and matplotlib\n"
          ],
          "name": "stdout"
        },
        {
          "output_type": "stream",
          "text": [
            "/usr/local/lib/python3.6/dist-packages/IPython/core/magics/pylab.py:161: UserWarning: pylab import has clobbered these variables: ['plt']\n",
            "`%matplotlib` prevents importing * from pylab and numpy\n",
            "  \"\\n`%matplotlib` prevents importing * from pylab and numpy\"\n"
          ],
          "name": "stderr"
        }
      ]
    },
    {
      "cell_type": "markdown",
      "metadata": {
        "id": "x7EdnSSr09Lh"
      },
      "source": [
        "IDEA:\n",
        "\n",
        "Women are less likely than men to bike for a long time.\n",
        "\n",
        "Althernative hypothesis: \n",
        "The proportion of men biking more than 30 minus is less than the proportion of women biking more than 30 minutes.\n",
        "\n",
        "\n",
        "Null hypothesis: \n",
        "\n",
        "The proportion of men biking more than 30 minus is the same or higher than the proportion of women biking more than 30 minutes.\n",
        "\n",
        "# FBB if your idea is that women are less likely then your H0 should be < and your Null should by >=. Otherwise by rejecting the Null you cannot say that the H0 is the only option left\n",
        "\n",
        "# _$H_0$_ : $\\frac{W_{\\mathrm{morethan30mins}}}{W_{\\mathrm{total}}} < \\frac{M_{\\mathrm{morethan30mins}}}{M_{\\mathrm{total}}}$\n",
        "# _$H_1$_ : $\\frac{W_{\\mathrm{morethan30mins}}}{W_{\\mathrm{total}}} >= \\frac{M_{\\mathrm{morethan30mins}}}{M_{\\mathrm{total}}}$\n",
        "\n",
        "## I will use a significance level  $\\alpha=0.05$\n",
        "\n",
        "#### which means i want the probability of getting a result at least as significant as mine to be less then 5%\n"
      ]
    },
    {
      "cell_type": "markdown",
      "metadata": {
        "id": "w5_9XIXd4tal"
      },
      "source": [
        "I am starting with a single month of data: reading data from citibike csv file from May 2019"
      ]
    },
    {
      "cell_type": "code",
      "metadata": {
        "id": "Edc2MZuSvIV6"
      },
      "source": [
        "datestring = '201905'\n",
        "cbMay19 = pd.read_csv(\"https://s3.amazonaws.com/tripdata/\"+ datestring + \"-citibike-tripdata.csv.zip\")"
      ],
      "execution_count": null,
      "outputs": []
    },
    {
      "cell_type": "code",
      "metadata": {
        "id": "i23ybIWq433_",
        "outputId": "3e46e943-d281-46df-de0d-ab2f6d14102b",
        "colab": {
          "base_uri": "https://localhost:8080/",
          "height": 373
        }
      },
      "source": [
        "cbMay19.head()"
      ],
      "execution_count": null,
      "outputs": [
        {
          "output_type": "execute_result",
          "data": {
            "text/html": [
              "<div>\n",
              "<style scoped>\n",
              "    .dataframe tbody tr th:only-of-type {\n",
              "        vertical-align: middle;\n",
              "    }\n",
              "\n",
              "    .dataframe tbody tr th {\n",
              "        vertical-align: top;\n",
              "    }\n",
              "\n",
              "    .dataframe thead th {\n",
              "        text-align: right;\n",
              "    }\n",
              "</style>\n",
              "<table border=\"1\" class=\"dataframe\">\n",
              "  <thead>\n",
              "    <tr style=\"text-align: right;\">\n",
              "      <th></th>\n",
              "      <th>tripduration</th>\n",
              "      <th>starttime</th>\n",
              "      <th>stoptime</th>\n",
              "      <th>start station id</th>\n",
              "      <th>start station name</th>\n",
              "      <th>start station latitude</th>\n",
              "      <th>start station longitude</th>\n",
              "      <th>end station id</th>\n",
              "      <th>end station name</th>\n",
              "      <th>end station latitude</th>\n",
              "      <th>end station longitude</th>\n",
              "      <th>bikeid</th>\n",
              "      <th>usertype</th>\n",
              "      <th>birth year</th>\n",
              "      <th>gender</th>\n",
              "    </tr>\n",
              "  </thead>\n",
              "  <tbody>\n",
              "    <tr>\n",
              "      <th>0</th>\n",
              "      <td>139</td>\n",
              "      <td>2019-05-01 00:00:01.9010</td>\n",
              "      <td>2019-05-01 00:02:21.5170</td>\n",
              "      <td>447</td>\n",
              "      <td>8 Ave &amp; W 52 St</td>\n",
              "      <td>40.763707</td>\n",
              "      <td>-73.985162</td>\n",
              "      <td>423</td>\n",
              "      <td>W 54 St &amp; 9 Ave</td>\n",
              "      <td>40.765849</td>\n",
              "      <td>-73.986905</td>\n",
              "      <td>31170</td>\n",
              "      <td>Subscriber</td>\n",
              "      <td>1983</td>\n",
              "      <td>1</td>\n",
              "    </tr>\n",
              "    <tr>\n",
              "      <th>1</th>\n",
              "      <td>754</td>\n",
              "      <td>2019-05-01 00:00:03.0210</td>\n",
              "      <td>2019-05-01 00:12:37.6920</td>\n",
              "      <td>3258</td>\n",
              "      <td>W 27 St &amp; 10 Ave</td>\n",
              "      <td>40.750182</td>\n",
              "      <td>-74.002184</td>\n",
              "      <td>3255</td>\n",
              "      <td>8 Ave &amp; W 31 St</td>\n",
              "      <td>40.750585</td>\n",
              "      <td>-73.994685</td>\n",
              "      <td>25560</td>\n",
              "      <td>Customer</td>\n",
              "      <td>1969</td>\n",
              "      <td>0</td>\n",
              "    </tr>\n",
              "    <tr>\n",
              "      <th>2</th>\n",
              "      <td>2308</td>\n",
              "      <td>2019-05-01 00:00:04.6270</td>\n",
              "      <td>2019-05-01 00:38:33.1710</td>\n",
              "      <td>3093</td>\n",
              "      <td>N 6 St &amp; Bedford Ave</td>\n",
              "      <td>40.717452</td>\n",
              "      <td>-73.958509</td>\n",
              "      <td>3676</td>\n",
              "      <td>Van Brunt St &amp; Van Dyke St</td>\n",
              "      <td>40.675833</td>\n",
              "      <td>-74.014726</td>\n",
              "      <td>33369</td>\n",
              "      <td>Subscriber</td>\n",
              "      <td>1978</td>\n",
              "      <td>1</td>\n",
              "    </tr>\n",
              "    <tr>\n",
              "      <th>3</th>\n",
              "      <td>143</td>\n",
              "      <td>2019-05-01 00:00:19.3340</td>\n",
              "      <td>2019-05-01 00:02:42.5200</td>\n",
              "      <td>3486</td>\n",
              "      <td>Schermerhorn St &amp; Bond St</td>\n",
              "      <td>40.688417</td>\n",
              "      <td>-73.984517</td>\n",
              "      <td>3412</td>\n",
              "      <td>Pacific St &amp; Nevins St</td>\n",
              "      <td>40.685376</td>\n",
              "      <td>-73.983021</td>\n",
              "      <td>32041</td>\n",
              "      <td>Subscriber</td>\n",
              "      <td>1997</td>\n",
              "      <td>1</td>\n",
              "    </tr>\n",
              "    <tr>\n",
              "      <th>4</th>\n",
              "      <td>138</td>\n",
              "      <td>2019-05-01 00:00:22.1840</td>\n",
              "      <td>2019-05-01 00:02:40.6480</td>\n",
              "      <td>388</td>\n",
              "      <td>W 26 St &amp; 10 Ave</td>\n",
              "      <td>40.749718</td>\n",
              "      <td>-74.002950</td>\n",
              "      <td>494</td>\n",
              "      <td>W 26 St &amp; 8 Ave</td>\n",
              "      <td>40.747348</td>\n",
              "      <td>-73.997236</td>\n",
              "      <td>35237</td>\n",
              "      <td>Subscriber</td>\n",
              "      <td>1967</td>\n",
              "      <td>1</td>\n",
              "    </tr>\n",
              "  </tbody>\n",
              "</table>\n",
              "</div>"
            ],
            "text/plain": [
              "   tripduration                 starttime  ... birth year  gender\n",
              "0           139  2019-05-01 00:00:01.9010  ...       1983       1\n",
              "1           754  2019-05-01 00:00:03.0210  ...       1969       0\n",
              "2          2308  2019-05-01 00:00:04.6270  ...       1978       1\n",
              "3           143  2019-05-01 00:00:19.3340  ...       1997       1\n",
              "4           138  2019-05-01 00:00:22.1840  ...       1967       1\n",
              "\n",
              "[5 rows x 15 columns]"
            ]
          },
          "metadata": {
            "tags": []
          },
          "execution_count": 3
        }
      ]
    },
    {
      "cell_type": "code",
      "metadata": {
        "id": "Beoz3Bts46Pq",
        "outputId": "0330720e-2f70-4070-9ca5-2b8057d3dbc7",
        "colab": {
          "base_uri": "https://localhost:8080/",
          "height": 115
        }
      },
      "source": [
        "cbMay19.columns"
      ],
      "execution_count": null,
      "outputs": [
        {
          "output_type": "execute_result",
          "data": {
            "text/plain": [
              "Index(['tripduration', 'starttime', 'stoptime', 'start station id',\n",
              "       'start station name', 'start station latitude',\n",
              "       'start station longitude', 'end station id', 'end station name',\n",
              "       'end station latitude', 'end station longitude', 'bikeid', 'usertype',\n",
              "       'birth year', 'gender'],\n",
              "      dtype='object')"
            ]
          },
          "metadata": {
            "tags": []
          },
          "execution_count": 4
        }
      ]
    },
    {
      "cell_type": "code",
      "metadata": {
        "id": "mHgln40H7boY"
      },
      "source": [
        "#keep columns that needed\n",
        "cbMay19 = cbMay19[[\"starttime\", \"stoptime\", \"gender\"]]\n",
        "cbMay19[\"date\"] = pd.to_datetime(cbMay19.starttime)\n",
        "\n",
        "# FBB try to break the line of code 70 caracters (PEP8) - where the colab line is\n",
        "# calculate the length of biking\n",
        "#cbMay19[\"length\"] = pd.to_datetime(cbMay19['stoptime']) - pd.to_datetime(cbMay19['starttime'])\n",
        "cbMay19[\"length\"] = pd.to_datetime(cbMay19['stoptime']) - \\\n",
        "                    pd.to_datetime(cbMay19['starttime'])\n"
      ],
      "execution_count": null,
      "outputs": []
    },
    {
      "cell_type": "code",
      "metadata": {
        "id": "pWiHg7z_J6Sx",
        "outputId": "cca01590-b98a-4a87-a6e3-556bb02789b2",
        "colab": {
          "base_uri": "https://localhost:8080/",
          "height": 115
        }
      },
      "source": [
        "# FBB at this point you should check the result of your operation\n",
        "cbMay19[\"length\"].head()"
      ],
      "execution_count": null,
      "outputs": [
        {
          "output_type": "execute_result",
          "data": {
            "text/plain": [
              "0   0 days 00:02:19.616000\n",
              "1   0 days 00:12:34.671000\n",
              "2   0 days 00:38:28.544000\n",
              "3   0 days 00:02:23.186000\n",
              "4   0 days 00:02:18.464000\n",
              "Name: length, dtype: timedelta64[ns]"
            ]
          },
          "metadata": {
            "tags": []
          },
          "execution_count": 6
        }
      ]
    },
    {
      "cell_type": "code",
      "metadata": {
        "id": "a2HNdHLSCXs4"
      },
      "source": [
        "# Lets separate males (m) from females (w) to test the hypotheses. \n",
        "# In this csv file gender == 1 is male, gender == 2 is female (0 is missing value) Lets plot the number of trips per week day\n",
        "cbm = cbMay19[cbMay19[\"gender\"] == 1]\n",
        "cbw = cbMay19[cbMay19[\"gender\"] == 2]"
      ],
      "execution_count": null,
      "outputs": []
    },
    {
      "cell_type": "code",
      "metadata": {
        "id": "Zm4tYZgTGiTS",
        "outputId": "db9ce4fc-ed84-4acb-e70b-d99ddd9464ad",
        "colab": {
          "base_uri": "https://localhost:8080/",
          "height": 343
        }
      },
      "source": [
        "#  visualiza data \n",
        "\n",
        "mins_w = cbw[\"length\"][cbw[\"length\"] > '00:30:00.000000'] / np.timedelta64(1, 'm')\n",
        "mean_w = mins_w.mean()\n",
        "median_w = mins_w.median()\n",
        "std_w = mins_w.std()\n",
        "\n",
        "ax = mins_w.hist(bins = 10)\n",
        "ax.axvline(x=mean_w, c=\"orange\", label=\"mean\")\n",
        "ax.axvline(x=median_w, c=\"green\", label=\"median\")\n",
        "ax.set_xlabel(\"length of biking\")\n",
        "ax.set_ylabel(\"number of counts\")\n",
        "ax.legend();\n",
        "plt.title(\"women biking length distribution(length more than 30 minutes)\")\n",
        "# FBB try to break the line of code 70 caracters (PEP8) - where the colab line is\n",
        "\n",
        "print(\"the mean of women biking time more than 30 minutes is \" + \n",
        "      \"{mean_w} minutes\".format(mean_w = round(mean_w, 3)))\n",
        "print(\"the median of women biking time more than 30 minutes is {median_w} minutes\".format(median_w = round(median_w, 3)))\n",
        "print(\"the standard deviation of women biking time more than 30 minutes is {std_w} minutes\".format(std_w = round(std_w, 3)))\n"
      ],
      "execution_count": null,
      "outputs": [
        {
          "output_type": "stream",
          "text": [
            "the mean of women biking time more than 30 minutes is 69.516 minutes\n",
            "the median of women biking time more than 30 minutes is 37.233 minutes\n",
            "the standard deviation of women biking time more than 30 minutes is 597.77 minutes\n"
          ],
          "name": "stdout"
        },
        {
          "output_type": "display_data",
          "data": {
            "image/png": "[encoded data removed]",
            "text/plain": [
              "<Figure size 432x288 with 1 Axes>"
            ]
          },
          "metadata": {
            "tags": [],
            "needs_background": "light"
          }
        }
      ]
    },
    {
      "cell_type": "markdown",
      "metadata": {
        "id": "oKPGkABYkR7m"
      },
      "source": [
        "Figure Caption: the above figure indicates the distribution of women biking time more than 30 minutes. The xlabel is the length of biking and the ylabel is the number of counts. Most of the biking length are concentrated between 0-5000minutes. Since mean value is larger than median value, the distribution is positive skew and the mass of the distribution is concentrated on the left of the figure."
      ]
    },
    {
      "cell_type": "markdown",
      "metadata": {
        "id": "li1f1qpEK3Q2"
      },
      "source": [
        "# FBB I agree it is a good idea to remove rides with excessive duration but there is a problem here: 120 is chosen arbitrarily. 120 minutes is a very reasonable ride lenght. Also a trip durations do not need to cover bike time only: one may rent a bike for a day and make multiple trips. Inspecting the data may reveal different clusters of single ride, multirides etc. Additionally splitting the communiters (regular users) from the costumers (occasional users) might have helped removing turists. Turists may have radically different usage patterns."
      ]
    },
    {
      "cell_type": "code",
      "metadata": {
        "id": "EZxZT5ynLbim",
        "outputId": "575b1c0b-1f6b-479c-c63e-3b0d40fb1ab6",
        "colab": {
          "base_uri": "https://localhost:8080/",
          "height": 490
        }
      },
      "source": [
        "mins_w = np.log10(cbw[\"length\"][cbw[\"length\"] > '00:30:00.000000'] / np.timedelta64(1, 'm'))\n",
        "mean_w = mins_w.mean()\n",
        "median_w = mins_w.median()\n",
        "std_w = mins_w.std()\n",
        "\n",
        "ax = mins_w.hist(bins = 100)\n",
        "ax.axvline(x=mean_w, c=\"orange\", label=\"mean\")\n",
        "ax.axvline(x=median_w, c=\"green\", label=\"median\")\n",
        "ax.set_xlabel(\"length of biking\")\n",
        "ax.set_ylabel(\"number of counts\")\n",
        "ax.legend();\n",
        "plt.yscale('log')\n",
        "plt.title(\"women biking length distribution(length more than 30 minutes)\")\n"
      ],
      "execution_count": null,
      "outputs": [
        {
          "output_type": "execute_result",
          "data": {
            "text/plain": [
              "9          1.658567\n",
              "39         1.529576\n",
              "57         1.522264\n",
              "75         1.516483\n",
              "170        1.633395\n",
              "             ...   \n",
              "1924276    1.609518\n",
              "1924314    1.604047\n",
              "1924391    1.655005\n",
              "1924447    1.557885\n",
              "1924460    1.515635\n",
              "Name: length, Length: 48012, dtype: float64"
            ]
          },
          "metadata": {
            "tags": []
          },
          "execution_count": 14
        },
        {
          "output_type": "display_data",
          "data": {
            "image/png": "[encoded data removed]",
            "text/plain": [
              "<Figure size 432x288 with 1 Axes>"
            ]
          },
          "metadata": {
            "tags": [],
            "needs_background": "light"
          }
        }
      ]
    },
    {
      "cell_type": "markdown",
      "metadata": {
        "id": "cMRUDu3uMuKp"
      },
      "source": [
        "FBB Based on this plot above which is a logscale plot of your plot I would have cut at 10^2.5 ~ 300min"
      ]
    },
    {
      "cell_type": "code",
      "metadata": {
        "id": "Cf4nqCChPWeG",
        "outputId": "c8caa413-cacf-4439-bcca-9b245e088951",
        "colab": {
          "base_uri": "https://localhost:8080/",
          "height": 363
        }
      },
      "source": [
        "# since it is hard to see the distribution, lets only keep the data less than 120 and see the distribution\n",
        "ax = mins_w[mins_w < 120].hist(bins = 10)\n",
        "mean_w_lessthan120 = mins_w[mins_w < 120].mean()\n",
        "median_w_lessthan120 = mins_w[mins_w < 120].median()\n",
        "std_w_lessthan120 = mins_w[mins_w < 120].std()\n",
        "ax.axvline(x=mean_w, c=\"orange\", label=\"mean\")\n",
        "ax.axvline(x=median_w, c=\"green\", label=\"median\")\n",
        "ax.set_xlabel(\"length of biking\")\n",
        "ax.set_ylabel(\"number of counts\")\n",
        "ax.legend();\n",
        "plt.title(\"women biking length distribution(length between 30 minutes to 120 minutes)\")\n",
        "\n",
        "print(\"the mean of women biking time more than 30 minutes(only keep the data less than 120mins) is {mean_w} minutes\".format(mean_w = round(mean_w_lessthan120, 3)))\n",
        "print(\"the median of women biking time more than 30 minutes(only keep the data less than 120mins) is {median_w} minutes\".format(median_w = round(median_w_lessthan120, 3)))\n",
        "print(\"the standard deviation of women biking time more than 30 minutes(only keep the data less than 120mins) is {std_w} minutes\".format(std_w = round(std_w_lessthan120, 3)))"
      ],
      "execution_count": null,
      "outputs": [
        {
          "output_type": "stream",
          "text": [
            "the mean of women biking time more than 30 minutes(only keep the data less than 120mins) is 1.623 minutes\n",
            "the median of women biking time more than 30 minutes(only keep the data less than 120mins) is 1.571 minutes\n",
            "the standard deviation of women biking time more than 30 minutes(only keep the data less than 120mins) is 0.202 minutes\n"
          ],
          "name": "stdout"
        },
        {
          "output_type": "display_data",
          "data": {
            "image/png": "[encoded data removed]",
            "text/plain": [
              "<Figure size 432x288 with 1 Axes>"
            ]
          },
          "metadata": {
            "tags": [],
            "needs_background": "light"
          }
        }
      ]
    },
    {
      "cell_type": "markdown",
      "metadata": {
        "id": "PzhDWJcDla7D"
      },
      "source": [
        "Figure Caption: the above figure only showed the data less than 120mins. The xlabel is the length of biking and the ylabel is the number of counts. Since mean value is larger than median value, the distribution is positive skew. Compared to the previous image, the mean value has decreased a lot (from 70 minutes to 41 minutes). But the median value does not change much, which is because the mass of the distribution is concentrated on the left of the figure. \n",
        "\n",
        "# FBB good interpretation"
      ]
    },
    {
      "cell_type": "code",
      "metadata": {
        "id": "IvL_4FFP5Jv0",
        "outputId": "eb77a14b-81e9-4d3c-bea1-cad1bb38328e",
        "colab": {
          "base_uri": "https://localhost:8080/",
          "height": 343
        }
      },
      "source": [
        "mins_w_nomorethan30 = cbw[\"length\"][cbw[\"length\"] <= '00:30:00.000000'] / np.timedelta64(1, 'm')\n",
        "mean_w_nomorethan30 = mins_w_nomorethan30.mean()\n",
        "median_w_nomorethan30 = mins_w_nomorethan30.median()\n",
        "std_w_nomorethan30 = mins_w_nomorethan30.std()\n",
        "\n",
        "ax = mins_w_nomorethan30.hist(bins = 10)\n",
        "ax.axvline(x=mean_w_nomorethan30, c=\"orange\", label=\"mean\")\n",
        "ax.axvline(x=median_w_nomorethan30, c=\"green\", label=\"median\")\n",
        "ax.set_xlabel(\"length of biking\")\n",
        "ax.set_ylabel(\"number of counts\")\n",
        "ax.legend();\n",
        "plt.title(\"women biking length distribution(length no more than 30 minutes)\")\n",
        "\n",
        "print(\"the mean of women biking time no more than 30 minutes is {mean_w} minutes\".format(mean_w = round(mean_w_nomorethan30, 3)))\n",
        "print(\"the median of women biking time no more than 30 minutes is {median_w} minutes\".format(median_w = round(median_w_nomorethan30, 3)))\n",
        "print(\"the standard deviation of women biking time no more than 30 minutes is {std_w} minutes\".format(std_w = round(std_w_nomorethan30, 3)))\n"
      ],
      "execution_count": null,
      "outputs": [
        {
          "output_type": "stream",
          "text": [
            "the mean of women biking time no more than 30 minutes is 12.336 minutes\n",
            "the median of women biking time no more than 30 minutes is 10.743 minutes\n",
            "the standard deviation of women biking time no more than 30 minutes is 7.131 minutes\n"
          ],
          "name": "stdout"
        },
        {
          "output_type": "display_data",
          "data": {
            "image/png": "[encoded data removed]",
            "text/plain": [
              "<Figure size 432x288 with 1 Axes>"
            ]
          },
          "metadata": {
            "tags": [],
            "needs_background": "light"
          }
        }
      ]
    },
    {
      "cell_type": "markdown",
      "metadata": {
        "id": "r-SidJNv5rHD"
      },
      "source": [
        "Figure Caption: The above figure indicates the distribution of counts for women biking length no more than 30 minutes. The xlabel is the length of biking and the ylabel is the number of counts. Since mean value is larger than median value, the distribution is positive skew. "
      ]
    },
    {
      "cell_type": "code",
      "metadata": {
        "id": "wUar3ieaa7NQ",
        "outputId": "16bb7043-e174-4e59-9b04-6c31af00574c",
        "colab": {
          "base_uri": "https://localhost:8080/",
          "height": 343
        }
      },
      "source": [
        "\n",
        "mins_m = cbm[\"length\"][cbm[\"length\"] > '00:30:00.000000'] / np.timedelta64(1, 'm')\n",
        "mean_m = mins_m.mean()\n",
        "median_m = mins_m.median()\n",
        "std_m = mins_m.std()\n",
        "\n",
        "ax = mins_m.hist(bins = 10)\n",
        "ax.axvline(x=mean_m, c=\"orange\", label=\"mean\")\n",
        "ax.axvline(x=median_m, c=\"green\", label=\"median\")\n",
        "plt.title(\"men biking length distribution(length more than 30 minutes)\")\n",
        "ax.set_xlabel(\"length of biking\")\n",
        "ax.set_ylabel(\"number of counts\")\n",
        "ax.legend();\n",
        "\n",
        "print(\"the mean of men biking time more than 30 minutes is {mean_m} minutes\".format(mean_m = round(mean_m, 3)))\n",
        "print(\"the median of men biking time more than 30 minutes is {median_m} minutes\".format(median_m = round(median_m, 3)))\n",
        "print(\"the standard deviation of men biking time more than 30 minutes is {std_m} minutes\".format(std_m = round(std_m, 3)))\n"
      ],
      "execution_count": null,
      "outputs": [
        {
          "output_type": "stream",
          "text": [
            "the mean of men biking time more than 30 minutes is 69.535 minutes\n",
            "the median of men biking time more than 30 minutes is 36.746 minutes\n",
            "the standard deviation of men biking time more than 30 minutes is 635.05 minutes\n"
          ],
          "name": "stdout"
        },
        {
          "output_type": "display_data",
          "data": {
            "image/png": "[encoded data removed]",
            "text/plain": [
              "<Figure size 432x288 with 1 Axes>"
            ]
          },
          "metadata": {
            "tags": [],
            "needs_background": "light"
          }
        }
      ]
    },
    {
      "cell_type": "markdown",
      "metadata": {
        "id": "g48zF9dtmntV"
      },
      "source": [
        "Figure Caption: the above figure indicates the distribution of men biking time more than 30 minutes. The xlabel is the length of biking and the ylabel is the number of counts. Most of the biking length are concentrated between 0-10000minutes. Since mean value is larger than median value, the distribution is positive skew and the mass of the distribution is concentrated on the left of the figure."
      ]
    },
    {
      "cell_type": "code",
      "metadata": {
        "id": "HS0mJBntbyFk",
        "outputId": "1b70778d-44a7-4f35-8297-c4a1ea62f144",
        "colab": {
          "base_uri": "https://localhost:8080/",
          "height": 363
        }
      },
      "source": [
        "# since it is hard to see the distribution, lets only keep the data less than 120 and see the distribution\n",
        "\n",
        "mean_m_lessthan120 = mins_m[mins_m < 120].mean()\n",
        "median_m_lessthan120 = mins_m[mins_m < 120].median()\n",
        "std_m_lessthan120 = mins_m[mins_m < 120].std()\n",
        "\n",
        "ax = mins_m[mins_m < 120].hist(bins = 10)\n",
        "ax.axvline(x=mean_m_lessthan120, c=\"orange\", label=\"mean\")\n",
        "ax.axvline(x=median_m_lessthan120, c=\"green\", label=\"median\")\n",
        "plt.title(\"men biking length distribution(length between 30 minutes to 120 minutes)\")\n",
        "ax.set_xlabel(\"length of biking\")\n",
        "ax.set_ylabel(\"number of counts\")\n",
        "ax.legend();\n",
        "\n",
        "print(\"the mean of men biking time more than 30 minutes(only keep the data less than 120mins) is {mean_m} minutes\".format(mean_m = round(mean_m_lessthan120, 3)))\n",
        "print(\"the median of men biking time more than 30 minutes(only keep the data less than 120mins) is {median_m} minutes\".format(median_m = round(median_m_lessthan120, 3)))\n",
        "print(\"the standard deviation of men biking time more than 30 minutes(only keep the data less than 120mins) is {std_m} minutes\".format(std_m = round(std_m_lessthan120, 3)))"
      ],
      "execution_count": null,
      "outputs": [
        {
          "output_type": "stream",
          "text": [
            "the mean of men biking time more than 30 minutes(only keep the data less than 120mins) is 40.128 minutes\n",
            "the median of men biking time more than 30 minutes(only keep the data less than 120mins) is 36.531 minutes\n",
            "the standard deviation of men biking time more than 30 minutes(only keep the data less than 120mins) is 12.234 minutes\n"
          ],
          "name": "stdout"
        },
        {
          "output_type": "display_data",
          "data": {
            "image/png": "[encoded data removed]",
            "text/plain": [
              "<Figure size 432x288 with 1 Axes>"
            ]
          },
          "metadata": {
            "tags": [],
            "needs_background": "light"
          }
        }
      ]
    },
    {
      "cell_type": "markdown",
      "metadata": {
        "id": "VCjYfVj6nqja"
      },
      "source": [
        "Figure Caption: the above figure only showed the data less than 120mins. The xlabel is the length of biking and the ylabel is the number of counts. Since mean value is larger than median value, the distribution is positive skew.Compared to the previous image, the mean value has decreased a lot (from 70 minutes to 40 minutes). But the median value does not change much, which is because the mass of the distribution is concentrated on the left of the figure.\n",
        "Moreover, the mean and median value does not change much. Compared to women, the median value of man is a little bit smaller than the median value of women, and the mean value of man is a little bit smaller than the mean value of women. "
      ]
    },
    {
      "cell_type": "code",
      "metadata": {
        "id": "KnAoEd4o54AJ",
        "outputId": "2da15b08-8223-4ae4-dee9-b689e0dc9b65",
        "colab": {
          "base_uri": "https://localhost:8080/",
          "height": 343
        }
      },
      "source": [
        "mins_m_nomorethan30 = cbm[\"length\"][cbm[\"length\"] <= '00:30:00.000000'] / np.timedelta64(1, 'm')\n",
        "mean_m_nomorethan30 = mins_m_nomorethan30.mean()\n",
        "median_m_nomorethan30 = mins_m_nomorethan30.median()\n",
        "std_m_nomorethan30 = mins_m_nomorethan30.std()\n",
        "\n",
        "ax = mins_m_nomorethan30.hist(bins = 10)\n",
        "ax.axvline(x=mean_m_nomorethan30, c=\"orange\", label=\"mean\")\n",
        "ax.axvline(x=median_m_nomorethan30, c=\"green\", label=\"median\")\n",
        "ax.set_xlabel(\"length of biking\")\n",
        "ax.set_ylabel(\"number of counts\")\n",
        "ax.legend();\n",
        "plt.title(\"men biking length distribution(length no more than 30 minutes)\")\n",
        "\n",
        "print(\"the mean of men biking time no more than 30 minutes is {mean_m} minutes\".format(mean_m = round(mean_m_nomorethan30, 3)))\n",
        "print(\"the median of men biking time no more than 30 minutes is {median_m} minutes\".format(median_m = round(median_m_nomorethan30, 3)))\n",
        "print(\"the standard deviation of men biking time no more than 30 minutes is {std_m} minutes\".format(std_m = round(std_m_nomorethan30, 3)))"
      ],
      "execution_count": null,
      "outputs": [
        {
          "output_type": "stream",
          "text": [
            "the mean of men biking time no more than 30 minutes is 10.915 minutes\n",
            "the median of men biking time no more than 30 minutes is 9.1 minutes\n",
            "the standard deviation of men biking time no more than 30 minutes is 6.843 minutes\n"
          ],
          "name": "stdout"
        },
        {
          "output_type": "display_data",
          "data": {
            "image/png": "[encoded data removed]",
            "text/plain": [
              "<Figure size 432x288 with 1 Axes>"
            ]
          },
          "metadata": {
            "tags": [],
            "needs_background": "light"
          }
        }
      ]
    },
    {
      "cell_type": "markdown",
      "metadata": {
        "id": "7c-ekfF06Zs7"
      },
      "source": [
        "The above figure indicates the distribution of counts for men biking length no more than 30 minutes. The xlabel is the length of biking and the ylabel is the number of counts. Since mean value is larger than median value, the distribution is positive skew."
      ]
    },
    {
      "cell_type": "code",
      "metadata": {
        "id": "Twd08qBwd6Ej",
        "outputId": "ca1183f9-472c-40be-ae64-0c887b021037",
        "colab": {
          "base_uri": "https://localhost:8080/",
          "height": 393
        }
      },
      "source": [
        "# calculate the counts \n",
        "counts_w = cbw[\"length\"].groupby([cbw[\"length\"] > '00:30:00.000000']).count()\n",
        "counts_m = cbm[\"length\"].groupby([cbm[\"length\"] > '00:30:00.000000']).count()\n",
        "\n",
        "plt.figure(figsize=(10, 4))\n",
        "ax = counts_w.plot(kind=\"bar\", color='IndianRed', label='female')\n",
        "ax = counts_m.plot(kind=\"bar\", color='SteelBlue', alpha=0.5,label='male', ax=ax)\n",
        "ax.xaxis.set_ticklabels(['biking no more than 30mins', 'biking more than 30mins'], rotation = 45)\n",
        "\n",
        "plt.title(\"biking length(more than 30 minutes) by gender May 2019\");\n",
        "plt.ylabel(\"number of rides\");\n",
        "plt.xlabel(\"\");\n",
        "plt.legend(loc = \"upper right\")"
      ],
      "execution_count": null,
      "outputs": [
        {
          "output_type": "execute_result",
          "data": {
            "text/plain": [
              "<matplotlib.legend.Legend at 0x7f09cf5c1c88>"
            ]
          },
          "metadata": {
            "tags": []
          },
          "execution_count": 31
        },
        {
          "output_type": "display_data",
          "data": {
            "image/png": "[encoded data removed]",
            "text/plain": [
              "<Figure size 720x288 with 1 Axes>"
            ]
          },
          "metadata": {
            "tags": [],
            "needs_background": "light"
          }
        }
      ]
    },
    {
      "cell_type": "markdown",
      "metadata": {
        "id": "kd7n8ObPqWb9"
      },
      "source": [
        "Figure Caption: this figure indicated the biking length by gender. From the figure, it shows that more people are biking no more than 30mins. The number of man biking no more than 30mins is larger than the number of women biking no more than 30mins. For biking more than 30mins, it is not obvious in this figure."
      ]
    },
    {
      "cell_type": "code",
      "metadata": {
        "id": "sq_LXZ6E9_k0",
        "outputId": "253d9933-a24d-4c14-9196-0142beaa0ac0",
        "colab": {
          "base_uri": "https://localhost:8080/",
          "height": 431
        }
      },
      "source": [
        "# prepare the fraction of data\n",
        "p_w = counts_w[1]/len(cbw)\n",
        "p_m =counts_m[1]/len(cbm)\n",
        "\n",
        "error_w = std_w/len(cbw)\n",
        "error_m = std_m/len(cbm)\n",
        "\n",
        "fig = plt.figure(figsize=(6, 7))\n",
        "plt.errorbar([0.4], [p_m], yerr=[error_m], fmt='o', label='men')\n",
        "plt.errorbar([0.2], [p_w], yerr=[error_w], fmt='o', label='women')\n",
        "plt.ylabel(\"fraction\")\n",
        "plt.title(\"fraction of normalized biking length by gender\")\n",
        "plt.xticks([])\n",
        "plt.xlim(0, 0.5)\n",
        "plt.legend();"
      ],
      "execution_count": null,
      "outputs": [
        {
          "output_type": "display_data",
          "data": {
            "image/png": "[encoded data removed]",
            "text/plain": [
              "<Figure size 432x504 with 1 Axes>"
            ]
          },
          "metadata": {
            "tags": [],
            "needs_background": "light"
          }
        }
      ]
    },
    {
      "cell_type": "markdown",
      "metadata": {
        "id": "toQkhaIQeYhy"
      },
      "source": [
        "### Is the percentage of women that ride on weekends lower or equal to that of man?\n",
        "# FBB you forgot to change this statement ^^^ you are analyzing ride duration, not biking on week vs weekends\n",
        "\n",
        "## The statistics is: \n",
        "# $z = \\frac{(p_0 - p_1)}{SE} $\n",
        "# $p =\\frac{p_0  n_0 + p_1  n_1}{n_0+n_1}$\n",
        "# $SE = \\sqrt{ p  ( 1 - p )  (\\frac{1}{n_0} + \\frac{1}{n_1}) }$\n",
        "## and in this notation \n",
        "# $p_0 = \\frac{W_{\\mathrm{morethan30mins}}}{W_{\\mathrm{total}}}$\n",
        "### and \n",
        "# $p_1 = \\frac{M_{\\mathrm{morethan30mins}}}{M_{\\mathrm{total}}}$\n"
      ]
    },
    {
      "cell_type": "code",
      "metadata": {
        "id": "LEIfj547PqNG",
        "outputId": "30d194c0-b5c6-4c18-9c62-1b77471bac35",
        "colab": {
          "base_uri": "https://localhost:8080/",
          "height": 33
        }
      },
      "source": [
        "\n",
        "P0mP1 = p_w - p_m\n",
        "p_w, p_m, P0mP1"
      ],
      "execution_count": null,
      "outputs": [
        {
          "output_type": "execute_result",
          "data": {
            "text/plain": [
              "(0.10378437268299853, 0.07294213308455308, 0.030842239598445453)"
            ]
          },
          "metadata": {
            "tags": []
          },
          "execution_count": 33
        }
      ]
    },
    {
      "cell_type": "code",
      "metadata": {
        "id": "Bw5TRNereBf7",
        "outputId": "2c233e10-c491-4137-f471-793bea6adb6d",
        "colab": {
          "base_uri": "https://localhost:8080/",
          "height": 50
        }
      },
      "source": [
        "P0mP1 = p_w - p_m\n",
        "print (\"difference between man and women on weekend: {:.2f}\".format(P0mP1))\n",
        "if P0mP1 <= 0:\n",
        "    # we are done...\n",
        "    print(\"In accordance with Null Hypothesis\")\n",
        "else:\n",
        "    # morework to do\n",
        "    print (\"We must check the significance before we reject the Null Hypothesis\")"
      ],
      "execution_count": null,
      "outputs": [
        {
          "output_type": "stream",
          "text": [
            "difference between man and women on weekend: 0.03\n",
            "We must check the significance before we reject the Null Hypothesis\n"
          ],
          "name": "stdout"
        }
      ]
    },
    {
      "cell_type": "markdown",
      "metadata": {
        "id": "7UsUy5rlRL5C"
      },
      "source": [
        "# FBB this is incorrect"
      ]
    },
    {
      "cell_type": "code",
      "metadata": {
        "id": "7KCWNwHSRFNT",
        "outputId": "bcf2874c-d82e-4a90-b3fc-31a7b3a4c6f8",
        "colab": {
          "base_uri": "https://localhost:8080/",
          "height": 50
        }
      },
      "source": [
        "\n",
        "print (\"difference between man and women on weekend: {:.2f}\".format(P0mP1))\n",
        "if P0mP1 >= 0:\n",
        "    # we are done...\n",
        "    print(\"In accordance with Null Hypothesis\")\n",
        "else:\n",
        "    # morework to do\n",
        "    print (\"We must check the significance before we reject the Null Hypothesis\")"
      ],
      "execution_count": null,
      "outputs": [
        {
          "output_type": "stream",
          "text": [
            "difference between man and women on weekend: 0.03\n",
            "In accordance with Null Hypothesis\n"
          ],
          "name": "stdout"
        }
      ]
    },
    {
      "cell_type": "markdown",
      "metadata": {
        "id": "mfDhfIJXPJxZ"
      },
      "source": [
        "# FBB ^^^ you forgot to replace weekend with duration of the trip and your null hypothesis is for p_w > p_m so your result p_w > p_m. You Null cannot be falsified"
      ]
    },
    {
      "cell_type": "code",
      "metadata": {
        "id": "0gq5Uy9se2Xy",
        "outputId": "aced68ea-e3da-4e21-bfdf-e740561228ea",
        "colab": {
          "base_uri": "https://localhost:8080/",
          "height": 33
        }
      },
      "source": [
        "def ztest_p(p0, p1, n0, n1): \n",
        "  return (p0 * n0 + p1 * n1) / (n0 + n1)\n",
        "def ztest_se(p0, p1, n0, n1):\n",
        "  p = ztest_p(p0, p1, n0, n1)\n",
        "  return np.sqrt(p * (1 - p) * (1.0 / n0 + 1.0 / n1)) #standard error\n",
        "def zscore(p0, p1, n0, n1) : \n",
        "  return (p0 - p1) / ztest_se(p0, p1, n0, n1)\n",
        "\n",
        "# calculations\n",
        "\n",
        "z = zscore(p_w, p_m, len(cbw), len(cbm))\n",
        "print (\"The z statistics is %.2f\"%z) "
      ],
      "execution_count": null,
      "outputs": [
        {
          "output_type": "stream",
          "text": [
            "The z statistics is 65.96\n"
          ],
          "name": "stdout"
        }
      ]
    },
    {
      "cell_type": "markdown",
      "metadata": {
        "id": "B1gyZn0UggT3"
      },
      "source": [
        "## The largest number reported in  z stats tables is 3, which gives  a p value\n",
        "## $p <0.0002$, which is smaller then my chosen $\\alpha=0.05$ - so yes, it is statistically significant "
      ]
    },
    {
      "cell_type": "markdown",
      "metadata": {
        "id": "rHRT8wePgl_3"
      },
      "source": [
        "# Let's check the _effect size_: \n",
        "# there are 2 formulae I find in the literature\n",
        "# $r = \\frac{z}{\\sqrt{(n_0+n_1)}}$\n",
        "# and\n",
        "# $h =  2 (\\arcsin \\sqrt{p_0} -  \\arcsin \\sqrt{p_1} )$. https://en.wikipedia.org/wiki/Cohen%27s_h"
      ]
    },
    {
      "cell_type": "code",
      "metadata": {
        "id": "KOZ4_RTct40O"
      },
      "source": [
        "def r_effectsize (z, n0, n1) :\n",
        "  return z / np.sqrt(n0 + n0)\n",
        "def h_effectsize (p0, p1): \n",
        "  return 2 * (np.arcsin(np.sqrt(p0)) - np.arcsin(np.sqrt(p1)))"
      ],
      "execution_count": null,
      "outputs": []
    },
    {
      "cell_type": "code",
      "metadata": {
        "id": "-D12fyQ3t7NL",
        "outputId": "4ce3f15d-fad2-4581-fdcc-d5d516c5509c",
        "colab": {
          "base_uri": "https://localhost:8080/",
          "height": 33
        }
      },
      "source": [
        "r = r_effectsize(z, len(cbw), len(cbm))\n",
        "print ('r effect size {:.2f}'.format(r))"
      ],
      "execution_count": null,
      "outputs": [
        {
          "output_type": "stream",
          "text": [
            "r effect size 0.07\n"
          ],
          "name": "stdout"
        }
      ]
    },
    {
      "cell_type": "code",
      "metadata": {
        "id": "t_kdqhE7uBqP",
        "outputId": "e87ba3c2-5eec-44d7-f6e0-d3cf522a9918",
        "colab": {
          "base_uri": "https://localhost:8080/",
          "height": 33
        }
      },
      "source": [
        "h = h_effectsize(p_w, p_m)\n",
        "print (\"Cohen's h effect size {:.2f}\".format(h))"
      ],
      "execution_count": null,
      "outputs": [
        {
          "output_type": "stream",
          "text": [
            "Cohen's h effect size 0.11\n"
          ],
          "name": "stdout"
        }
      ]
    },
    {
      "cell_type": "markdown",
      "metadata": {
        "id": "Kkbfx_CRuH6h"
      },
      "source": [
        "In all these cases we have SMALL EFFECT SIZE"
      ]
    },
    {
      "cell_type": "code",
      "metadata": {
        "id": "0KDbhab0uFgF"
      },
      "source": [
        ""
      ],
      "execution_count": null,
      "outputs": []
    },
    {
      "cell_type": "code",
      "metadata": {
        "id": "ETLjz3xJKw5G"
      },
      "source": [
        ""
      ],
      "execution_count": null,
      "outputs": []
    },
    {
      "cell_type": "code",
      "metadata": {
        "id": "dYlxcSzXLY3_"
      },
      "source": [
        ""
      ],
      "execution_count": null,
      "outputs": []
    }
  ]
}